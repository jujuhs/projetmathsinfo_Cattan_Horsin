{
 "cells": [
  {
   "cell_type": "markdown",
   "metadata": {},
   "source": [
    "#   **Projet Maths Info Horsin/Cattan**\n",
    "\n",
    "\n",
    "\n"
   ]
  },
  {
   "cell_type": "markdown",
   "metadata": {},
   "source": [
    "Soit $f :  \\mathbb{R^2} \\to \\mathbb{R}$ et $c \\in \\mathbb{R}$.\n",
    "\n",
    "Le but du projet est de trouver l'ensemble $\\{ \\:(x,y) \\:/ \\:f(x,y)=c \\: \\}$.\n",
    "\n",
    "# 1ère Partie: **Contour Simple**\n",
    "\n",
    "## L'amorce\n",
    "\n",
    "Nous avons choisi d'utiliser un algorithme dichotomique dans un premier temps, qui est plus robuste qu'un algorithme de Newton. En effet, n'ayant aucune information sur la valeur initiale (indispensable pour garantir la convergence), il semble plus cohérent d'utiliser une dichotomie.\n",
    " "
   ]
  },
  {
   "cell_type": "code",
   "execution_count": 1,
   "metadata": {},
   "outputs": [],
   "source": [
    "def find_seed(f, c=0.0, x=0.0, eps = 2**(-26)):\n",
    "    if not f(x,1.0)<= c <= f(x,0.0) and not f(x,0 )<= c <= f(x,1.0):\n",
    "            return None  \n",
    "    a = 0\n",
    "    b = 1\n",
    "    t = 0.5\n",
    "    while abs(f(x,t)-c) > eps :  \n",
    "        if (f(x,a)-c)*(f(x,t)-c) >= 0:\n",
    "            a = t\n",
    "        else :\n",
    "            b = t\n",
    "        t = (a+b)/2\n",
    "    return t "
   ]
  },
  {
   "cell_type": "markdown",
   "metadata": {},
   "source": [
    "### Le contour simple\n",
    "\n",
    "Pour la suite, nous allons définir quelques fonctions dont nous aurons besoin pour la fonction simple_contour.\n",
    "Commençons par importer les bibliothèques utiles."
   ]
  },
  {
   "cell_type": "code",
   "execution_count": 2,
   "metadata": {},
   "outputs": [],
   "source": [
    "import matplotlib.pyplot as plt  \n",
    "import autograd\n",
    "from autograd import numpy as np"
   ]
  },
  {
   "cell_type": "markdown",
   "metadata": {},
   "source": [
    "Définissons maintenant une fonction permettant de calculer une distance euclidienne dans $\\mathbb{R^2}$"
   ]
  },
  {
   "cell_type": "code",
   "execution_count": 3,
   "metadata": {},
   "outputs": [],
   "source": [
    "def distanceeucl(x, y):\n",
    "    return np.sqrt(((x[0]-y[0])**2)+((x[1]-y[1])**2))"
   ]
  },
  {
   "cell_type": "markdown",
   "metadata": {},
   "source": [
    "Définissons ensuite une fonction permettant de donner à un vecteur une norme souhaitée."
   ]
  },
  {
   "cell_type": "code",
   "execution_count": 4,
   "metadata": {},
   "outputs": [],
   "source": [
    "def normalisation(vecteur,normev):\n",
    "    norme = distanceeucl(vecteur,(0,0))\n",
    "    x = vecteur[0]\n",
    "    y = vecteur[1]\n",
    "    return (x*normev/norme, y*normev/norme)"
   ]
  },
  {
   "cell_type": "markdown",
   "metadata": {},
   "source": [
    "Définissons enfin la fonction gradient qui calcule le gradient à l'aide de la bibliothèque autograd. "
   ]
  },
  {
   "cell_type": "code",
   "execution_count": 5,
   "metadata": {},
   "outputs": [],
   "source": [
    "def grad(f, x, y):\n",
    "    g = autograd.grad\n",
    "    return np.r_[g(f, 0)(x, y), g(f, 1)(x, y)]"
   ]
  },
  {
   "cell_type": "markdown",
   "metadata": {},
   "source": [
    "On définit le système à deux équations, et la matrice jacobienne associée."
   ]
  },
  {
   "cell_type": "code",
   "execution_count": 6,
   "metadata": {},
   "outputs": [],
   "source": [
    "def F(x, y): #on définit le système à 2 équations\n",
    "        return np.array([f(x,y) - c,(x - point_précédent[0])**2 + (y - point_précédent[1])**2 - delta**2])\n",
    "        \n",
    "def Jacob(F, x, y):  #on définit la jacobienne.\n",
    "    j = autograd.jacobian\n",
    "    return np.c_[j(F,0)(x, y),j(F,1)(x, y)]"
   ]
  },
  {
   "cell_type": "markdown",
   "metadata": {},
   "source": [
    "Nous pouvons maintenant définir la fonction simple_contour qui blablabla faut expliquer et commenter le programme"
   ]
  },
  {
   "cell_type": "code",
   "execution_count": 7,
   "metadata": {},
   "outputs": [],
   "source": [
    "def simple_contour(f,c=0.0,delta=0.01):\n",
    "    #on commence par initialiser le programme en calculant le deuxième point\n",
    "    \n",
    "    X = [0.0]  #on définit un premier point sur l'arête gauche à l'aide de find_seed\n",
    "    if find_seed(f,c,0.0) != None:\n",
    "        Y = [find_seed(f,c,0.0)]\n",
    "    else:\n",
    "        return \"première valeur pas entre f(a) et f(b)\"\n",
    "    \n",
    "    point_précédent = [X[-1],Y[-1]]\n",
    "    gradient = grad(f, point_précédent[0], point_précédent[1]) #on calcule le gradient au premier point trouvé\n",
    "    tangente = [-gradient[1], gradient[0]] #le gradient dirige la normale à la tangente.\n",
    "    tangente_normalisée = normalisation(tangente, delta) #la norme du vecteur tangent est delta\n",
    "    \n",
    "    if tangente_normalisée[0] >= 0 :  #on vérifie que le point choisi en second partira bien vers la droite (x>=0)\n",
    "        deuxième_point = (point_précédent[0] + tangente_normalisée[0],\n",
    "                          point_précédent[1] + tangente_normalisée[1]\n",
    "                         )\n",
    "    else : \n",
    "        deuxième_point = (point_précédent[0] - tangente_normalisée[0],\n",
    "                          point_précédent[1] - tangente_normalisée[1]\n",
    "                         )\n",
    "         \n",
    "    nouveau_point = np.array(deuxième_point)\n",
    "    def F(x, y): #on définit le système à 2 équations\n",
    "        return np.array([f(x,y) - c,(x - point_précédent[0])**2 + (y - point_précédent[1])**2 - delta**2])\n",
    "        \n",
    "    def Jacob(F, x, y):  #on définit la jacobienne.\n",
    "        j = autograd.jacobian\n",
    "        return np.c_[j(F,0)(x, y),j(F,1)(x, y)]\n",
    "    \n",
    "    A = F( nouveau_point[0],  nouveau_point[1])   #matrice associéé au système 2x2\n",
    "    \n",
    "    while distanceeucl(A,[0,0]) >= 2**(-10) :\n",
    "        nouveau_point =  nouveau_point - np.linalg.inv(Jacob(F,  nouveau_point[0], nouveau_point[1])).dot(np.array(A))\n",
    "        A = F( nouveau_point[0],  nouveau_point[1])\n",
    "    X += [ nouveau_point[0]]\n",
    "    Y += [ nouveau_point[1]]\n",
    "    \n",
    "    \n",
    "    while X[-1] < 1 and Y[-1] < 1 and X[-1] > 0 and Y[-1] > 0:\n",
    "        distance = []\n",
    "        point_précédent = [X[-1], \n",
    "                           Y[-1]\n",
    "                          ]\n",
    "    \n",
    "        gradient = grad(f, point_précédent[0], point_précédent[1])\n",
    "        tangente=[-gradient[1],gradient[0]]\n",
    "        tangente_normalisée = normalisation(tangente,delta)\n",
    "        point1 = [point_précédent[0] + tangente_normalisée[0],\n",
    "                  point_précédent[1] + tangente_normalisée[1]\n",
    "                 ]\n",
    "        \n",
    "        point2 = [point_précédent[0] - tangente_normalisée[0],\n",
    "                  point_précédent[1] - tangente_normalisée[1]]\n",
    "        liste_point = [point1, point2]\n",
    "        \n",
    "        for i in liste_point:            \n",
    "            distance += [distanceeucl((X[-2], Y[-2]), i)]\n",
    "            \n",
    "        e = distance.index(max(distance))       \n",
    "        nouveau_point = np.array(liste_point[e])\n",
    "        def F(x, y): #on définit le système à 2 équations\n",
    "            return np.array([f(x,y) - c,(x - point_précédent[0])**2 + (y - point_précédent[1])**2 - delta**2])\n",
    "        \n",
    "        def Jacob(F, x, y):  #on définit la jacobienne.\n",
    "            j = autograd.jacobian\n",
    "            return np.c_[j(F,0)(x, y),j(F,1)(x, y)]\n",
    "        \n",
    "        A = F(nouveau_point[0], nouveau_point[1])   # Il s'agit du point intermédiaire permettant d'initialiser Newton.\n",
    "        \n",
    "        while distanceeucl(A,[0,0]) >= 2**(-10):            \n",
    "            A = F(nouveau_point[0],nouveau_point[1])\n",
    "            nouveau_point = nouveau_point - np.linalg.inv(Jacob(F, nouveau_point[0], nouveau_point[1])).dot(np.array(A))\n",
    "        X += [nouveau_point[0]]\n",
    "        Y += [nouveau_point[1]]\n",
    "    X.pop()\n",
    "    Y.pop()\n",
    "    return [X, Y]"
   ]
  },
  {
   "cell_type": "markdown",
   "metadata": {},
   "source": [
    "On peut maintenant définir des fonctions tests, et tester ce premier programme sur ces fonctions tests. "
   ]
  },
  {
   "cell_type": "code",
   "execution_count": 8,
   "metadata": {},
   "outputs": [],
   "source": [
    "def f(x,y):\n",
    "    return 2*(np.exp(-x**2-y**2)-np.exp(-(x-1)**2-(y-1)**2))\n",
    "\n",
    "def h(x,y):\n",
    "    return x**2 + (y-0.4)**2"
   ]
  },
  {
   "cell_type": "code",
   "execution_count": 9,
   "metadata": {},
   "outputs": [
    {
     "name": "stdout",
     "output_type": "stream",
     "text": [
      "[[0.0, 0.008778171472053405, 0.017460485776380222, 0.026045405469594454, 0.03453147573404359, 0.04291730405754595, 0.05120154134393058, 0.05899461139321947, 0.06707325890483591, 0.07504610710614934, 0.08291180707258353, 0.09066897650478695, 0.09831618700653577, 0.10585195205372983, 0.11285813949903298, 0.12016671204715104, 0.127358628111912, 0.13443204962836414, 0.14138502727636482, 0.1482154908932751, 0.15492124010681055, 0.16103991594295666, 0.16748819887966893, 0.17380394727631068, 0.1799843368614076, 0.1860263678814681, 0.19192685659098493, 0.1976824269331769, 0.20275958018271606, 0.208211862598596, 0.21350742802682646, 0.21864203557476877, 0.22361121456215452], [0.22346407175064087, 0.2186741129191656, 0.21371251858660656, 0.20858424852146154, 0.20329401114806966, 0.19784627002639862, 0.19224525113847524, 0.18597879333362102, 0.1800851141446039, 0.17404908137805822, 0.1678740701199278, 0.16156326015605715, 0.1551196453676063, 0.14854604322315854, 0.1414106620100119, 0.13458535855090512, 0.1276372405814523, 0.12056852725789811, 0.1133813093102912, 0.10607755912438908, 0.09865914099886067, 0.09074951900447134, 0.08310624436802751, 0.07535309518912497, 0.06749162048164002, 0.059523316951237394, 0.05144964164262705, 0.043272025239537444, 0.03465675388270077, 0.026273877499412852, 0.01779113108122195, 0.00921000030907929, 0.0005320247276822156]]\n"
     ]
    },
    {
     "data": {
      "image/png": "[encoded data removed]",
      "text/plain": [
       "<Figure size 432x288 with 1 Axes>"
      ]
     },
     "metadata": {
      "needs_background": "light"
     },
     "output_type": "display_data"
    }
   ],
   "source": [
    "c=1.5\n",
    "data=simple_contour(f,float(c))\n",
    "print(data)\n",
    "plt.plot(data[0],data[1])\n",
    "plt.grid()\n",
    "plt.title(f\"Courbe de niveau pour c={float(c)}\")\n",
    "plt.xlabel(\"x\")\n",
    "plt.ylabel(\"y\")\n",
    "plt.show()"
   ]
  },
  {
   "cell_type": "markdown",
   "metadata": {},
   "source": [
    "# 2ème partie : Contour complexe"
   ]
  },
  {
   "cell_type": "code",
   "execution_count": 10,
   "metadata": {},
   "outputs": [],
   "source": [
    "def find_seedx(f, c=0.0, x=0.0, y1 = 0.0, y2 = 1.0, eps = 2**(-26)):\n",
    "    if not f(x,y1)<= c <= f(x,y2) and not f(x,y2)<= c <= f(x, y1):\n",
    "            return None  \n",
    "    a = y1\n",
    "    b = y2\n",
    "    t = (a+b)/2 \n",
    "    while abs(f(x,t)- c) > eps :  \n",
    "        if (f(x, a) - c)*(f(x,t) - c) >= 0:\n",
    "            a = t\n",
    "        else :\n",
    "            b = t\n",
    "        t = (a+b)/2\n",
    "    return t "
   ]
  },
  {
   "cell_type": "code",
   "execution_count": 11,
   "metadata": {},
   "outputs": [],
   "source": [
    "def find_seedy(f, c=0.0, y=0.0, x1 = 0.0, x2 = 1.0, eps = 2**(-26)):\n",
    "    if not f(x1, y)<= c <= f(x2, y) and not f(x2, y)<= c <= f(x1, y):\n",
    "            return None  \n",
    "    a = x1\n",
    "    b = x2\n",
    "    t = (a+b)/2\n",
    "    while abs(f(t, y)-c) > eps :  \n",
    "        if (f(a, y)-c)*(f(t, y)-c) >= 0:\n",
    "            a = t\n",
    "        else :\n",
    "            b = t\n",
    "        t = (a+b)/2\n",
    "    return t "
   ]
  },
  {
   "cell_type": "markdown",
   "metadata": {},
   "source": [
    "On modifie légérement le début de la fonction contour_simple afin de chercher des valeurs sur les 4 bords"
   ]
  },
  {
   "cell_type": "code",
   "execution_count": 12,
   "metadata": {},
   "outputs": [],
   "source": [
    "def simple_contourmodif(f,c=0.0,delta=0.01, x1 = 0.0, x2 = 1.0, y1 = 0.0, y2 = 1.0):\n",
    "    coté_X = [x1, x2]\n",
    "    coté_Y = [y1, y2]\n",
    "    test_coté = False\n",
    "    for i in coté_X:\n",
    "        a = find_seedx(f, c, i, y1, y2)\n",
    "        if a != None:\n",
    "            X = [i]\n",
    "            Y = [a]\n",
    "            test_coté = True\n",
    "            \n",
    "    for i in coté_Y:\n",
    "        a = find_seedy(f, c, i, x1, x2)\n",
    "        if a != None:\n",
    "            Y = [i]\n",
    "            X = [a]\n",
    "            test_coté = True\n",
    "            \n",
    "    if test_coté == False:\n",
    "        return [[],[]]\n",
    "    \n",
    "    \n",
    "    point_précédent = [X[-1],Y[-1]]\n",
    "    gradient = grad(f, point_précédent[0], point_précédent[1]) #on calcule le gradient au premier point trouvé\n",
    "    tangente = [-gradient[1], gradient[0]] #le gradient dirige la normale à la tangente.\n",
    "    tangente_normalisée = normalisation(tangente, delta) #la norme du vecteur tangent est delta\n",
    "    \n",
    "    if x1 <= (point_précédent[0] + tangente_normalisée[0]) <= x2 and  y1 <= point_précédent[1] + tangente_normalisée[1] <= y2:  #on vérifie que le point choisi en second partira bien vers la droite (x>=0)\n",
    "        deuxième_point = (point_précédent[0] + tangente_normalisée[0],\n",
    "                          point_précédent[1] + tangente_normalisée[1]\n",
    "                         )\n",
    "    else : \n",
    "        deuxième_point = (point_précédent[0] - tangente_normalisée[0],\n",
    "                          point_précédent[1] - tangente_normalisée[1]\n",
    "                         )\n",
    "         \n",
    "    nouveau_point = np.array(deuxième_point)\n",
    "    def F(x, y): #on définit le système à 2 équations\n",
    "        return np.array([f(x,y) - c,(x - point_précédent[0])**2 + (y - point_précédent[1])**2 - delta**2])\n",
    "        \n",
    "    def Jacob(F, x, y):  #on définit la jacobienne.\n",
    "        j = autograd.jacobian\n",
    "        return np.c_[j(F,0)(x, y),j(F,1)(x, y)]\n",
    "    \n",
    "    A = F( nouveau_point[0],  nouveau_point[1])   #matrice associéé au système 2x2\n",
    "    \n",
    "    while distanceeucl(A,[0,0]) >= 2**(-10) :\n",
    "        nouveau_point =  nouveau_point - np.linalg.inv(Jacob(F,  nouveau_point[0], nouveau_point[1])).dot(np.array(A))\n",
    "        A = F( nouveau_point[0],  nouveau_point[1])\n",
    "    X += [ nouveau_point[0]]\n",
    "    Y += [ nouveau_point[1]]\n",
    "    \n",
    "    \n",
    "    while X[-1] < x2 + delta and Y[-1] < y2 + delta and X[-1] > x1 - delta and Y[-1] > y1 - delta:\n",
    "        distance = []\n",
    "        point_précédent = [X[-1], \n",
    "                           Y[-1]\n",
    "                          ]\n",
    "    \n",
    "        gradient = grad(f, point_précédent[0], point_précédent[1])\n",
    "        tangente=[-gradient[1],gradient[0]]\n",
    "        tangente_normalisée = normalisation(tangente,delta)\n",
    "        point1 = [point_précédent[0] + tangente_normalisée[0],\n",
    "                  point_précédent[1] + tangente_normalisée[1]\n",
    "                 ]\n",
    "        \n",
    "        point2 = [point_précédent[0] - tangente_normalisée[0],\n",
    "                  point_précédent[1] - tangente_normalisée[1]]\n",
    "        liste_point = [point1, point2]\n",
    "        \n",
    "        for i in liste_point:            \n",
    "            distance += [distanceeucl((X[-2], Y[-2]), i)]\n",
    "            \n",
    "        e = distance.index(max(distance))       \n",
    "        nouveau_point = np.array(liste_point[e])\n",
    "        def F(x, y): #on définit le système à 2 équations\n",
    "            return np.array([f(x,y) - c,(x - point_précédent[0])**2 + (y - point_précédent[1])**2 - delta**2])\n",
    "        \n",
    "        def Jacob(F, x, y):  #on définit la jacobienne.\n",
    "            j = autograd.jacobian\n",
    "            return np.c_[j(F,0)(x, y),j(F,1)(x, y)]\n",
    "        \n",
    "        A = F(nouveau_point[0], nouveau_point[1])   # Il s'agit du point intermédiaire permettant d'initialiser Newton.\n",
    "        \n",
    "        while distanceeucl(A,[0,0]) >= 2**(-10):            \n",
    "            A = F(nouveau_point[0],nouveau_point[1])\n",
    "            nouveau_point = nouveau_point - np.linalg.inv(Jacob(F, nouveau_point[0], nouveau_point[1])).dot(np.array(A))\n",
    "        X += [nouveau_point[0]]\n",
    "        Y += [nouveau_point[1]]\n",
    "    return [X, Y]"
   ]
  },
  {
   "cell_type": "markdown",
   "metadata": {},
   "source": [
    "Puis on définit contour"
   ]
  },
  {
   "cell_type": "code",
   "execution_count": 16,
   "metadata": {},
   "outputs": [],
   "source": [
    "def contour(f,c, xc = [0.0,1.0], yc = [0.0,1.0], delta = 0.01):\n",
    "    X_tot = []\n",
    "    Y_tot = []\n",
    "    for i in range(len(yc) - 1):\n",
    "        for j in range(len(xc)-1):\n",
    "            xg = xc[j]\n",
    "            xd = xc[j+1]\n",
    "            yg = yc[i]\n",
    "            yd = yc[i+1]\n",
    "            R = simple_contourmodif(f, c, delta , xg, xd, yg, yd)\n",
    "            X_tot += R[0]\n",
    "            Y_tot += R[1]\n",
    "    return [X_tot, Y_tot]\n",
    "  \n",
    "\n",
    "            \n",
    "            \n",
    "            \n",
    "    "
   ]
  },
  {
   "cell_type": "code",
   "execution_count": 17,
   "metadata": {},
   "outputs": [
    {
     "name": "stdout",
     "output_type": "stream",
     "text": [
      "[-0.2670628229777018, -0.25756277594886684, -0.2480239362967106, -0.23844779160774995, -0.22883583908991173, -0.21918958564160693, -0.2095105479323149, -0.199800252495321, -0.1900602358332767, -0.18029204453727812, -0.17038855690442622, -0.16056867033322153, -0.1507252925993879, -0.14086001490976552, -0.13097443942363982, -0.1210701794703894, -0.11114885978641012, -0.10121211677225163, -0.09126159877093379, 0.11111111111111116, 0.10128699529036031, 0.0914376758550377, 0.08156519411455755, 0.07167156468720057, 0.061758776562091305, 0.051828794113047784, 0.041883558065208645, 0.031924986415464, 0.021954975307812943, 0.011955053000527925, 0.0019678027050095068, -0.008025335827017284, -0.01802254230028413, -0.028022014600757462, -0.03802196816104564, -0.04802063536188804, -0.0580162649683741, -0.06800712159955381, -0.07799148523011937, -0.08790020863472145, -0.09786653087300343, -0.10782128321771636, -0.1177627995823838, -0.1276894272326636, 0.20933341979980466, 0.19988836216893507, 0.19039560697812355, 0.18085753317086606, 0.1712764795610117, 0.16165474637622487, 0.15199459675965168, 0.142298258227123, 0.13256792407786033, 0.12268555487807042, 0.11289382896268532, 0.10307445910991267, 0.09322951903073193, -0.6092998716566299, -0.6025702004191471, -0.5957492413471543, -0.5888380591897049, -0.581837729875899, -0.5747493404547794, -0.5675739890334021, -0.5603127847132399, -0.5529668475250844, -0.5455373083626115, -0.33333333333333337, -0.34251657463112506, -0.3516493605604324, -0.3607302998989993, -0.36975801154626853, -0.37873112453318314, -0.38764827803768315, -0.3965081214054897, -0.4053093141757856, -0.4140505261114163, -0.42240311320526164, -0.4310205436907744, -0.4395740137100414, -0.44806223222392977, -0.45648391864990595, -0.464837802912112, -0.4731226254937183, -0.48133713749127444, -0.4894801006707899, -0.4975502875252861, -0.5051576472196375, -0.5130787631614967, -0.5209234243459977, -0.5286904448704113, -0.536378649885507, -0.5439868756569403, -0.5515139696265313, -0.5589587904732367, -0.5663202081736206, -0.2670628229777018, -0.27656287000653673, -0.28602263584308085, -0.29544065893612625, -0.30481548796645325, -0.3141456818034355, -0.3234298094707207, -0.3326664501204447, -0.34185419301545983, -0.3509916375190781, 0.20933341979980466, 0.21877847743067425, 0.22817347188850942, 0.23751595667445552, 0.24680344217819114, 0.2560333940660233, 0.2652032316525373, 0.2743103262638138, 0.28335199960158425, 0.2919983079124398, 0.30090069600689867, 0.30972922957426585, 0.318481009946103, 0.32715308097444185, 0.3357424276960633, 0.3442459751162249, 0.504228459464179, 0.4987946041479378, 0.4931868980271012, 0.48740924383578, 0.48146559731008076, 0.4753599525637735, 0.4690963284987789, 0.4621482785787057, 0.45558071737869166, 0.4488671340370126, 0.44201153795470066, 0.4350179115717202, 0.42789020307457126, 0.4206323200512854, 0.4128169857937197, 0.4053105496212427, 0.3976852537494094, 0.38994480286875094, 0.3820928415062657, 0.3741329521160353, 0.36606865370318303, 0.3579034009248748, 0.3492660991988203, 0.34090946162616037, 0.3324617399177905, 0.32392613644016266, 0.31530578999545117, -0.7526581287384035, -0.7486998362698595, -0.7446264812436623, -0.7404388159359677, -0.7361376041981246, -0.7317236214926687, -0.7271976549243893, -0.7225605032665356, -0.7178129769822386, -0.712955898241227, -0.7074572920142491, -0.7023838423173117, -0.6972032872669816, -0.6919164974602573, -0.6865243552382337, -0.6810277546766442, -0.6754276015723705, -0.6697248134260331, -0.6639203194207769, -0.658015060397371, -0.6515244169611886, -0.6454206540041575, -0.6392189372337477, -0.6329202554531417, -0.6265256089698826, -0.6200360095515134, -0.6134524803784219, -0.6067760559940332, -0.6000077822524891, 0.504228459464179, 0.5096623147804202, 0.5149181826444152, 0.5199923032771, 0.5248810168671668, 0.5295807813948096, 0.5335101981124042, 0.5378239515544574, 0.5419389191257786, 0.5458522130546674, 0.5495611569105051, 0.5530633034940249, 0.5557315846327442, 0.5588170159956598, 0.5616897394435798, 0.5643483785241855, 0.5667918571997694, 0.5771356423695879, 0.5765475257995527, 0.5757495709471969, 0.5747401650391101, 0.5735179801511359, 0.5720819838175009, 0.5697870027709074, 0.5679173404883728, 0.5658324888575176, 0.5635326614324841, 0.5610183852378502, 0.5582904967610223, 0.5547135039587523, 0.5515591755075134, 0.5481954155115628, 0.5446242160326329, -0.811915079752604, -0.8107922104428158, -0.8095402523739479, -0.8081597096657133, -0.8066510957866653, -0.8050149336934596, -0.8032517559678235, -0.8013621049507946, -0.7993465328738385, -0.7972056019865038, -0.7943187262068836, -0.79192922009922, -0.7894159929337787, -0.7867796495353362, -0.7840208053410476, -0.7811400865025573, -0.7781381299832365, -0.7750155836504523, -0.7717731063627974, -0.7684113680522245, -0.7643447655700715, -0.7526581287384035, -0.7566164212069476, -0.7604589523620983, -0.7641850143981529, -0.7677939114130412, -0.7712849593469151, -0.7746574859157752, -0.7779108305401208, -0.7810443442686207, -0.7840573896968167, -0.7863384348795669, -0.7891085917197429, 0.5423965454101561, 0.5457482974561062, 0.5489666301451201, 0.5520479538547788, 0.5549886176885558, 0.5577849166881594, 0.5604331000541826, 0.5623983399610321, 0.564733516074008, 0.5669089295798092, 0.5771356423695879, 0.5777237589396231, 0.5781021778777875, 0.5782730675156018, 0.5782388465466153, 0.5780021664391517, 0.5769721565977178, 0.5763451710119654, 0.5755246914552798, 0.5745141059099512, 0.5733169367183893, 0.5719368204202785, 0.5698437639757841, 0.5681145902147672, 0.5662136620031724, 0.5641448847130959, 0.5619121875388027, 0.5595195082060799, 0.5565052292874494, 0.5538092372932489, 0.5509647923982645, 0.5479757408899538, 0.5448458788721252, -0.8039661778344049, -0.8058334615141046, -0.8075628853086028, -0.8091547723284274, -0.8106094533086206, -0.8119272664921533, -0.8131085575492969, -0.8141536795291446, -0.8150629928397819, -0.8158368652538881, -0.8157910064844545, -0.8162958148982782, -0.8166661961609272, -0.8169025491403277, -0.8170052804017169, -0.8169748043114199, -0.8168115431500911, -0.8165159272338427, -0.8160883950418241, -0.8155293933489467, -0.8141811802079534, -0.8133611673771232, -0.8124109538456302, -0.8113310221945292, -0.8101218640193096, 0.423577414618598, 0.42936240567274475, 0.43507745073397397, 0.44072104635318854, 0.4462916198740079, 0.4517875275475295, 0.45720705264435296, 0.46254840357432003, 0.4678097120260812, 0.47262308979819573, 0.47771574631813657, 0.4827221294154742, 0.4876400418180097, 0.49246720093940505, 0.49720123751004996, 0.5018396943749436, 0.5063800254904812, 0.5104191974102146, 0.5147517803795343, 0.5189778869410441, 0.5230946057602975, 0.5270989358539708, 0.5309877876530313, 0.5347579845836341, 0.5379804022388985, 0.5414992829312367, 0.5448892944859725, 0.5481469359799137, -0.8039661778344049, -0.8020988941547053, -0.8000935696439434, -0.797949928095587, -0.795667701884346, -0.7932466322465652, -0.7906864696175935, -0.7879869740318398, -0.7851479155916549, -0.7815562098466228, -0.7784369531229189, -0.7751773743902164, -0.7717772898994296, -0.7682365296667246, -0.7645549385176087, -0.7193470001220703, -0.7245729485790943, -0.7296574303743824, -0.7346003568060417, -0.7394016768026583, -0.7440613737430538, -0.7485794625306678, -0.752955986909761, -0.7566035787215728, -0.760697918621706, -0.7646508406844473, -0.7684624817235619, -0.772132997239229, -0.7756625599035769, -0.7790513581999223, -0.7822995952044265, -0.7854074874994081, -0.7877256166795177, -0.7905543033094659, 0.2239193518956502, 0.23137324937139017, 0.23877834351988525, 0.24613449878009222, 0.25344155111170236, 0.26069930702095184, 0.26790754258834665, 0.2750660024938097, 0.2821743990350074, 0.28923241113484705, 0.2959791616707861, 0.30293517886980176, 0.30983955949736536, 0.3166918374655036, 0.3234915079847028, 0.3302380264304462, 0.3369308071766179, 0.34356922239337334, 0.423577414618598, 0.41779242356445123, 0.41193857244625826, 0.40601727897775325, 0.40002989500273445, 0.3939777084299949, 0.3878619451286621, 0.3816837707803126, 0.37544429268507756, 0.3691445615197085, 0.36248762248703215, 0.3560712513783738, 0.34959735788763574, 0.3430667848809007, 0.33648032653009696, 0.32983872977691414, 0.32314269574928545, -0.7193470001220703, -0.7141210516650464, -0.7087539003111967, -0.7032457495835726, -0.6975968508976554, -0.6918075077096015, -0.6858780799572444, -0.6798089887984283, -0.6730754409209141, -0.6667284654351822, -0.6602433792553736, -0.6536209042634208, -0.6468618519539545, -0.6399671298699072, -0.6329377482521721, -0.6253371928811681, -0.6180421689792597, -0.6106160906303155, -0.6030604518304483, -0.5953768844493191, -0.5875671650643431, -0.5796332215431714, -0.5711851005519372, -0.5630097685228324, -0.5547168552934717, -0.5463089555985216, -0.5377888408254482, -0.44820255703396283, -0.4577107482466229, -0.4671479729317128, -0.4765097084894982, -0.4857915556370063, -0.49498925158991647, -0.5038027193465969, -0.5128190875274639, -0.5217393391669802, -0.5305598502288623, -0.5392771735078341, -0.5478880415444574, -0.5560313963571812, -0.5644197671968676, -0.5726928664178634, -0.15210914611816415, -0.14249412008417117, -0.13292236267248952, -0.12339511983070597, -0.11391349925219135, -0.10447847866185622, -0.09509091412434531, 0.11111111111111116, 0.10295428093613254, 0.09474829166316129, 0.08649300072420692, 0.0781882604724503, 0.06983392035224173, 0.06142982922203018, 0.05297583784263193, 0.04447180154358976, 0.035706445076166174, 0.0271003513298778, 0.01844378571280472, 0.009736654290746839, 0.0009788843224998144, -0.007829571714048038, -0.0166887318273162, -0.025598579938326878, -0.034746540674362364, -0.04375923865077101, -0.052822351986196295, -0.06193567334359417, -0.07109893370772781, -0.08031179600372161, -0.08957384842769726, -0.09904042806717771, -0.10840084892700498, -0.11780870849540617, -0.12726321915947295, 0.2239193518956502, 0.21646545441991025, 0.20896296771375147, 0.20141199885662323, 0.19381262921583126, 0.1861649155083965, 0.17846889088657286, 0.17072456605308847, 0.16293193041251983, 0.1550909532655724, 0.1469705653086016, 0.13903174134998747, 0.13104431169624348, 0.12300817901572032, 0.11492323277394814, 0.10678935085826226, 0.09860640130512943, -0.44820255703396283, -0.4386943658213028, -0.4291195207807204, -0.41948278664444816, -0.4097890051170515, -0.4000430762034293, -0.39013856056370494, -0.38030400124106045, -0.37043202259873503, -0.3605275635394, -0.35059551986373516, -0.34064072424227765, -0.33064124982462473, -0.3206553904036118, -0.15210914611816415, -0.16172417215215712, -0.17138064914790216, -0.1810770565820483, -0.1908117185907089, -0.20058279709293192, -0.2103882854398173, -0.220315455598378, -0.23018400614414145, -0.24007980725112685, -0.2500001201997721, -0.2599420182184192, -0.26990238616190265, -0.27990160631899036, -0.2898890911043804, -0.2998844898252065, -0.3098839530270207, -0.3198834651343573, -0.3298788541740192, -0.33981440098176335, -0.34978810077874145]\n"
     ]
    },
    {
     "data": {
      "image/png": "[encoded data removed]",
      "text/plain": [
       "<Figure size 432x288 with 1 Axes>"
      ]
     },
     "metadata": {
      "needs_background": "light"
     },
     "output_type": "display_data"
    }
   ],
   "source": [
    "c = 1\n",
    "xc = np.linspace(-1,1,10)\n",
    "yc = np.linspace(-1,1,10)\n",
    "data = contour(f,float(c), xc, yc)\n",
    "print(data[0])\n",
    "plt.scatter(data[0],data[1], s=0.5)\n",
    "plt.grid()\n",
    "plt.title(f\"Courbe de niveau pour c={float(c)}\")\n",
    "plt.xlabel(\"x\")\n",
    "plt.ylabel(\"y\")\n",
    "plt.show()\n"
   ]
  },
  {
   "cell_type": "code",
   "execution_count": null,
   "metadata": {},
   "outputs": [],
   "source": []
  }
 ],
 "metadata": {
  "kernelspec": {
   "display_name": "Python 3",
   "language": "python",
   "name": "python3"
  },
  "language_info": {
   "codemirror_mode": {
    "name": "ipython",
    "version": 3
   },
   "file_extension": ".py",
   "mimetype": "text/x-python",
   "name": "python",
   "nbconvert_exporter": "python",
   "pygments_lexer": "ipython3",
   "version": "3.7.3"
  }
 },
 "nbformat": 4,
 "nbformat_minor": 2
}
