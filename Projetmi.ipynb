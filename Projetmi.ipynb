{
 "cells": [
  {
   "cell_type": "markdown",
   "metadata": {},
   "source": [
    "#   **Projet Maths Info Horsin/Cattan**\n",
    "\n",
    "\n",
    "\n"
   ]
  },
  {
   "cell_type": "markdown",
   "metadata": {},
   "source": [
    "Soit $f :  \\mathbb{R^2} \\to \\mathbb{R}$ et $c \\in \\mathbb{R}$.\n",
    "\n",
    "Le but du projet est de trouver l'ensemble $\\{ \\:(x,y) \\:/ \\:f(x,y)=c \\: \\}$.\n",
    "\n",
    "# 1ère Partie: **Contour Simple**\n",
    "\n",
    "## L'amorce\n",
    "\n",
    "Nous avons choisi d'utiliser un algorithme dichotomique dans un premier temps, qui est plus robuste qu'un algorithme de Newton. En effet, n'ayant aucune information sur la valeur initiale (indispensable pour garantir la convergence), il semble plus cohérent d'utiliser une dichotomie.\n",
    " "
   ]
  },
  {
   "cell_type": "code",
   "execution_count": 1,
   "metadata": {},
   "outputs": [],
   "source": [
    "def find_seed(f, c=0.0, x=0.0, eps = 2**(-26)):\n",
    "    if not f(x,1.0)<= c <= f(x,0.0) and not f(x,0 )<= c <= f(x,1.0):\n",
    "            return None  \n",
    "    a = 0\n",
    "    b = 1\n",
    "    t = 0.5\n",
    "    while abs(f(x,t)-c) > eps :  \n",
    "        if (f(x,a)-c)*(f(x,t)-c) >= 0:\n",
    "            a = t\n",
    "        else :\n",
    "            b = t\n",
    "        t = (a+b)/2\n",
    "    return t "
   ]
  },
  {
   "cell_type": "markdown",
   "metadata": {},
   "source": [
    "### Le contour simple\n",
    "\n",
    "Pour la suite, nous allons définir quelques fonctions dont nous aurons besoin pour la fonction simple_contour.\n",
    "Commençons par importer les bibliothèques utiles."
   ]
  },
  {
   "cell_type": "code",
   "execution_count": 2,
   "metadata": {},
   "outputs": [],
   "source": [
    "import matplotlib.pyplot as plt  \n",
    "import autograd\n",
    "from autograd import numpy as np"
   ]
  },
  {
   "cell_type": "markdown",
   "metadata": {},
   "source": [
    "Définissons maintenant une fonction permettant de calculer une distance euclidienne dans $\\mathbb{R^2}$"
   ]
  },
  {
   "cell_type": "code",
   "execution_count": 3,
   "metadata": {},
   "outputs": [],
   "source": [
    "def distanceeucl(x, y):\n",
    "    return np.sqrt(((x[0]-y[0])**2)+((x[1]-y[1])**2))"
   ]
  },
  {
   "cell_type": "markdown",
   "metadata": {},
   "source": [
    "Définissons ensuite une fonction permettant de donner à un vecteur une norme souhaitée."
   ]
  },
  {
   "cell_type": "code",
   "execution_count": 4,
   "metadata": {},
   "outputs": [],
   "source": [
    "def normalisation(vecteur,normev):\n",
    "    norme = distanceeucl(vecteur,(0,0))\n",
    "    x = vecteur[0]\n",
    "    y = vecteur[1]\n",
    "    return (x*normev/norme, y*normev/norme)"
   ]
  },
  {
   "cell_type": "markdown",
   "metadata": {},
   "source": [
    "Définissons enfin la fonction gradient qui calcule le gradient à l'aide de la bibliothèque autograd. "
   ]
  },
  {
   "cell_type": "code",
   "execution_count": 5,
   "metadata": {},
   "outputs": [],
   "source": [
    "def grad(f, x, y):\n",
    "    g = autograd.grad\n",
    "    return np.r_[g(f, 0)(x, y), g(f, 1)(x, y)]"
   ]
  },
  {
   "cell_type": "markdown",
   "metadata": {},
   "source": [
    "On définit le système à deux équations, et la matrice jacobienne associée."
   ]
  },
  {
   "cell_type": "code",
   "execution_count": 6,
   "metadata": {},
   "outputs": [],
   "source": [
    "def F(x, y): #on définit le système à 2 équations\n",
    "        return np.array([f(x,y) - c,(x - point_précédent[0])**2 + (y - point_précédent[1])**2 - delta**2])\n",
    "        \n",
    "def Jacob(F, x, y):  #on définit la jacobienne.\n",
    "    j = autograd.jacobian\n",
    "    return np.c_[j(F,0)(x, y),j(F,1)(x, y)]"
   ]
  },
  {
   "cell_type": "markdown",
   "metadata": {},
   "source": [
    "Nous pouvons maintenant définir la fonction simple_contour qui blablabla faut expliquer et commenter le programme"
   ]
  },
  {
   "cell_type": "code",
   "execution_count": 11,
   "metadata": {},
   "outputs": [],
   "source": [
    "def simple_contour(f,c=0.0,delta=0.01):\n",
    "    #on commence par initialiser le programme en calculant le deuxième point\n",
    "    \n",
    "    X = [0.0]  #on définit un premier point sur l'arête gauche à l'aide de find_seed\n",
    "    if find_seed != None:\n",
    "        Y = [find_seed(f,c,0.0)]\n",
    "    else:\n",
    "        return \"première valeur pas entre f(a) et f(b)\"\n",
    "    \n",
    "    point_précédent = [X[-1],Y[-1]]\n",
    "    gradient = grad(f, point_précédent[0], point_précédent[1]) #on calcule le gradient au premier point trouvé\n",
    "    tangente = [-gradient[1], gradient[0]] #le gradient dirige la normale à la tangente.\n",
    "    tangente_normalisée = normalisation(tangente, delta) #la norme du vecteur tangent est delta\n",
    "    \n",
    "    if tangente_normalisée[0] >= 0 :  #on vérifie que le point choisi en second partira bien vers la droite (x>=0)\n",
    "        deuxième_point = (point_précédent[0] + tangente_normalisée[0],\n",
    "                          point_précédent[1] + tangente_normalisée[1]\n",
    "                         )\n",
    "    else : \n",
    "        deuxième_point = (point_précédent[0] - tangente_normalisée[0],\n",
    "                          point_précédent[1] - tangente_normalisée[1]\n",
    "                         )\n",
    "         \n",
    "    nouveau_point = np.array(deuxième_point)\n",
    "    def F(x, y): #on définit le système à 2 équations\n",
    "        return np.array([f(x,y) - c,(x - point_précédent[0])**2 + (y - point_précédent[1])**2 - delta**2])\n",
    "        \n",
    "    def Jacob(F, x, y):  #on définit la jacobienne.\n",
    "        j = autograd.jacobian\n",
    "        return np.c_[j(F,0)(x, y),j(F,1)(x, y)]\n",
    "    \n",
    "    A = F( nouveau_point[0],  nouveau_point[1])   #matrice associéé au système 2x2\n",
    "    \n",
    "    while distanceeucl(A,[0,0]) >= 2**(-10) :\n",
    "        nouveau_point =  nouveau_point - np.linalg.inv(Jacob(F,  nouveau_point[0], nouveau_point[1])).dot(np.array(A))\n",
    "        A = F( nouveau_point[0],  nouveau_point[1])\n",
    "    X += [ nouveau_point[0]]\n",
    "    Y += [ nouveau_point[1]]\n",
    "    \n",
    "    \n",
    "    while X[-1] < 1 and Y[-1] < 1 and X[-1] > 0:\n",
    "        distance = []\n",
    "        point_précédent = [X[-1], \n",
    "                           Y[-1]\n",
    "                          ]\n",
    "    \n",
    "        gradient = grad(f, point_précédent[0], point_précédent[1])\n",
    "        tangente=[-gradient[1],gradient[0]]\n",
    "        tangente_normalisée = normalisation(tangente,delta)\n",
    "        point1 = [point_précédent[0] + tangente_normalisée[0],\n",
    "                  point_précédent[1] + tangente_normalisée[1]\n",
    "                 ]\n",
    "        \n",
    "        point2 = [point_précédent[0] - tangente_normalisée[0],\n",
    "                  point_précédent[1] - tangente_normalisée[1]]\n",
    "        liste_point = [point1, point2]\n",
    "        \n",
    "        for i in liste_point:            \n",
    "            distance += [distanceeucl((X[-2], Y[-2]), i)]\n",
    "            \n",
    "        e = distance.index(max(distance))       \n",
    "        nouveau_point = np.array(liste_point[e])\n",
    "        def F(x, y): #on définit le système à 2 équations\n",
    "            return np.array([f(x,y) - c,(x - point_précédent[0])**2 + (y - point_précédent[1])**2 - delta**2])\n",
    "        \n",
    "        def Jacob(F, x, y):  #on définit la jacobienne.\n",
    "            j = autograd.jacobian\n",
    "            return np.c_[j(F,0)(x, y),j(F,1)(x, y)]\n",
    "        \n",
    "        A = F(nouveau_point[0], nouveau_point[1])   # Il s'agit du point intermédiaire permettant d'initialiser Newton.\n",
    "        \n",
    "        while distanceeucl(A,[0,0]) >= 2**(-10):            \n",
    "            A = F(nouveau_point[0],nouveau_point[1])\n",
    "            nouveau_point = nouveau_point - np.linalg.inv(Jacob(F, nouveau_point[0], nouveau_point[1])).dot(np.array(A))\n",
    "        X += [nouveau_point[0]]\n",
    "        Y += [nouveau_point[1]]\n",
    "    return [X, Y]"
   ]
  },
  {
   "cell_type": "markdown",
   "metadata": {},
   "source": [
    "On peut maintenant définir des fonctions tests, et tester ce premier programme sur ces fonctions tests. "
   ]
  },
  {
   "cell_type": "code",
   "execution_count": 12,
   "metadata": {},
   "outputs": [],
   "source": [
    "def f(x,y):\n",
    "    return 2*(np.exp(-x**2-y**2)-np.exp(-(x-1)**2-(y-1)**2))\n",
    "\n",
    "def h(x,y):\n",
    "    return x**2 + (y-0.4)**2"
   ]
  },
  {
   "cell_type": "code",
   "execution_count": 14,
   "metadata": {},
   "outputs": [
    {
     "data": {
      "image/png": "[encoded data removed]",
      "text/plain": [
       "<Figure size 432x288 with 1 Axes>"
      ]
     },
     "metadata": {
      "needs_background": "light"
     },
     "output_type": "display_data"
    }
   ],
   "source": [
    "c=0.2\n",
    "data=simple_contour(h,float(c))\n",
    "#print(data)\n",
    "plt.plot(data[0],data[1])\n",
    "plt.grid()\n",
    "plt.title(f\"Courbe de niveau pour c={float(c)}\")\n",
    "plt.xlabel(\"x\")\n",
    "plt.ylabel(\"y\")\n",
    "plt.show()"
   ]
  },
  {
   "cell_type": "markdown",
   "metadata": {},
   "source": [
    "# 2ème partie : Contour complexe"
   ]
  },
  {
   "cell_type": "code",
   "execution_count": null,
   "metadata": {},
   "outputs": [],
   "source": []
  }
 ],
 "metadata": {
  "kernelspec": {
   "display_name": "Python 3",
   "language": "python",
   "name": "python3"
  },
  "language_info": {
   "codemirror_mode": {
    "name": "ipython",
    "version": 3
   },
   "file_extension": ".py",
   "mimetype": "text/x-python",
   "name": "python",
   "nbconvert_exporter": "python",
   "pygments_lexer": "ipython3",
   "version": "3.7.3"
  }
 },
 "nbformat": 4,
 "nbformat_minor": 2
}
