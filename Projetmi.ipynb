{
 "cells": [
  {
   "cell_type": "markdown",
   "metadata": {},
   "source": [
    "#   **Projet Maths Info Horsin/Cattan**\n",
    "\n",
    "\n",
    "\n"
   ]
  },
  {
   "cell_type": "markdown",
   "metadata": {},
   "source": [
    "Soit $f :  \\mathbb{R^2} \\to \\mathbb{R}$ et $c \\in \\mathbb{R}$.\n",
    "\n",
    "Le but du projet est de trouver l'ensemble $\\{ \\:(x,y) \\:/ \\:f(x,y)=c \\: \\}$.\n",
    "\n",
    "# 1ère Partie: **Contour Simple**\n",
    "\n",
    "## L'amorce\n",
    "\n",
    "Nous avons choisi d'utiliser un algorithme dichotomique dans un premier temps, qui est plus robuste qu'un algorithme de Newton. En effet, n'ayant aucune information sur la valeur initiale (indispensable pour garantir la convergence), il semble plus cohérent d'utiliser une dichotomie.\n",
    " "
   ]
  },
  {
   "cell_type": "code",
<<<<<<< HEAD
   "execution_count": 1,
=======
   "execution_count": 2,
>>>>>>> 9a7fa0f6a5c342997c97366621295885ab39602a
   "metadata": {},
   "outputs": [],
   "source": [
    "def find_seed(f, c=0.0, x=0.0, eps = 2**(-26)):\n",
    "    if not f(x,1.0)<= c <= f(x,0.0) and not f(x,0 )<= c <= f(x,1.0):\n",
    "            return None  \n",
    "    a = 0\n",
    "    b = 1\n",
    "    t = 0.5\n",
    "    while abs(f(x,t)-c) > eps :  \n",
    "        if (f(x,a)-c)*(f(x,t)-c) >= 0:\n",
    "            a = t\n",
    "        else :\n",
    "            b = t\n",
    "        t = (a+b)/2\n",
    "    return t "
   ]
  },
  {
   "cell_type": "markdown",
   "metadata": {},
   "source": [
    "### Le contour simple\n",
    "\n",
    "Pour la suite, nous allons définir quelques fonctions dont nous aurons besoin pour la fonction simple_contour.\n",
    "Commençons par importer les bibliothèques utiles."
   ]
  },
  {
   "cell_type": "code",
<<<<<<< HEAD
   "execution_count": 2,
=======
   "execution_count": 3,
>>>>>>> 9a7fa0f6a5c342997c97366621295885ab39602a
   "metadata": {},
   "outputs": [],
   "source": [
    "import matplotlib.pyplot as plt  \n",
    "import autograd\n",
    "from autograd import numpy as np"
   ]
  },
  {
   "cell_type": "markdown",
   "metadata": {},
   "source": [
    "Définissons maintenant une fonction permettant de calculer une distance euclidienne dans $\\mathbb{R^2}$"
   ]
  },
  {
   "cell_type": "code",
<<<<<<< HEAD
   "execution_count": 3,
=======
   "execution_count": 4,
>>>>>>> 9a7fa0f6a5c342997c97366621295885ab39602a
   "metadata": {},
   "outputs": [],
   "source": [
    "def distanceeucl(x, y):\n",
    "    return np.sqrt(((x[0]-y[0])**2)+((x[1]-y[1])**2))"
   ]
  },
  {
   "cell_type": "markdown",
   "metadata": {},
   "source": [
    "Définissons ensuite une fonction permettant de donner à un vecteur une norme souhaitée."
   ]
  },
  {
   "cell_type": "code",
<<<<<<< HEAD
   "execution_count": 4,
=======
   "execution_count": 5,
>>>>>>> 9a7fa0f6a5c342997c97366621295885ab39602a
   "metadata": {},
   "outputs": [],
   "source": [
    "def normalisation(vecteur,normev):\n",
    "    norme = distanceeucl(vecteur,(0,0))\n",
    "    x = vecteur[0]\n",
    "    y = vecteur[1]\n",
    "    return (x*normev/norme, y*normev/norme)"
   ]
  },
  {
   "cell_type": "markdown",
   "metadata": {},
   "source": [
    "Définissons enfin la fonction gradient qui calcule le gradient à l'aide de la bibliothèque autograd. "
   ]
  },
  {
   "cell_type": "code",
<<<<<<< HEAD
   "execution_count": 5,
=======
   "execution_count": 6,
>>>>>>> 9a7fa0f6a5c342997c97366621295885ab39602a
   "metadata": {},
   "outputs": [],
   "source": [
    "def grad(f, x, y):\n",
    "    g = autograd.grad\n",
    "    return np.r_[g(f, 0)(x, y), g(f, 1)(x, y)]"
   ]
  },
  {
   "cell_type": "markdown",
   "metadata": {},
   "source": [
    "On définit le système à deux équations, et la matrice jacobienne associée."
   ]
  },
  {
   "cell_type": "code",
<<<<<<< HEAD
   "execution_count": 6,
=======
   "execution_count": 7,
>>>>>>> 9a7fa0f6a5c342997c97366621295885ab39602a
   "metadata": {},
   "outputs": [],
   "source": [
    "def F(x, y): #on définit le système à 2 équations\n",
    "        return np.array([f(x,y) - c,(x - point_précédent[0])**2 + (y - point_précédent[1])**2 - delta**2])\n",
    "        \n",
    "def Jacob(F, x, y):  #on définit la jacobienne.\n",
    "    j = autograd.jacobian\n",
    "    return np.c_[j(F,0)(x, y),j(F,1)(x, y)]"
   ]
  },
  {
   "cell_type": "markdown",
   "metadata": {},
   "source": [
    "Nous pouvons maintenant définir la fonction simple_contour qui blablabla faut expliquer et commenter le programme"
   ]
  },
  {
   "cell_type": "code",
<<<<<<< HEAD
   "execution_count": 11,
=======
   "execution_count": 8,
>>>>>>> 9a7fa0f6a5c342997c97366621295885ab39602a
   "metadata": {},
   "outputs": [],
   "source": [
    "def simple_contour(f,c=0.0,delta=0.01):\n",
    "    #on commence par initialiser le programme en calculant le deuxième point\n",
    "    \n",
    "    X = [0.0]  #on définit un premier point sur l'arête gauche à l'aide de find_seed\n",
    "    if find_seed(f,c,0.0) != None:\n",
    "        Y = [find_seed(f,c,0.0)]\n",
    "    else:\n",
    "        return \"première valeur pas entre f(a) et f(b)\"\n",
    "    \n",
    "    point_précédent = [X[-1],Y[-1]]\n",
    "    gradient = grad(f, point_précédent[0], point_précédent[1]) #on calcule le gradient au premier point trouvé\n",
    "    tangente = [-gradient[1], gradient[0]] #le gradient dirige la normale à la tangente.\n",
    "    tangente_normalisée = normalisation(tangente, delta) #la norme du vecteur tangent est delta\n",
    "    \n",
    "    if tangente_normalisée[0] >= 0 :  #on vérifie que le point choisi en second partira bien vers la droite (x>=0)\n",
    "        deuxième_point = (point_précédent[0] + tangente_normalisée[0],\n",
    "                          point_précédent[1] + tangente_normalisée[1]\n",
    "                         )\n",
    "    else : \n",
    "        deuxième_point = (point_précédent[0] - tangente_normalisée[0],\n",
    "                          point_précédent[1] - tangente_normalisée[1]\n",
    "                         )\n",
    "         \n",
    "    nouveau_point = np.array(deuxième_point)\n",
    "    def F(x, y): #on définit le système à 2 équations\n",
    "        return np.array([f(x,y) - c,(x - point_précédent[0])**2 + (y - point_précédent[1])**2 - delta**2])\n",
    "        \n",
    "    def Jacob(F, x, y):  #on définit la jacobienne.\n",
    "        j = autograd.jacobian\n",
    "        return np.c_[j(F,0)(x, y),j(F,1)(x, y)]\n",
    "    \n",
    "    A = F( nouveau_point[0],  nouveau_point[1])   #matrice associéé au système 2x2\n",
    "    \n",
    "    while distanceeucl(A,[0,0]) >= 2**(-10) :\n",
    "        nouveau_point =  nouveau_point - np.linalg.inv(Jacob(F,  nouveau_point[0], nouveau_point[1])).dot(np.array(A))\n",
    "        A = F( nouveau_point[0],  nouveau_point[1])\n",
    "    X += [ nouveau_point[0]]\n",
    "    Y += [ nouveau_point[1]]\n",
    "    \n",
    "    \n",
    "    while X[-1] < 1 and Y[-1] < 1 and X[-1] > 0 and Y[-1] > 0:\n",
    "        distance = []\n",
    "        point_précédent = [X[-1], \n",
    "                           Y[-1]\n",
    "                          ]\n",
    "    \n",
    "        gradient = grad(f, point_précédent[0], point_précédent[1])\n",
    "        tangente=[-gradient[1],gradient[0]]\n",
    "        tangente_normalisée = normalisation(tangente,delta)\n",
    "        point1 = [point_précédent[0] + tangente_normalisée[0],\n",
    "                  point_précédent[1] + tangente_normalisée[1]\n",
    "                 ]\n",
    "        \n",
    "        point2 = [point_précédent[0] - tangente_normalisée[0],\n",
    "                  point_précédent[1] - tangente_normalisée[1]]\n",
    "        liste_point = [point1, point2]\n",
    "        \n",
    "        for i in liste_point:            \n",
    "            distance += [distanceeucl((X[-2], Y[-2]), i)]\n",
    "            \n",
    "        e = distance.index(max(distance))       \n",
    "        nouveau_point = np.array(liste_point[e])\n",
    "        def F(x, y): #on définit le système à 2 équations\n",
    "            return np.array([f(x,y) - c,(x - point_précédent[0])**2 + (y - point_précédent[1])**2 - delta**2])\n",
    "        \n",
    "        def Jacob(F, x, y):  #on définit la jacobienne.\n",
    "            j = autograd.jacobian\n",
    "            return np.c_[j(F,0)(x, y),j(F,1)(x, y)]\n",
    "        \n",
    "        A = F(nouveau_point[0], nouveau_point[1])   # Il s'agit du point intermédiaire permettant d'initialiser Newton.\n",
    "        \n",
    "        while distanceeucl(A,[0,0]) >= 2**(-10):            \n",
    "            A = F(nouveau_point[0],nouveau_point[1])\n",
    "            nouveau_point = nouveau_point - np.linalg.inv(Jacob(F, nouveau_point[0], nouveau_point[1])).dot(np.array(A))\n",
    "        X += [nouveau_point[0]]\n",
    "        Y += [nouveau_point[1]]\n",
    "    X.pop()\n",
    "    Y.pop()\n",
    "    return [X, Y]"
   ]
  },
  {
   "cell_type": "markdown",
   "metadata": {},
   "source": [
    "On peut maintenant définir des fonctions tests, et tester ce premier programme sur ces fonctions tests. "
   ]
  },
  {
   "cell_type": "code",
<<<<<<< HEAD
   "execution_count": 12,
=======
   "execution_count": 9,
>>>>>>> 9a7fa0f6a5c342997c97366621295885ab39602a
   "metadata": {},
   "outputs": [],
   "source": [
    "def f(x,y):\n",
    "    return 2*(np.exp(-x**2-y**2)-np.exp(-(x-1)**2-(y-1)**2))\n",
    "\n",
    "def h(x,y):\n",
    "    return x**2 + (y-0.4)**2"
   ]
  },
  {
   "cell_type": "code",
<<<<<<< HEAD
   "execution_count": 14,
   "metadata": {},
   "outputs": [
    {
     "data": {
      "image/png": "iVBORw0KGgoAAAANSUhEUgAAAYIAAAEWCAYAAABrDZDcAAAABHNCSVQICAgIfAhkiAAAAAlwSFlzAAALEgAACxIB0t1+/AAAADh0RVh0U29mdHdhcmUAbWF0cGxvdGxpYiB2ZXJzaW9uMy4xLjEsIGh0dHA6Ly9tYXRwbG90bGliLm9yZy8QZhcZAAAgAElEQVR4nO3dd5xcdb3/8ddnZ3vvLZveCwmBkAChbKRFqnqjVJWLiPq7XAs2rmJDrwWv14oFEVEQIwJi5EYCCKtAAiSQQnrdZEs22d7b7Hx/f8wkmYTdZGF3dnZ33s/HYx5zzp4z53zmu7vnffox5xwiIhK5osJdgIiIhJeCQEQkwikIREQinIJARCTCKQhERCKcgkBEJMIpCCSkzOxBM/tWiKb9dTN7OATTPd/Mdgz2dEWGKwVBBDKzG8xsnZm1mNlBM/u7mZ0X7rqGC+fci8656eGuY7Qxs8+YWZWZNZrZA2YW18d4Z5vZs2ZWZ2bVZvZnMysY6nojiYIgwpjZHcCPgG8DecA44OfANSGYl2ewpymhZWbRIZruZcCdwEXABGAS8I0+Rs8A7guMNx5oBn4birrET0EQQcwsDbgb+A/n3BPOuVbnXLdz7m/Ouc8Hxokzsx+ZWWXg9aMja25mdrOZvXTCNJ2ZTQl0P2hmvzCzlWbWCiwJjJYdWMNrNrN/mtn4oM/PCFr722FmHzhJ/RMDn282s2eB7BOGn21mq82swcw2mlnxSaZVamafM7NNgTXUP5lZfGBYsZmVB7rvNLPHTvjsj83sJ0fa1Mx+E9iyqjCzbx0JQDObbGbPm1mtmdWY2R/MLL23tgtqv153owXa/mUz+2mg3u1mdlHQ8EIzWxFox91m9tG+phv8/YLa4otmtglo7S0MzGx20O/pkJl9qa+27cOHgd8457Y45+qBbwI39zaic+7vzrk/O+eanHNtwM+AxW9zfvI2KAgiyzlAPPCXk4zzZeBs4HRgHrAQuOttzOMG4L+BFOBIaNyI/x8/G9gA/AHAzJKAZ4FHgFzgeuDnZja7j2k/ArwemM438S9cCExrDPB/wLeATOBzwONmlnOSWj8ALAUmAnPpfcH0R+ByM0sNzMcT+NwjgeG/A7zAFGA+cClw65GygO8AhcBMYCzw9ZPUcyqLgL34v//XgCfMLDOozvLAvJYB3w4Oin64HrgCSHfOeYMHmFkK8BzwdGD6U4B/BIbdEAjevl7jApOZDWwMmuxGIM/MsvpR2wXAlrfxXeTtcs7pFSEv/AvkqlOMswe4PKj/MqA00H0z8NIJ4ztgSqD7QeD3Jwx/EFge1J8M9OBfKF4LvHjC+L8CvtZLXePwL3CTgn72CPBwoPuLwEMnfGYV8OE+vmcpcFNQ/z3ALwPdxUB50LCXgA8Fui8B9gS684BOICFo3OuBF/qY53uA9b21XVBbfauPz94MVAIW9LPXgA8G2rIHSAka9h3gwd6m28v3KwVuOcnfxPXBdb/Dv709wNKg/pjA959wis/NBeqA84fq/yQSXyHZHyjDVi3+3TTR7oS1viCFwP6g/v2Bn/VX2cl+5pxrMbO6wDTHA4vMrCFo3GjgoT7qqnfOtZ5Q29hA93jg/WZ2VdDwGOCFk9RaFdTdRt/f8xH8C8Pf49/iObI1MD4wj4NmdmTcKALf18xygZ8A5+PfQooC6k9Sz6lUuMDSMeDI76YQqHPONZ8wbMHbmHZvv7cjxuJfkA9EC5Aa1H+ku7mXcQEI7Db7O/Ap59yLA5y/nIR2DUWWNUAH/jXTvlTiX8AdMS7wM4BWIPHIADPL7+Xzvd3O9sjCGjNLxr/rphL/wuefzrn0oFeyc+4TvUzjIJAR2J0UXNsRZfi3CIKnleSc+27fX7Xf/gwUm1kR8F6OBUEZ/i2C7KB5pjrnjuza+g7+9pjrnEsFbsK/u+iINoLaE+itPYONsaDE4djvphLIDOzCCR5WEeg+7vfWx3xOdhviMmBybwPM7Ebzn33W1+vI72gL/l2NR8wDDjnnavuY7nj8u6O+6ZzrbcVABpGCIII45xqBrwL3mtl7zCzRzGLM7N1mdk9gtD8Cd5lZjpllB8Y/cq7+RmC2mZ0eOLD69X7O+nIzO8/MYvHv23/VOVcGPAVMM7MPBuqIMbOzzGxmL7XvB9YB3zCzWPOf7hq89v8wcJWZXWZmHjOLDxwULXo7bdQb51w1UIL/zJV9zrltgZ8fBJ4BfmBmqWYWFThAfGHgoyn414QbAscwPn/CpDcANwTqXQpcyMnlAp8MtNP78R93WBloy9XAdwLfey7wEQLHYgLzudzMMgPh/em32QRPAflm9mnzn0yQYmaLAm3wh0B49/U6EJjG74GPmNksM8vAf9zpwd5mFmir54F7nXO/fJu1yjugIIgwzrn/Be7A/49YjX9t73bgycAo38K/wN0EvAm8EfgZzrmd+M86eg7YxbGDwafyCP6Dm3XAmfiPVRDYlXEpcB3+tdoq4HtAr+eX498tsygwna/hX7gc+V5l+E+B/VLQ9/o8g/c3/ghwMce2Bo74EBALbMW/2+cx4Mg5798AzgAa8R/IfuKEz34Kf5g14G+TJzm5V4GpQA3+A/LLgtaor8d/umUl/pMBvuacezYw7CH8IV6KP7j+dIr5HCfwe7okUGsV/t/9kpN+6K3TeBr/cZgX8O+22o//dwiAmW0xsxsDvbfiP730a8FbF29nfvL22PG7HEVkODKzm4FbnXO68E8GnbYIREQinIJARCTCadeQiEiE0xaBiEiEG3EXlGVnZ7sJEyYMaBqtra0kJSWdesQIofY4Rm1xPLXHMSO9LV5//fUa51yvt1wZcUEwYcIE1q1bN6BplJSUUFxcPDgFjQJqj2PUFsdTexwz0tvCzPb3NUy7hkREIpyCQEQkwikIREQinIJARCTCKQhERCKcgkBEJMIpCEREItyIu45goJ7efJCVu7p4o3snBpiBYYF3PzM48vyP4OHRUeZ/eaKOvsd4DE+UER11rDvm6HB/d3yMh7jo499jPVFERVmfdYqIDJWIC4Jntx5mxZ5u2LMr3KUQGx31loA48p4Y6yEpNprEOP97Ulw0SbEeEuOiSY7zkBgbTVLgPTkumsRYD8lx0aTExxAfE3U0yERETiXiguAHH5jHVbn1FBcXBx7c7H9G35Gb7/m7weEfRlC/1+fw9ji8Pp///Ui3z9Hd46PH5+jucXiPdPscXV4fnd4eOrt9dPTx3tvw5g4vh5o6aO3soa3LS2tXD11eX7++Y3SUkRLvD4WU+GhS42PITY0jPzWe/LR48lPjyQu856T09QwYEYkUERcEwcz8u3wCfeEspV+6vD7au3po7fL6w6Gzh9ZOf0i0dnpp6fTS1NFNc4eX5qPvXhrbu3njQD2HGjvp6nlrmCREQ85rL5CRFEtmYkzgPdb/nhRLRqL/PTMphozEWNITY/Fot5bIqBHRQTDSxEZHERsdRVpizDv6vHOOutYuqpo6ONTUQVVjJ7UtnWzauZekjHTq2rqpaeli56EW6tu6aOvq6XU6UQaZSXHkpAReyUHdJ/SnxkdrN5XIMKcgiCBmRlZyHFnJccwuTDv68xJPBcXF898yfkd3D/VtXdS1dlHf2k1dWxf1rV3UtHRS09JJdbP/tftQM9UtnXT3vPXZFrHRUeQkx5GXGkdBWgL5afEUpMUHvSeQmxJHjEcnsImEi4JA+hQf46EgLYGCtIRTjuuco7G9+2g4VAcFRXVzJ1VNHWyrauL57Ydp7z5+S8MMcpLjKEhPoCD1WEgUpidQlJHA2MxEspJitWUhEiIKAhkUZkZ64PjB1LyUPsdzztHU4aWqsYODje2Bd3/3wcYO9lS38PLuGpo7vcd9Lj4miqKMRH8wBN6P9mcmkpEYo6AQeYcUBDKkzIy0hBjSEmKYnt93YDR3dFPZ0EF5fRtldW2U17dTXt9OWX0b6w800Njefdz4ibEeijISGJeZxISsRMZnJzE+M5EJWUkUpscTrV1PIn0KaRCY2VLgx4AHuN85990Tho8DfgekB8a50zm3MpQ1yciQEh/D9Py+w6Kpo5vyunbK64+FxIG6Ng7UtfLirmo6g061jY4ypuQmM7swjTljUpkzJo2ZBakkx2k9SARCGARm5gHuBS4ByoG1ZrbCObc1aLS7gEedc78ws1nASmBCqGqS0SM1PoZZhTHMKkx9yzCfz3G4uZP9ta3sr21jX20r2w428c+dh3n8jXLAf1xiYlYSU/OSmZLrf03NTaHT+9YD3iKjXShXiRYCu51zewHMbDlwDRAcBA448p+cBlSGsB6JEFFR5r9wLi2eRZOyjv7cOX9AbK5oZEtlE1sqG9l1uIXnth2mx3csAMasez4QDMdCYkpuMumJseH4OiIhZ0euqB30CZstA5Y6524N9H8QWOScuz1onALgGSADSAIuds693su0bgNuA8jLyztz+fLlA6qtpaWF5OTkAU1jNIn09vD6HIfaHJUtPkrrOqjtjqayxXGw1Ud30PV3qbFGUYoxNiXq6KsgKYpYz+g9SB3pfxvBRnpbLFmy5HXn3ILehoVyi6C3/44TU+d64EHn3A/M7BzgITOb45w77vJX59x9wH0ACxYscAN9gPRIfwj1YFN7HBPcFj0+R0V9O7urm9l9uIWdh1rYeaiZkvJmOr3+s5o8Ucak7CRmFKQyIz+FmQUpzMhPpSAtflScxaS/jWNGc1uEMgjKgbFB/UW8ddfPR4ClAM65NWYWD2QDh0NYl0i/eKKMcVmJjMtK5F0z8o7+vMfnKK1tZfvBZrZXNbHtYDPrD9Tzt43H/rxT46OZUZDK7MJU5halcdqYNCZmJ+vWHDIshTII1gJTzWwiUAFcB9xwwjgHgIuAB81sJhAPVIewJpEB80QZk3OSmZyTzBVzC47+vKmjm51VzWyv8gfE1som/vjaAX77sn8DNzHWw+zCVGYX+oPhtKI0JucoHCT8QhYEzjmvmd0OrMJ/augDzrktZnY3sM45twL4LPBrM/sM/t1GN7tQHbQQCbHU+BgWTMhkwYTMoz/z9vjYU93KmxWNbK5o5M2KRv60towHV5cCkBDjYVZhKqeNSWPe2DTmj81gfFbiqNitJCNHSE+kDlwTsPKEn301qHsrsDiUNYiEU7Qniun5KUzPT2HZmUWAf9fSnuoW3ixvPBoQweGQkRjD/HEZnDEunfnjMphblEZK/Du70aBIf+iKGpEh5okypuWlMC0vhX8LCoddh5tZf6CBN/bXs76sgee3+w+VmcG03BTOGJ/O/LEZzB+XzuScZD3hTgaNgkBkGPBEGTPyU5mRn8r1C8cB0NjezYayBtYfqGf9gQb+b9NB/vhaGeA/GH3m+AzOmpjJWRMyOW1MGvExnnB+BRnBFAQiw1RaQgwXTsvhwmk5gP+K6b01raw/UM/r++tZW1rHCzv851bERkcxryiNC6flcMmsfKblJes4g/SbgkBkhIgK3DNpSm4y71/gPzO7tqXzaCi8uq+O/3lmJ//zzE7GZyVyycw8LpmVxxnjM/S8BzkpBYHICJaVHMels/O5dHY+AIeaOnhu2yGe2XKI36/Zz/0v7SM5LpqzJ2WyeEo2503JZkquthbkeAoCkVEkLzWeGxeN58ZF42nu6ObFXTW8tLuGl3fX8Nw2/8Hn3JQ4Fk/JDryy+vXgIRndFAQio1RKfAyXn1bA5af5L3orq2tj9Z4aXtpdy792VvOX9RUATM5JYvGUbM6fmsO5k7NI0u25I45+4yIRYmxmItdmjuPas8bh8zl2HGrm5d3+LYY/ryvn92v2E+uJYtGkTJZMz2XJjNxwlyxDREEgEoGiooyZBanMLEjl1vMn0eX1sa60jhd2HOaFHdXc/dRW7n5qK3mJxuXNW1gyPZeFEzN1iuoopSAQEWKjozh3SjbnTsnmy1fAgdo2SnYe5rHV23nk1QP89uVSEmI8LJ6Szbtm5HLxrFxyU+LDXbYMEgWBiLzFuKxEPnTOBMZ1lnL24vNZs6eWF3Yc5vnth3lu2yG+/CScMS6DpbPzuWx2PuOyEsNdsgyAgkBETio+xsOSGf5jBt+42rHzUAtPb65i1ZYq/nvlNv575TZm5KdwWSAUZhak6PTUEUZBICL9ZmZHb6L3qYunUlbXxqot/lD4yfO7+PE/djEuM5FLZ+Vx+dwC5o9NVyiMAAoCEXnHxmYmcuv5k7j1/ElUN3fy3LZDrNpSxe/WlHL/S/soykjgqnmFXD2vkBn52lIYrhQEIjIoclLiuH7hOK5fOI6mjm6e2XKIFRsrue9fe/lFyR6m5iZz9bxCrj69kPFZSeEuV4IoCERk0KXGx7DszCKWnVlETUsnf3/zICs2VvKDZ3fyg2d3Mq8ojavmFXLVvELyUnX2UbgpCEQkpLKT4/jgORP44DkTqGxo56lNlazYWMm3/m8b3165jcVTsll2ZhGXzsonIVbXKYSDgkBEhkxhegK3XTCZ2y6YzN7qFp5cX8Hjb1TwqeUbSImL5vLTCrjlvIlMz08Jd6kRRUEgImExKSeZOy6dzqcvnsar++p4/I1y/rapkj+tK2Pp7Hz+86IpzC5MC3eZEUFBICJhFRVlnDM5i3MmZ3HXFTN54KV9/HZ1KU9vqeKiGbn8++KJnDs5S4/mDCEFgYgMG+mJsdxx6XQ+cv4kfre6lAdXl/KP37zKpOwkbjx7PMvOLCItISbcZY46emyRiAw7aQkxfPKiqay+81388Np5pCfG8M2ntrLo289x5+Ob2FzRGO4SRxVtEYjIsBUf4+G984t47/wiNlc08vAr+3lyQwXL15Yxf1w6HzpnPJefVkBctM42GghtEYjIiDBnTBrf/be5vPqli/nqlbNobOvmM3/ayPnfe4Gfl+ymsb073CWOWAoCERlR0hJiuOW8iTx3x4X8/paFTM9P4Z6nd3Dud/7BN5/aSkVDe7hLHHG0a0hERqSoKOOCaTlcMC2HLZWN/Ppfe3kwcID5qrkFfPSCSTr9tJ+0RSAiI97swjR+dN18/vWFJfz7uRN4dushrvjJS9x0/6u8src23OUNewoCERk1xqQncNeVs1j9XxfxxaUz2HGomevue4Xr73uF1/bVhbu8YUtBICKjTlpCDJ8onsyLX1jCV6+cxe7qFj7wqzXc8OtXWFuqQDiRgkBERq34GA+3nDeRF7+whK9cOYudh1p4/y/XcOP9r7BOgXCUgkBERr34GA8fCQTCXVfMZEdVC8t+uYYPPfAa26uawl1e2CkIRCRiJMR6uPX8Sbz4hSV86fIZbCxr4PIfv8gXH9vEoaaOcJcXNgoCEYk4CbEebrtgMv/6/BJuWTyRJ9aXU/z9En747E5aO73hLm/IKQhEJGKlJcZw15Wz+McdxbxrZi4//scuiv+nhOWvHaDH58Jd3pBREIhIxBuXlci9N5zB4584l3GZidz5xJtc+dOXIuaAckiDwMyWmtkOM9ttZnf2Mc4HzGyrmW0xs0dCWY+IyMmcOT6Dxz5+Dj+7YT4NbV0s++UaPvvoRmpaOsNdWkiF7BYTZuYB7gUuAcqBtWa2wjm3NWicqcB/AYudc/VmlhuqekRE+sPMuHJuIUum5/KzF3Zz/4t7+deuav5jzuh9ME4otwgWArudc3udc13AcuCaE8b5KHCvc64ewDl3OIT1iIj0W1JcNF9cOoO//ed5xHqi+PZrHazaUhXuskLCnAvNAREzWwYsdc7dGuj/ILDIOXd70DhPAjuBxYAH+Lpz7ulepnUbcBtAXl7emcuXLx9QbS0tLSQnJw9oGqOJ2uMYtcXx1B5+jZ2OH65rZX+zcdmEaN43NZZYz8jaQliyZMnrzrkFvQ0L5d1He2ulE1MnGpgKFANFwItmNsc513Dch5y7D7gPYMGCBa64uHhAhZWUlDDQaYwmao9j1BbHU3sckxD9Av9qzubhVw6wtz2e//3A6cwZMzrubhrKXUPlwNig/iKgspdx/uqc63bO7QN24A8GEZFhJdZjfOs9p/G7WxbS0NbNe+59mZ89vwtvjy/cpQ1YKINgLTDVzCaaWSxwHbDihHGeBJYAmFk2MA3YG8KaREQG5MJpOTzzmQt492kF/M8zO1n2yzXsrW4Jd1kDErIgcM55gduBVcA24FHn3BYzu9vMrg6MtgqoNbOtwAvA551zunm4iAxr6Ymx/PT6+fzk+vnsq2nlip+8xF83VIS7rHcspE8oc86tBFae8LOvBnU74I7AS0RkRLl6XiELJ2Ry+yNv8KnlG1h/oIEvXT6T2OiRda3uyKpWRGSYyU+L54+3nc0tiyfy4OpSrrtvDQcbR9ZzkxUEIiIDFOOJ4qtXzeJnN8xne1UzV/7kJVbvrgl3Wf2mIBARGSRXzi1kxe2LSU+M4abfvMpDr+wPd0n9oiAQERlEU3JT+Ovt57Fkei5feXIz9zy9nVBduDtYFAQiIoMsOS6aX33wTK5fOI6fl+zhs49upMs7fK83COlZQyIikSraE8W33zuHwrR4fvDsTg43d/KLm84gJT4m3KW9hbYIRERCxMz4z4um8v1lc3llby3X/uoV6lq7wl3WWygIRERC7P0LxnL/hxewp7qFG379yrB7voGCQERkCBRPz+WBm8+itLaVG349vLYMFAQiIkNk8ZRsHrj5LPbXtvHhB16jqaM73CUBCgIRkSF17uRsfnHTGWw72MStv1tHR3dPuEtSEIiIDLV3zcjjf689ndf21fG5P2/E5wvvdQY6fVREJAyunldIZUM73/37diZkJfG5y6aHrRZtEYiIhMnHLpjE++aP4Vf/2sOhpo6w1aEgEBEJEzPjUxdPxetzPLQmfPclUhCIiITR+KwkLp2VxwMv7wvbk84UBCIiYfb1q2cTGx3Fp5ZvCMs9iRQEIiJhVpCWwPf+bS5vVjTy0+d3Dfn8FQQiIsPAZbPzed/8MfyiZA/bDjYN6bwVBCIiw8RXrpxFWkIMdz7x5pBeW6AgEBEZJjKSYvnS5TPZWNbAX9ZXDNl8FQQiIsPIe+ePYd7YdL739Hbau4bm9hMKAhGRYSQqyvjy5TM53NzJw0P0zGMFgYjIMLNwYibnT83ml//cQ1uXN+TzUxCIiAxDn7xoKrWtXTzxRuiPFSgIRESGoQXjM5hblMZvX94X8jOIFAQiIsOQmfHhcyawp7qVdfvrQzovBYGIyDD17tPySYz18Pjr5SGdj4JARGSYSoyNZumcfFZuPkh3T+juQaQgEBEZxi6dlU9zh5d1paHbPaQgEBEZxs6fmk2sJ4qSHYdDNg8FgYjIMJYUF81pRWmsLa0L2TwUBCIiw9yC8Rlsrmii0xuaW04oCEREhrlZhal09fjYV9MakukrCEREhrkpuckA7D4cmkdZhjQIzGypme0ws91mdudJxltmZs7MFoSyHhGRkailw3+/ofhoT0imH7IgMDMPcC/wbmAWcL2ZzeplvBTgk8CroapFRGQke2VvHWZw1sTMkEz/lEFgZrebWcY7mPZCYLdzbq9zrgtYDlzTy3jfBO4BOt7BPERERr39ta0UpiWQlhATkulH92OcfGCtmb0BPACscs715w5IY4CyoP5yYFHwCGY2HxjrnHvKzD7X14TM7DbgNoC8vDxKSkr6Mfu+tbS0DHgao4na4xi1xfHUHseEsy1qqjtpa+8J2fxPGQTOubvM7CvApcC/Az8zs0eB3zjn9pzko9bb5I4ONIsCfgjc3I8a7gPuA1iwYIErLi4+1UdOqqSkhIFOYzRRexyjtjie2uOYcLbFqro32dpwKGTz79cxgsAWQFXg5QUygMfM7J6TfKwcGBvUXwRUBvWnAHOAEjMrBc4GVuiAsYjI8Tq6e0iIDd25PafcIjCzTwIfBmqA+4HPO+e6A2v0u4Av9PHRtcBUM5sIVADXATccGeicawSyg+ZTAnzOObfunX0VEZHRqaXTS1Jsf/bkvzP9mXI28D7n3HEPz3TO+czsyr4+5JzzmtntwCrAAzzgnNtiZncD65xzKwZSuIhIpDjc1EFOSlzIpt+fYwRfPcmwbaf47EpgZX+m55wrPlUtIiKRqLKxg+n5KSGbvq4sFhEZxhrauqhu7mRyTnLI5qEgEBEZxrYdbAZgRkFqyOahIBARGcbeOOB/IM2cQgWBiEhEenVfHdPykslKDt3BYgWBiMgw1dbl5bV9tZw7OfvUIw+AgkBEZJj6185qOrp9XDorL6TzURCIiAxTf9t0kIzEGBaG6K6jRygIRESGofrWLp7dcoj3zB9DtCe0i2oFgYjIMPTY6+V09fj4wIKxpx55gBQEIiLDTHePj9++vI9FEzOZGcLrB45QEIiIDDMrNlRS2djBxy6cNCTzUxCIiAwjXV4fP/rHTmYXplI8LXdI5qkgEBEZRh54eR9lde187rLpREX19nyvwacgEBEZJh57vZzv/n07l87Ko3hazpDNV0EgIjIMrNpSxRce28h5U7L5yfXzMRuarQFQEIiIhN3hpg6+8NgmThuTxn0fOpP4GM+Qzl9BICISRs45vvSXzXR09/DDa08nMYSPpOyLgkBEJIwefvUAz207xOcvm86kED585mQUBCIiYbK1solvPrWV4uk53LJ4YtjqUBCIiIRBQ1sXH3/4ddITYvjB++cN2amivRn6nVEiIhHO2+Pj9kfWU9XYwfKPnR3Sh870h4JARGQIOef4+t+28NLuGu5ZNpczxmWEuyTtGhIRGUo/L9nDw68c4OMXTh6SO4v2h4JARGSILH/tAN9ftYP3nF7IFy6bHu5yjlIQiIgMgb+sL+e//vImS6bncM+y8B4cPpGCQEQkxJ54o5zPPrqRcyZl8YubziQ2engteodXNSIio8xvX97HHY9u5OxJWfz6QwuG/PYR/aGzhkREQsA5x4//sYsfPbeLS2fl8ZPr5w/LEAAFgYjIoPP5HHc/tZUHV5ey7Mwivvu+00L+APqBUBCIiAyiju4evvj4Jv66oZJbFk/kritmDqsDw71REIiIDJKDje187KHX2VTeyOcvm87/K548pM8VeKcUBCIig+D1/XV87KE3aO/yct8Hz+TS2fnhLqnfFAQiIgP0p7UHuOvJzRSmJ/DIRxcxLS8l3CW9LQoCEZF3qKalk3ue3s6j68o5f2o2P71+PumJseEu621TEIiIvE0d3T389nBjfCMAABGkSURBVOVSfv7Cbtq6e/j4hZP53KXThvWZQScT0iAws6XAjwEPcL9z7rsnDL8DuBXwAtXALc65/aGsSURkIF7aVcOdT2yivL6di2fmcue7ZzIlNzxPFhssIQsCM/MA9wKXAOXAWjNb4ZzbGjTaemCBc67NzD4B3ANcG6qaRETeqQ6v4ytPbuahV/YzKSeJP9y6iMVTssNd1qAI5RbBQmC3c24vgJktB64BjgaBc+6FoPFfAW4KYT0iIu/Ia/vq+MrL7dR07OfW8ybyucumD9urhN+JUAbBGKAsqL8cWHSS8T8C/L23AWZ2G3AbQF5eHiUlJQMqrKWlZcDTGE3UHseoLY4X6e3R1eN4fFcXz5R6yYp33HlWAtOTD/PKy4fDXdqgCmUQ9HYVhet1RLObgAXAhb0Nd87dB9wHsGDBAldcXDygwkpKShjoNEYTtccxaovjRXJ7rN5Tw91PbmZvtZcPnj2excnVLL14SbjLColQBkE5EPz4nSKg8sSRzOxi4MvAhc65zhDWIyJySoebOvjvldv464ZKxmYm8NBHFnL+1JxRvWUUyiBYC0w1s4lABXAdcEPwCGY2H/gVsNQ5N7q2tURkRPH2+Pj9mv388NmddHp9fPKiqfy/4smj6lhAX0IWBM45r5ndDqzCf/roA865LWZ2N7DOObcC+D6QDPw5cD+OA865q0NVk4hIb17fX89dT25m28EmLpiWwzeuns3E7KRwlzVkQnodgXNuJbDyhJ99Naj74lDOX0TkZMrr2/jBMzv5y/oKCtLi+cWNZ7B0Tv6IuFHcYNKVxSIScRrbuvl5yW5+u7oUAz5RPJnbl0whKS4yF4mR+a1FJCJ1ent4aM1+fvr8bpo6uvm3M4q445JpFKYnhLu0sFIQiMio5/M5/rapku+v2kF5fTsXTsvhznfPYGZBarhLGxYUBCIyavX4HCvfPMhPn9/FzkMtzC5M5bvvm8t5U0fHrSEGi4JAREadHp/jqU2V/PT53ew+3MKU3GR+fN3pXDW3cNg/NjIcFAQiMmp4e3w8tcm/BbCnupVpecn87Ib5XD6nQAFwEgoCERnxurw+/rqhgp+X7GFfTSsz8lP4+Y1nsHR2vgKgHxQEIjJitXR6Wf7aAX7z0j4ONnYwsyCVX950BpfOUgC8HQoCERlRnHNsrmjiyQ0VPLqujOYOL2dPyuQ77zuNC6flRNzFYINBQSAiI8Ke6hZWbKhkxcZK9tW0EuMxLp2Vz0cvmMTpY9PDXd6IpiAQkWGr09vD05ureGjNftbtr8cMzp6YxccumMS75xSQlhgT7hJHBQWBiAw7ZXVt/OHVA/x5XRm1rV2Mz0rkv949g2tOH0N+Wny4yxt1FAQiMiz0+BwvbD/Mw6/u5587qzHg4pl53HT2eM6bkq2DvyGkIBCRsKpoaOeJ18tZvraMioZ2clPi+M93TeX6hWMpSIvsewANFQWBiAy5ti4vq7ZU8djr5azeU4tzsHhKFnddMZOLZ+UR44kKd4kRRUEgIkPCOcfa0noee72MlW9W0dLpZWxmAp++aBrvO2MMYzMTw11ixFIQiEhIldW18Zf1FTz+Rjn7a9tIjPVwxWkFLDuziLMmZGrf/zCgIBCRQVfV2MFTmyp5atNBNpQ1AHDOpCw++a6pLJ2TH7EPgBmu9NsQkUFR09LJ3zdX8beNlawtrcM5mF2YyheXzuDKuQXa9TOMKQhE5B1rbOtm1ZYq/rapktV7aunxOabkJvPpi6Zx5bwCJuckh7tE6QcFgYi8LVWNHTy7tYpnth5izZ5avD7HuMxEPn7hJK6aV8j0vBTd72eEURCIyEk559hT3cKqLYd4ZushNgb2+U/KTuLW8yexdE4+84rStPAfwRQEIvIWPp9jQ3kDj+7o4u51/2RvTSsA88am8/nLpnPZ7Dym5KaEuUoZLAoCEQGgqaObl3bV8Pz2w5TsqKampROPwblT0vj3xRO4ZFa+7vMzSikIRCJUa6eXjeUNrD/QwIu7qllXWo/X50iNj+bC6blcNCOXmJqdXHHJonCXKiGmIBCJEJUN7byyt5Y3DtTzxv4Gtlc14XP+YdPzUrj1/Em8a0YuZ4xLJzpwi4eSkl1hrFiGioJAZJSqb+1izd5aXt5dw+o9tewL7OdPivVw+rh0/mPJFM4Yl8HpY9PJSIoNc7USTgoCkVGircvLa/vqWL3Hv/DferAJ5/wL/kWTsrhx0TjOmZzFjPxUPLqtgwRREIiMUG1dXtYfaOC1fXWs2VPL+rJ6unscMR7jjHEZfObiaSyeksXconTdzVNOSkEgMkLUt3axtrSOtaV1vFZaz5aKRrw+hxnMKUzjlvMmsnhyNmdNyCQh1hPucmUEURCIDFMVDe2s3VfHa6V1rN1Xx67DLQDEeqKYNzaN2y6YxFkTMzlzfAap8Xp2r7xzCgKRYaCju4c3KxrZcKCB9WX1bDjQQGVjBwDJcdGcOT6D98wfw1kTMplblEZ8jNb4ZfAoCESGmHOOfTWtrD/QwIYy/4J/+8FmvIFzOYsyEjhjfAa3jstg4cRMZhbo4K6EloJAJISccxxq6mRzRaN/jb/Mv/BvbO8G/Gf0zBubzm0XTGJ+4FTOnJS4MFctkUZBIDJInHOU17ezpbKRzRVNvFnRyJbKRmpaugAw81+49e45+cwfl87pYzOYkpustX0Ju5AGgZktBX4MeID7nXPfPWF4HPB74EygFrjWOVcayppEBkOPz7G/tpWtBwML/IomNlc20tDmX9P3RBlTc5Mpnp7LaWPSmDMmlZkFqSTGat1Lhp+Q/VWamQe4F7gEKAfWmtkK59zWoNE+AtQ756aY2XXA94BrQ1WTyNvlnKO6pZN91a1sr2pm28EmtlU1s7OqmfbuHgBiPMb0fP+a/uzCNOaMSWNGfooO6MqIEcrVk4XAbufcXgAzWw5cAwQHwTXA1wPdjwE/MzNzzrkQ1iVynO4eH/tr29hT3cLz+7p5vnEzZXVtlNW3U17fRke37+i46YkxzMxP5fqF45hRkMKsglSm5aUQG60LtmTkCmUQjAHKgvrLgRNvY3h0HOec18wagSygJngkM7sNuA0gLy+PkpKSARXW0tIy4GmMJpHSHh1ex8FWHwdbHZUtPn93i49DbY6eoFWPxOj9ZCdEkZNoTB4TRU5CNLmJxtiUKNLjDLMOoANaDlOzC2pG8X3ZIuVvoz9Gc1uEMgh6OwJ24pp+f8bBOXcfcB/AggULXHFx8YAKKykpYaDTGE1GU3v0+ByVDe2U1rZSWtPKnupW9lS3sOdwy9Hz8sG/D398ViJzxifzntxkJuckMyU3mfLt67nikiVh/AbDy2j62xio0dwWoQyCcmBsUH8RUNnHOOVmFg2kAXUhrElGge4eHxX17eyrbWV/TSultW3sr21lf20bZfVtdAet3ifGepick8yiSVlMyU1mck4SU3KTGZeZ1OvunPo9OoNHIk8og2AtMNXMJgIVwHXADSeMswL4MLAGWAY8r+MD4vM5alo6Katvp6LBv5++vL6d8vp29te2Ul7fTo/v2J9JUqyH8VlJzChI4bI5+UzISmR8VhLjsxLJT43Xs3RFTiFkQRDY5387sAr/6aMPOOe2mNndwDrn3ArgN8BDZrYb/5bAdaGqR4YPb4+P6pZOKo4u6I8t7Cvq2ylvaKfL6zvuM5lJsRRlJDC3KJ2r5xUyPivp6AI/OzlWC3uRAQjpSc3OuZXAyhN+9tWg7g7g/aGsQYZWR3cPVY0dHGzs4FBT8Hs7VU2dVDW2U93cie+E7b7s5FjGZCQyszCVS2blUZSRQFFGIkUZCRSmJ5AUp/PvRUJF/11yUs45Orp9tHR6aen0Ut3cSXVzJ4ebOwLv/v5DTR1UNXUcvaAqWEp8NPmp8eSnxTM9L4f81Hjy0uIZk+5f2I9JT9Btk0XCSEEQITq9PTS0dVPX2kV9Wxf1rd2B9y7e3NnJXw9t8Pe3ddPc0U1bZw+tnV5au7xvWXs/IjrKyE6OIzc1jqKMBBZMyKAgLeHoQj8/LZ781HitzYsMc/oPHSG8Pf618qZ2L00d3TR1dNPc4aWpvZumDi/NHd00tQfejwzr6Ka+tZuGti5au3r6nHa8B7Kb6shMiiU90b8vPinWQ1JcNEmx0STFRZMc5+/PSYkjJyWO3JR40hNiiNJ9ckRGPAXBADnn6PT6Aq8eOruDur0+Ort9dPX46OzuOTpee3cPbZ1eWrt6aO/yvx/r76G1y+tfI+/yHu0Pvrq1L0mxHlITYkiNjyElPpqc5Dim5aaQkRRLRmJM4D3wSoohMzGWtMQY1rz04qg9P1pETi1iguD+F/fy/VU7cEBPjw97ZiUO8DmHcxBlEOOJIjY6ilhPFDGeKGKijRhPFM75z1339ji8Ph/dPe5of1fPqRfQJ5MY6wm8oo92J8dFk5sSR1JsNAmBNfPEWM/RBXxqQuA9Poa0QHdyXDTRei6tiLwDERMEswvTuPncCZgZZQcOMH78OKLMMPNf3uwLLOy7enx09/jo9voX8l09PqLMiIkyoj1GtMcfFNFR/u646CjiYqKIi/b4u6P9YRIX7Qn8/Niw+JgoYj0e4mOj/Av5GI92rYhI2EVMEJwzOYtzJmcBUFJSRXHxjDBXJCIyPGhfgohIhFMQiIhEOAWBiEiEUxCIiEQ4BYGISIRTEIiIRDgFgYhIhFMQiIhEOBtpDwQzs2pg/wAnkw3UDEI5o4Xa4xi1xfHUHseM9LYY75zL6W3AiAuCwWBm65xzC8Jdx3Ch9jhGbXE8tccxo7kttGtIRCTCKQhERCJcpAbBfeEuYJhRexyjtjie2uOYUdsWEXmMQEREjonULQIREQlQEIiIRLhRHQRmttTMdpjZbjO7s5fhcWb2p8DwV81swtBXOTT60RYXmNkbZuY1s2XhqHEo9aM97jCzrWa2ycz+YWbjw1HnUOhHW3zczN40sw1m9pKZzQpHnUPlVO0RNN4yM3NmNvJPKXXOjcoX4AH2AJOAWGAjMOuEcf4f8MtA93XAn8JddxjbYgIwF/g9sCzcNQ+D9lgCJAa6PxHhfxupQd1XA0+Hu+5wtkdgvBTgX8ArwIJw1z3Q12jeIlgI7HbO7XXOdQHLgWtOGOca4HeB7seAi8xsND5E+JRt4Zwrdc5tAnzhKHCI9ac9XnDOtQV6XwGKhrjGodKftmgK6k0CRvMZJv1ZbgB8E7gH6BjK4kJlNAfBGKAsqL888LNex3HOeYFGIGtIqhta/WmLSPJ22+MjwN9DWlH49KstzOw/zGwP/oXfJ4eotnA4ZXuY2XxgrHPuqaEsLJRGcxD0tmZ/4ppMf8YZDSLle/ZXv9vDzG4CFgDfD2lF4dOvtnDO3eucmwx8Ebgr5FWFz0nbw8yigB8Cnx2yiobAaA6CcmBsUH8RUNnXOGYWDaQBdUNS3dDqT1tEkn61h5ldDHwZuNo51zlEtQ21t/u3sRx4T0grCq9TtUcKMAcoMbNS4GxgxUg/YDyag2AtMNXMJppZLP6DwStOGGcF8OFA9zLgeRc4EjTK9KctIskp2yOw+f8r/CFwOAw1DpX+tMXUoN4rgF1DWN9QO2l7OOcanXPZzrkJzrkJ+I8fXe2cWxeecgfHqA2CwD7/24FVwDbgUefcFjO728yuDoz2GyDLzHYDdwB9nio2kvWnLczsLDMrB94P/MrMtoSv4tDq59/G94Fk4M+B0yZHZXD2sy1uN7MtZrYB///Jh/uY3IjXz/YYdXSLCRGRCDdqtwhERKR/FAQiIhFOQSAiEuEUBCIiEU5BICIS4RQEIiIRTkEgIhLhFAQiAxS4GG+TmcWbWVLg4qs54a5LpL90QZnIIDCzbwHxQAJQ7pz7TphLEuk3BYHIIAjcl2Yt/vvTn+uc6wlzSSL9pl1DIoMjE/+9iVLwbxmIjBjaIhAZBIGb0i0HJgIFzrnbw1ySSL9Fh7sAkZHOzD4EeJ1zj5iZB1htZu9yzj0f7tpE+kNbBCIiEU7HCEREIpyCQEQkwikIREQinIJARCTCKQhERCKcgkBEJMIpCEREItz/BxlbIzIrwc97AAAAAElFTkSuQmCC\n",
=======
   "execution_count": 10,
   "metadata": {},
   "outputs": [
    {
     "name": "stdout",
     "output_type": "stream",
     "text": [
      "[[0.0, 0.008778171472053405, 0.017460485776380222, 0.026045405469594454, 0.03453147573404359, 0.04291730405754595, 0.05120154134393058, 0.05899461139321947, 0.06707325890483591, 0.07504610710614934, 0.08291180707258353, 0.09066897650478695, 0.09831618700653577, 0.10585195205372983, 0.11285813949903298, 0.12016671204715104, 0.127358628111912, 0.13443204962836414, 0.14138502727636482, 0.1482154908932751, 0.15492124010681055, 0.16103991594295666, 0.16748819887966893, 0.17380394727631068, 0.1799843368614076, 0.1860263678814681, 0.19192685659098493, 0.1976824269331769, 0.20275958018271606, 0.208211862598596, 0.21350742802682646, 0.21864203557476877, 0.22361121456215452], [0.22346407175064087, 0.2186741129191656, 0.21371251858660656, 0.20858424852146154, 0.20329401114806966, 0.19784627002639862, 0.19224525113847524, 0.18597879333362102, 0.1800851141446039, 0.17404908137805822, 0.1678740701199278, 0.16156326015605715, 0.1551196453676063, 0.14854604322315854, 0.1414106620100119, 0.13458535855090512, 0.1276372405814523, 0.12056852725789811, 0.1133813093102912, 0.10607755912438908, 0.09865914099886067, 0.09074951900447134, 0.08310624436802751, 0.07535309518912497, 0.06749162048164002, 0.059523316951237394, 0.05144964164262705, 0.043272025239537444, 0.03465675388270077, 0.026273877499412852, 0.01779113108122195, 0.00921000030907929, 0.0005320247276822156]]\n"
     ]
    },
    {
     "data": {
      "image/png": "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\n",
>>>>>>> 9a7fa0f6a5c342997c97366621295885ab39602a
      "text/plain": [
       "<Figure size 432x288 with 1 Axes>"
      ]
     },
     "metadata": {
      "needs_background": "light"
     },
     "output_type": "display_data"
    }
   ],
   "source": [
<<<<<<< HEAD
    "c=0.2\n",
    "data=simple_contour(h,float(c))\n",
    "#print(data)\n",
=======
    "c=1.5\n",
    "data=simple_contour(f,float(c))\n",
    "print(data)\n",
>>>>>>> 9a7fa0f6a5c342997c97366621295885ab39602a
    "plt.plot(data[0],data[1])\n",
    "plt.grid()\n",
    "plt.title(f\"Courbe de niveau pour c={float(c)}\")\n",
    "plt.xlabel(\"x\")\n",
    "plt.ylabel(\"y\")\n",
    "plt.show()"
   ]
  },
  {
   "cell_type": "markdown",
   "metadata": {},
   "source": [
    "# 2ème partie : Contour complexe"
   ]
  },
  {
   "cell_type": "code",
   "execution_count": 11,
   "metadata": {},
   "outputs": [],
   "source": [
    "def find_seedx(f, c=0.0, x=0.0, y1 = 0.0, y2 = 1.0, eps = 2**(-26)):\n",
    "    if not f(x,y1)<= c <= f(x,y2) and not f(x,y2)<= c <= f(x, y1):\n",
    "            return None  \n",
    "    a = y1\n",
    "    b = y2\n",
    "    t = (a+b)/2 \n",
    "    while abs(f(x,t)- c) > eps :  \n",
    "        if (f(x, a) - c)*(f(x,t) - c) >= 0:\n",
    "            a = t\n",
    "        else :\n",
    "            b = t\n",
    "        t = (a+b)/2\n",
    "    return t "
   ]
  },
  {
   "cell_type": "code",
   "execution_count": 12,
   "metadata": {},
   "outputs": [],
   "source": [
    "def find_seedy(f, c=0.0, y=0.0, x1 = 0.0, x2 = 1.0, eps = 2**(-26)):\n",
    "    if not f(x1, y)<= c <= f(x2, y) and not f(x2, y)<= c <= f(x1, y):\n",
    "            return None  \n",
    "    a = x1\n",
    "    b = x2\n",
    "    t = (a+b)/2\n",
    "    while abs(f(t, y)-c) > eps :  \n",
    "        if (f(a, y)-c)*(f(t, y)-c) >= 0:\n",
    "            a = t\n",
    "        else :\n",
    "            b = t\n",
    "        t = (a+b)/2\n",
    "    return t "
   ]
  },
  {
   "cell_type": "markdown",
   "metadata": {},
   "source": [
    "On modifie légérement le début de la fonction contour_simple afin de chercher des valeurs sur les 4 bords"
   ]
  },
  {
   "cell_type": "code",
   "execution_count": 13,
   "metadata": {},
   "outputs": [],
   "source": [
    "def simple_contourmodif(f,c=0.0,delta=0.01, x1 = 0.0, x2 = 1.0, y1 = 0.0, y2 = 1.0):\n",
    "    coté_X = [x1, x2]\n",
    "    coté_Y = [y1, y2]\n",
    "    test_coté = False\n",
    "    for i in coté_X:\n",
    "        a = find_seedx(f, c, i, y1, y2)\n",
    "        if a != None:\n",
    "            X = [i]\n",
    "            Y = [a]\n",
    "            test_coté = True\n",
    "            \n",
    "    for i in coté_Y:\n",
    "        a = find_seedy(f, c, i, x1, x2)\n",
    "        if a != None:\n",
    "            Y = [i]\n",
    "            X = [a]\n",
    "            test_coté = True\n",
    "            \n",
    "    if test_coté == False:\n",
    "        return [[],[]]\n",
    "    \n",
    "    \n",
    "    point_précédent = [X[-1],Y[-1]]\n",
    "    gradient = grad(f, point_précédent[0], point_précédent[1]) #on calcule le gradient au premier point trouvé\n",
    "    tangente = [-gradient[1], gradient[0]] #le gradient dirige la normale à la tangente.\n",
    "    tangente_normalisée = normalisation(tangente, delta) #la norme du vecteur tangent est delta\n",
    "    \n",
    "    if x1 <= (point_précédent[0] + tangente_normalisée[0]) <= x2 and  y1 <= point_précédent[1] + tangente_normalisée[1] <= y2:  #on vérifie que le point choisi en second partira bien vers la droite (x>=0)\n",
    "        deuxième_point = (point_précédent[0] + tangente_normalisée[0],\n",
    "                          point_précédent[1] + tangente_normalisée[1]\n",
    "                         )\n",
    "    else : \n",
    "        deuxième_point = (point_précédent[0] - tangente_normalisée[0],\n",
    "                          point_précédent[1] - tangente_normalisée[1]\n",
    "                         )\n",
    "         \n",
    "    nouveau_point = np.array(deuxième_point)\n",
    "    def F(x, y): #on définit le système à 2 équations\n",
    "        return np.array([f(x,y) - c,(x - point_précédent[0])**2 + (y - point_précédent[1])**2 - delta**2])\n",
    "        \n",
    "    def Jacob(F, x, y):  #on définit la jacobienne.\n",
    "        j = autograd.jacobian\n",
    "        return np.c_[j(F,0)(x, y),j(F,1)(x, y)]\n",
    "    \n",
    "    A = F( nouveau_point[0],  nouveau_point[1])   #matrice associéé au système 2x2\n",
    "    \n",
    "    while distanceeucl(A,[0,0]) >= 2**(-10) :\n",
    "        nouveau_point =  nouveau_point - np.linalg.inv(Jacob(F,  nouveau_point[0], nouveau_point[1])).dot(np.array(A))\n",
    "        A = F( nouveau_point[0],  nouveau_point[1])\n",
    "    X += [ nouveau_point[0]]\n",
    "    Y += [ nouveau_point[1]]\n",
    "    \n",
    "    \n",
    "    while X[-1] < x2 + delta and Y[-1] < y2 + delta and X[-1] > x1 - delta and Y[-1] > y1 - delta:\n",
    "        distance = []\n",
    "        point_précédent = [X[-1], \n",
    "                           Y[-1]\n",
    "                          ]\n",
    "    \n",
    "        gradient = grad(f, point_précédent[0], point_précédent[1])\n",
    "        tangente=[-gradient[1],gradient[0]]\n",
    "        tangente_normalisée = normalisation(tangente,delta)\n",
    "        point1 = [point_précédent[0] + tangente_normalisée[0],\n",
    "                  point_précédent[1] + tangente_normalisée[1]\n",
    "                 ]\n",
    "        \n",
    "        point2 = [point_précédent[0] - tangente_normalisée[0],\n",
    "                  point_précédent[1] - tangente_normalisée[1]]\n",
    "        liste_point = [point1, point2]\n",
    "        \n",
    "        for i in liste_point:            \n",
    "            distance += [distanceeucl((X[-2], Y[-2]), i)]\n",
    "            \n",
    "        e = distance.index(max(distance))       \n",
    "        nouveau_point = np.array(liste_point[e])\n",
    "        def F(x, y): #on définit le système à 2 équations\n",
    "            return np.array([f(x,y) - c,(x - point_précédent[0])**2 + (y - point_précédent[1])**2 - delta**2])\n",
    "        \n",
    "        def Jacob(F, x, y):  #on définit la jacobienne.\n",
    "            j = autograd.jacobian\n",
    "            return np.c_[j(F,0)(x, y),j(F,1)(x, y)]\n",
    "        \n",
    "        A = F(nouveau_point[0], nouveau_point[1])   # Il s'agit du point intermédiaire permettant d'initialiser Newton.\n",
    "        \n",
    "        while distanceeucl(A,[0,0]) >= 2**(-10):            \n",
    "            A = F(nouveau_point[0],nouveau_point[1])\n",
    "            nouveau_point = nouveau_point - np.linalg.inv(Jacob(F, nouveau_point[0], nouveau_point[1])).dot(np.array(A))\n",
    "        X += [nouveau_point[0]]\n",
    "        Y += [nouveau_point[1]]\n",
    "    return [X, Y]"
   ]
  },
  {
   "cell_type": "markdown",
   "metadata": {},
   "source": [
    "Puis on définit contour"
   ]
  },
  {
   "cell_type": "code",
   "execution_count": 21,
   "metadata": {},
   "outputs": [],
   "source": [
    "def contour(f,c, xc = [0.0,1.0], yc = [0.0,1.0], delta = 0.01):\n",
    "    X_tot = []\n",
    "    Y_tot = []\n",
    "    for i in range(len(yc) - 1):\n",
    "        for j in range(len(xc)-1):\n",
    "            xg = xc[j]\n",
    "            xd = xc[j+1]\n",
    "            yg = yc[i]\n",
    "            yd = yc[i+1]\n",
    "            R = simple_contourmodif(f, c, delta , xg, xd, yg, yd)\n",
    "            X_tot.append(R[0])\n",
    "            Y_tot.append(R[1])\n",
    "    return [X_tot, Y_tot]\n",
    "  \n",
    "\n",
    "            \n",
    "            \n",
    "            \n",
    "    "
   ]
  },
  {
   "cell_type": "code",
   "execution_count": 26,
   "metadata": {},
   "outputs": [
    {
     "data": {
      "image/png": "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\n",
      "text/plain": [
       "<Figure size 432x288 with 1 Axes>"
      ]
     },
     "metadata": {
      "needs_background": "light"
     },
     "output_type": "display_data"
    }
   ],
   "source": [
    "c = 1\n",
    "xc = np.linspace(-2,3,10)\n",
    "yc = np.linspace(-1,2,5)\n",
    "valeur = np.arange(-1.5, 2, 0.5)\n",
    "v = [\"b\",\"c\",\"g\",\"r\",\"m\",\"b\",\"y\"]\n",
    "for i in range(len(valeur)):\n",
    "    data = contour(f,float(valeur[i]), xc, yc)\n",
    "    for x,y in zip(data[0],data[1]):\n",
    "        plt.plot(x, y, color = v[i])\n",
    "plt.grid()\n",
    "plt.title(f\"Courbe de niveau pour c={float(c)}\")\n",
    "plt.xlabel(\"x\")\n",
    "plt.ylabel(\"y\")\n",
    "plt.show()\n"
   ]
  },
  {
   "cell_type": "code",
   "execution_count": null,
   "metadata": {},
   "outputs": [],
   "source": []
  }
 ],
 "metadata": {
  "kernelspec": {
   "display_name": "Python 3",
   "language": "python",
   "name": "python3"
  },
  "language_info": {
   "codemirror_mode": {
    "name": "ipython",
    "version": 3
   },
   "file_extension": ".py",
   "mimetype": "text/x-python",
   "name": "python",
   "nbconvert_exporter": "python",
   "pygments_lexer": "ipython3",
   "version": "3.7.3"
  }
 },
 "nbformat": 4,
 "nbformat_minor": 2
}
