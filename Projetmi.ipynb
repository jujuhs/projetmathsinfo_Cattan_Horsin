{
 "cells": [
  {
   "cell_type": "markdown",
   "metadata": {},
   "source": [
    "#   **Projet Maths Info Horsin/Cattan**\n",
    "\n",
    "\n",
    "\n"
   ]
  },
  {
   "cell_type": "markdown",
   "metadata": {},
   "source": [
    "Soit $f :  \\mathbb{R^2} \\to \\mathbb{R}$   continûment différentiable  et $c \\in \\mathbb{R}$.\n",
    "\n",
    "Le but du projet est de trouver l'ensemble $\\{ \\:(x,y) \\:/ \\:f(x,y)=c \\: \\}$.\n",
    "\n",
    "# 1ère Partie: **Contour Simple**\n",
    "\n",
    "## L'amorce\n",
    "\n",
    "Nous avons choisi d'utiliser un algorithme dichotomique dans un premier temps, qui est plus robuste qu'un algorithme de Newton. En effet, n'ayant aucune information sur la valeur initiale (indispensable pour garantir la convergence), il semble plus cohérent d'utiliser une dichotomie.\n",
    " "
   ]
  },
  {
   "cell_type": "code",
   "execution_count": 1,
   "metadata": {},
   "outputs": [],
   "source": [
    "def find_seed(f, c=0.0, x=0.0, eps = 2**(-26)):\n",
    "    if not f(x,1.0)<= c <= f(x,0.0) and not f(x,0 )<= c <= f(x,1.0):\n",
    "            return None  \n",
    "    a = 0\n",
    "    b = 1\n",
    "    t = 0.5\n",
    "    while abs(f(x,t)-c) > eps :  \n",
    "        if (f(x,a)-c)*(f(x,t)-c) >= 0:\n",
    "            a = t\n",
    "        else :\n",
    "            b = t\n",
    "        t = (a+b)/2\n",
    "    return t "
   ]
  },
  {
   "cell_type": "markdown",
   "metadata": {},
   "source": [
    "### Le contour simple\n",
    "\n",
    "Pour la suite, nous allons définir quelques fonctions dont nous aurons besoin pour la fonction simple_contour.\n",
    "Commençons par importer les bibliothèques utiles. Rappelons que dans cette section, nous supposons l'existence d'un premier point situé sur l'arête gauche du carré [0,1]x[0,1]."
   ]
  },
  {
   "cell_type": "code",
   "execution_count": 2,
   "metadata": {},
   "outputs": [],
   "source": [
    "import matplotlib.pyplot as plt  \n",
    "import autograd\n",
    "from autograd import numpy as np"
   ]
  },
  {
   "cell_type": "markdown",
   "metadata": {},
   "source": [
    "Définissons maintenant une fonction permettant de calculer une distance euclidienne dans $\\mathbb{R^2}$"
   ]
  },
  {
   "cell_type": "code",
   "execution_count": 3,
   "metadata": {},
   "outputs": [],
   "source": [
    "def distanceeucl(x, y):\n",
    "    return np.sqrt(((x[0]-y[0])**2)+((x[1]-y[1])**2))"
   ]
  },
  {
   "cell_type": "markdown",
   "metadata": {},
   "source": [
    "Définissons ensuite une fonction permettant de donner à un vecteur une norme souhaitée."
   ]
  },
  {
   "cell_type": "code",
   "execution_count": 4,
   "metadata": {},
   "outputs": [],
   "source": [
    "def normalisation(vecteur,normev): # l'idée est de rendre le vecteur unitaire puis de le multiplier par la norme souhaitée\n",
    "    norme = distanceeucl(vecteur,(0,0))\n",
    "    x = vecteur[0]\n",
    "    y = vecteur[1]\n",
    "    return (x*normev/norme, y*normev/norme)"
   ]
  },
  {
   "cell_type": "markdown",
   "metadata": {},
   "source": [
    "Définissons enfin la fonction gradient qui calcule le gradient à l'aide de la bibliothèque autograd. "
   ]
  },
  {
   "cell_type": "code",
   "execution_count": 5,
   "metadata": {},
   "outputs": [],
   "source": [
    "def grad(f, x, y):\n",
    "    g = autograd.grad\n",
    "    return np.r_[g(f, 0)(x, y), g(f, 1)(x, y)]"
   ]
  },
  {
   "cell_type": "markdown",
   "metadata": {},
   "source": [
    "## Comment obtenir les points le plus précisément possible ?\n",
    "\n",
    "Rappelons que nous voulons trouver un fragment de ligne de niveau de valeur $c$ composés de points consécutivement espacés de $\\delta$.\n",
    "\n",
    "L'idée principale va être de réaliser un algorithme de Newton à un fonction $F_{n} : \\mathbb{R^2} \\to \\mathbb{R^2}$ qui dépendra du dernier point trouvé via l'indice n et qui prendra en argument des couples (x,y) du plan.\n",
    "\n",
    "Définissons cette fonction : \n",
    "$F_{n}(x,y) = \\begin{pmatrix} f (x,y) - c = g\\:(x,y)\\\\ (x-x_{n})^2 + (y-y_{n})^2 - \\delta^2 = h_{n} (x,y)\\end{pmatrix} $ \n",
    "\n",
    "Trouver un couple (x,y) annulant la fonction $F_{n}$ permet de trouver un point situé sur la ligne de niveau (condition n°1) ET distancé de $\\delta$ du n-ième point précédemmet trouvé (condition n°2).\n",
    "\n",
    "f étant continûment différentiable, les fonctions $g$ et $ h_{n}$ sont différentiables. En notant $ ( x_{n} , y_{n} ) $ le dernier point trouvé on a, en considérant les développements limités à l'odre 1 des fonctions $g$ et $h_{n}$ au point  $ ( x_{n} , y_{n} ) $ : \n",
    "\n",
    "$g(x,y) = g( x_{n} , y_{n} ) \\: \\: + \\:\\:\\frac{\\partial g}{\\partial x}( x_{n} , y_{n} ) \\:(x-x_{n}) \\: + \\: \\frac{\\partial g}{\\partial y}( x_{n} , y_{n} ) \\:(y-y_{n}) + o{(x,y)}$ \n",
    "\n",
    "$h_{n}(x,y) = h_{n}( x_{n} , y_{n} ) \\: \\: + \\:\\frac{\\partial h_{n}}{\\partial x}( x_{n} , y_{n} ) \\: (x-x_{n}) \\: + \\: \\frac{\\partial h_{n}}{\\partial y}( x_{n} , y_{n} ) \\: (y-y_{n}) + o{(x,y)}$\n",
    "\n",
    "En notant $J_{F_{n}}$ la jacobienne de la fonction $F_{n}$ définie par : \n",
    "\n",
    "$J_{F_{n}} = \\begin{pmatrix} \\frac{\\partial g}{\\partial x} & \\frac{\\partial g}{\\partial y} \\\\ \\frac{\\partial h_{n}}{\\partial x} & \\frac{\\partial h_{n}}{\\partial y} \\end{pmatrix}$\n",
    "\n",
    "on obtient par approximation, dans le cadre de l'algorithme de Newton : \n",
    "\n",
    "$ \\begin{pmatrix} 0 \\\\ 0 \\end{pmatrix} = \\begin{pmatrix} g( x_{n} , y_{n} ) \\\\ h_{n}( x_{n} , y_{n} ) \\end{pmatrix} \\: + J_{F_{n}} ( x_{n} , y_{n} ). \\begin{pmatrix} (\\:x-x_{n}\\:) \\\\ (\\: y-y_{n} \\:) \\end{pmatrix}$\n",
    "\n",
    "Sous réserve d'inversion de $J_{F_{n}} ( x_{n} , y_{n} )$, il vient : \n",
    "\n",
    "$ \\begin{pmatrix} x_{n+1} \\\\ y_{n+1} \\end{pmatrix} = \\begin{pmatrix} x_{n} \\\\ y_{n} \\end{pmatrix} - J_{F_{n}} ( x_{n} , y_{n} )^-1 . \\begin{pmatrix}  g( x_{n} , y_{n} )\\\\ h_{n}( x_{n} , y_{n} ) \\end{pmatrix} $\n",
    "\n",
    "\n",
    "C'est donc cette dernière égalité que nous implémenterons dans la fonction simple_contour. \n",
    "\n",
    "### Comment choisir le point d'initialisation pour l'algorithme de Newton ?\n",
    "\n",
    "Pour faire cela, nous allons utiliser le résultat mathématique suivant : en un point où le gradient n'est pas nul, celui-ci oriente la normale à la surface définie par $\\{ \\:(x,y,z) \\in \\mathbb{R^3} \\:/ \\:f(x,y)=z \\: \\}$. Dans le cadre de notre problème, on se fixe à \"l'altitude\" $ z=c$, ce qui revient à considérer le problème plan. \n",
    "\n",
    "Il suffit alors de calculer le gradient au dernier point trouvé, d'en déterminer un vecteur orthogonal. Nous obtenons ainsi la direction de la tangente de f au dernier point trouvé. En donnant au vecteur tangent une norme $\\delta$ assez petite, on peut connaître les coordoonées des deux points situés approximativement sur la ligne de niveau et distancé de $\\delta$ du point précédent. \n",
    "\n",
    "Pour choisir entre ces deux points, on décide de prendre celui qui est le plus éloigné de l'avant-dernier point trouvé, de telle sorte d'éviter un \"rebroussement\" de la ligne de niveau. \n",
    "On choisit alors ce point pour implémenter l'algorithme de Newton, permettant de rendre sa convergence plus sûre. \n",
    "\n",
    "Cependant, cela nécessite d'avoir deux points initiaux avant de pouvoir lancer l'algorithme au complet. Pour faire cela, nous trouverons un premier point grâce à la fonction find_seed, puis nous déterminerons un second point en utilisant la méthode de la tangente et en choisissant le point s'éloignant le plus de la droite d'équation x=0.\n",
    "\n",
    "\n"
   ]
  },
  {
   "cell_type": "markdown",
   "metadata": {},
   "source": [
    "Nous définissons ainsi la fonction simple_contour : "
   ]
  },
  {
   "cell_type": "code",
   "execution_count": 6,
   "metadata": {},
   "outputs": [],
   "source": [
    "def simple_contour(f,c=0.0,delta=0.01):\n",
    "    #on commence par initialiser le programme en calculant les deux premiers points. \n",
    "    \n",
    "    X = [0.0]  #on définit un premier point sur l'arête gauche à l'aide de find_seed\n",
    "    if find_seed(f,c,0.0) != None:\n",
    "        Y = [find_seed(f,c,0.0)]\n",
    "    else:\n",
    "        return \"première valeur pas entre f(a) et f(b)\"\n",
    "    \n",
    "    point_précédent = [X[-1],Y[-1]]\n",
    "    gradient = grad(f, point_précédent[0], point_précédent[1]) #on calcule le gradient au premier point trouvé\n",
    "    tangente = [-gradient[1], gradient[0]] #le gradient dirige la normale à la tangente.\n",
    "    tangente_normalisée = normalisation(tangente, delta) #la norme du vecteur tangent est delta\n",
    "    \n",
    "    if tangente_normalisée[0] >= 0 :  #on vérifie que le point choisi en second partira bien vers la droite (x>=0)\n",
    "        deuxième_point = (point_précédent[0] + tangente_normalisée[0],\n",
    "                          point_précédent[1] + tangente_normalisée[1]\n",
    "                         )\n",
    "    else : \n",
    "        deuxième_point = (point_précédent[0] - tangente_normalisée[0],\n",
    "                          point_précédent[1] - tangente_normalisée[1]\n",
    "                         )\n",
    "         \n",
    "    nouveau_point = np.array(deuxième_point)\n",
    "    def F(x, y): #on définit le système à 2 équations\n",
    "        return np.array([f(x,y) - c,(x - point_précédent[0])**2 + (y - point_précédent[1])**2 - delta**2])\n",
    "        \n",
    "    def Jacob(F, x, y):  #on définit la jacobienne.\n",
    "        j = autograd.jacobian\n",
    "        return np.c_[j(F,0)(x, y),j(F,1)(x, y)]\n",
    "    \n",
    "    A = F( nouveau_point[0],  nouveau_point[1])   #matrice associéé au système 2x2\n",
    "    \n",
    "    while distanceeucl(A,[0,0]) >= 2**(-10) :\n",
    "        nouveau_point =  nouveau_point - np.linalg.inv(Jacob(F,  nouveau_point[0], nouveau_point[1])).dot(np.array(A))\n",
    "        A = F( nouveau_point[0],  nouveau_point[1])\n",
    "    X += [ nouveau_point[0]]\n",
    "    Y += [ nouveau_point[1]]\n",
    "    \n",
    "    \n",
    "    while X[-1] <= 1 and Y[-1] <= 1 and X[-1] >= 0 and Y[-1] >= 0: #la condition d'arrêt est la sortie du carré [0,1]x[0,1]\n",
    "        distance = []\n",
    "        point_précédent = [X[-1], \n",
    "                           Y[-1]\n",
    "                          ]\n",
    "    \n",
    "        gradient = grad(f, point_précédent[0], point_précédent[1])\n",
    "        tangente=[-gradient[1],gradient[0]]\n",
    "        tangente_normalisée = normalisation(tangente,delta)\n",
    "        point1 = [point_précédent[0] + tangente_normalisée[0], #on détermine le premier point candidat.\n",
    "                  point_précédent[1] + tangente_normalisée[1]\n",
    "                 ]\n",
    "        \n",
    "        point2 = [point_précédent[0] - tangente_normalisée[0], #on détermine le second point candidat.\n",
    "                  point_précédent[1] - tangente_normalisée[1]]\n",
    "        liste_point = [point1, point2]\n",
    "        \n",
    "        for i in liste_point:            \n",
    "            distance += [distanceeucl((X[-2], Y[-2]), i)]\n",
    "            \n",
    "        e = distance.index(max(distance)) #on choisit le point le plus éloigné de l'avant-dernier point \n",
    "        nouveau_point = np.array(liste_point[e]) # il permet d'initialiser Newton. \n",
    "        def F(x, y): #on définit le système à 2 équations\n",
    "            return np.array([f(x,y) - c,(x - point_précédent[0])**2 + (y - point_précédent[1])**2 - delta**2])\n",
    "        \n",
    "        def Jacob(F, x, y):  #on définit la jacobienne.\n",
    "            j = autograd.jacobian\n",
    "            return np.c_[j(F,0)(x, y),j(F,1)(x, y)]\n",
    "        \n",
    "        A = F(nouveau_point[0], nouveau_point[1])   # on évalue F au point intermédiaire.\n",
    "        \n",
    "        while distanceeucl(A,[0,0]) >= 2**(-10): # on cherche un zéro de F.\n",
    "            A = F(nouveau_point[0],nouveau_point[1])\n",
    "            nouveau_point = nouveau_point - np.linalg.inv(Jacob(F, nouveau_point[0], nouveau_point[1])).dot(np.array(A))\n",
    "        X += [nouveau_point[0]]\n",
    "        Y += [nouveau_point[1]]\n",
    "    X.pop() #on enlève le dernier point qui était situé hors du carré [0,1]x[0,1]\n",
    "    Y.pop()\n",
    "    return [X, Y]"
   ]
  },
  {
   "cell_type": "markdown",
   "metadata": {},
   "source": [
    "On peut maintenant définir des fonctions tests, et tester ce premier programme sur ces fonctions tests. "
   ]
  },
  {
   "cell_type": "code",
   "execution_count": 7,
   "metadata": {},
   "outputs": [],
   "source": [
    "def f(x,y):\n",
    "    return 2*(np.exp(-x**2-y**2)-np.exp(-(x-1)**2-(y-1)**2))\n",
    "\n",
    "def h(x,y):\n",
    "    return x**2 + (y-0.4)**2"
   ]
  },
  {
   "cell_type": "code",
   "execution_count": 8,
   "metadata": {},
   "outputs": [
    {
     "name": "stdout",
     "output_type": "stream",
     "text": [
      "[[0.0, 0.01, 0.019997500937116313, 0.0299875084310548, 0.0399650355845191, 0.049925105462966524, 0.059862753565063924, 0.06977303028263272, 0.07965100334888056, 0.08949176027372632, 0.09900671623738601, 0.10875857940115195, 0.1184585145270701, 0.1281016882527784, 0.1376832991815311, 0.1471985802388173, 0.15664280100774206, 0.1660112700420534, 0.17529933715571258, 0.18450239568791937, 0.1930999887619118, 0.2021197558060744, 0.2110407428897084, 0.21985851753534374, 0.22856870212737593, 0.23716697602859427, 0.2456490776645897, 0.25401080657507447, 0.26224802543116543, 0.2703566620177028, 0.2776102174505349, 0.28545026109387184, 0.2931495750432637, 0.30070434767831467, 0.30811084241409353, 0.31536539947253456, 0.32246443761242793, 0.3294044558172305, 0.33618203493994997, 0.34279383930437957, 0.348343382245101, 0.3546146217714975, 0.3607101659145747, 0.3666270130716919, 0.3723622531254595, 0.3779130687821026, 0.38327673686117936, 0.38845062953612086, 0.39343221552508517, 0.39821906123164286, 0.401789182481056, 0.40618039279064516, 0.4103696613266507, 0.41435494546581986, 0.41813430597976603, 0.4217059078738747, 0.42506802117274445, 0.428219021651892, 0.4311573915154765, 0.4338817200198266, 0.4352952438636716, 0.43758850075480465, 0.4396635913204179, 0.4415195332866586, 0.4431554545529402, 0.4445705934897579, 0.4457642991808736, 0.4467360316098726, 0.44748536179112475, 0.44801197184520986, 0.4471987488181992, 0.4472802439915824, 0.44713817530761646, 0.4467726695895129, 0.44618396514454, 0.44537241150596935, 0.44433846911998437, 0.4430827089778312, 0.4416058121935176, 0.4399085695273925, 0.43690895774640726, 0.4347746468112358, 0.43242246937228096, 0.42985365505591644, 0.4270695407507035, 0.42407156980627425, 0.4208612911805024, 0.4174403585355034, 0.4138105292830285, 0.4099736635798427, 0.4049365258768909, 0.40069232906331226, 0.39624677524025975, 0.39160213581415115, 0.3867607799085826, 0.3817251730599061, 0.37649787586698624, 0.37108154259591253, 0.36547891974046354, 0.3596928445391392, 0.3528681607910929, 0.34672470640816794, 0.3404063973281043, 0.33391643401344584, 0.32725810024945967, 0.3204347614011425, 0.3134498626325725, 0.3063069270895783, 0.29900955404671337, 0.29156141701953914, 0.2832878783052679, 0.2755500498127665, 0.26767254651353045, 0.25965933909570355, 0.25151446304061, 0.2432420165276906, 0.2348461583118181, 0.22633110557411235, 0.21770113174738592, 0.20896056431736], [0.8472135961055756, 0.8472135961055756, 0.8469900451888732, 0.8465431108860356, 0.845873072154407, 0.8449803190998368, 0.8438653526434445, 0.84252878413371, 0.8409713349042062, 0.8391938357773147, 0.8361165830500231, 0.8339027255940913, 0.8314714176018823, 0.8288239281314954, 0.8259616332462666, 0.8228860151944191, 0.8195986615371728, 0.816101264225864, 0.8123956186286485, 0.8084836225073856, 0.8033762489432651, 0.7990584019717945, 0.7945399963399774, 0.789823339653426, 0.7849108367910629, 0.7798049885834065, 0.7745083904452953, 0.7690237309638358, 0.7633537904423788, 0.757501439401347, 0.7506174140547731, 0.7444098609401738, 0.7380285942392202, 0.7314768455846482, 0.7247579293231607, 0.7178752407579397, 0.7108322543538396, 0.7036325219062406, 0.6962796706745565, 0.6887774014814051, 0.6804583603985321, 0.6726691656517972, 0.6647417233404463, 0.6566800287469186, 0.6484881412033997, 0.6401701819857811, 0.631730332180394, 0.6231728305246427, 0.614501971222673, 0.6057221017372187, 0.5963808970154535, 0.5873966178558905, 0.5783164180159511, 0.5691448581524335, 0.5598865411290419, 0.5505461096663096, 0.5411282439757423, 0.5316376593793957, 0.5220791039161063, 0.5124573559355996, 0.5025575669614688, 0.492824069500059, 0.48304173853323407, 0.47321547375876627, 0.4633501931438761, 0.45345083044774753, 0.443522332740491, 0.43356965791979923, 0.42359777222653816, 0.4136116477605135, 0.4036445749857326, 0.39364490706441063, 0.38364591629088574, 0.37365259824480945, 0.3636699419311588, 0.35370292729829494, 0.3437565227648737, 0.33383568275682096, 0.32394534525557844, 0.3140904293588148, 0.3045507123529066, 0.29478113115246574, 0.28506170414797255, 0.2753972748834976, 0.26579265581059786, 0.2562526259250913, 0.2467819284246475, 0.2373852683883165, 0.2280673104791028, 0.21883267667067724, 0.21019374646196848, 0.2011390905652704, 0.19218157689202697, 0.18332565657839286, 0.17457572669320998, 0.1659361281107779, 0.15741114341537274, 0.1490049948384881, 0.14072184222975267, 0.13256578106246, 0.12525636500311627, 0.11736599313324092, 0.10961493060164015, 0.10200701523838934, 0.09454601051467004, 0.08723560375710547, 0.08007940440320055, 0.07308094229866431, 0.0662436660373693, 0.059570941344679176, 0.053953786501442676, 0.04761927703182839, 0.04145933045977717, 0.03547698084788688, 0.029675171298516614, 0.024056752598304976, 0.018624481911109228, 0.013381021519908588, 0.008328937618188734, 0.0034706991512987347]]\n"
     ]
    },
    {
     "data": {
      "image/png": "[encoded data removed]",
      "text/plain": [
       "<Figure size 432x288 with 1 Axes>"
      ]
     },
     "metadata": {
      "needs_background": "light"
     },
     "output_type": "display_data"
    }
   ],
   "source": [
    "c=0.2\n",
    "data=simple_contour(h,float(c))\n",
    "print(data)\n",
    "plt.plot(data[0],data[1])\n",
    "plt.grid()\n",
    "plt.title(f\"Courbe de niveau pour c={float(c)}\")\n",
    "plt.xlabel(\"x\")\n",
    "plt.ylabel(\"y\")\n",
    "plt.show()"
   ]
  },
  {
   "cell_type": "markdown",
   "metadata": {},
   "source": [
    "# 2ème partie : Contour complexe"
   ]
  },
  {
   "cell_type": "markdown",
   "metadata": {},
   "source": [
    "On définit des fonctions find_seed intermédiaires afin de faire des recherches de premiers points sur les 4 bords des petits carrés qui constitueront le cadrillage final. "
   ]
  },
  {
   "cell_type": "code",
   "execution_count": 9,
   "metadata": {},
   "outputs": [],
   "source": [
    "def find_seedx(f, c=0.0, x=0.0, y1 = 0.0, y2 = 1.0, eps = 2**(-26)): # cette fonction permet à x fixé, de chercher un y\n",
    "    if not f(x,y1)<= c <= f(x,y2) and not f(x,y2)<= c <= f(x, y1):  # compris entre y1 et y2 tel que f(x,y)=c\n",
    "            return None  \n",
    "    a = y1\n",
    "    b = y2\n",
    "    t = (a+b)/2 \n",
    "    while abs(f(x,t)- c) > eps :  \n",
    "        if (f(x, a) - c)*(f(x,t) - c) >= 0:\n",
    "            a = t\n",
    "        else :\n",
    "            b = t\n",
    "        t = (a+b)/2\n",
    "    return t "
   ]
  },
  {
   "cell_type": "code",
   "execution_count": 10,
   "metadata": {},
   "outputs": [],
   "source": [
    "def find_seedy(f, c=0.0, y=0.0, x1 = 0.0, x2 = 1.0, eps = 2**(-26)): # cette fonction permet à y fixé, de chercher un x\n",
    "    if not f(x1, y)<= c <= f(x2, y) and not f(x2, y)<= c <= f(x1, y): # compris entre x1 et x2 \n",
    "            return None  \n",
    "    a = x1\n",
    "    b = x2\n",
    "    t = (a+b)/2\n",
    "    while abs(f(t, y)-c) > eps :  \n",
    "        if (f(a, y)-c)*(f(t, y)-c) >= 0:\n",
    "            a = t\n",
    "        else :\n",
    "            b = t\n",
    "        t = (a+b)/2\n",
    "    return t "
   ]
  },
  {
   "cell_type": "markdown",
   "metadata": {},
   "source": [
    "On modifie légèrement le début de la fonction contour_simple afin de chercher des valeurs sur les 4 bords, en faisant appel aux fonctions find_seed précédemment définies."
   ]
  },
  {
   "cell_type": "code",
   "execution_count": 11,
   "metadata": {},
   "outputs": [],
   "source": [
    "def simple_contourmodif(f,c=0.0,delta=0.01, x1 = 0.0, x2 = 1.0, y1 = 0.0, y2 = 1.0):\n",
    "    coté_X = [x1, x2]\n",
    "    coté_Y = [y1, y2]\n",
    "    test_coté = False\n",
    "    for i in coté_X: #on réalise une recherche de premier point sur les droite d'équation x=x1 et x=x2 \n",
    "        a = find_seedx(f, c, i, y1, y2)\n",
    "        if a != None:\n",
    "            X = [i]\n",
    "            Y = [a]\n",
    "            test_coté = True\n",
    "            \n",
    "    for i in coté_Y: #on réalise une recherche de premier point sur les droites d'équation y=y1 et y=y2\n",
    "        a = find_seedy(f, c, i, x1, x2)\n",
    "        if a != None:\n",
    "            Y = [i]\n",
    "            X = [a]\n",
    "            test_coté = True\n",
    "            \n",
    "    if test_coté == False: #si aucun point n'a été trouvé sur les bords, on retourne des listes vides. \n",
    "        return [[],[]]\n",
    "    \n",
    "    \n",
    "    point_précédent = [X[-1],Y[-1]]\n",
    "    gradient = grad(f, point_précédent[0], point_précédent[1]) #on calcule le gradient au premier point trouvé\n",
    "    tangente = [-gradient[1], gradient[0]] #le gradient dirige la normale à la tangente.\n",
    "    tangente_normalisée = normalisation(tangente, delta) #la norme du vecteur tangent est delta\n",
    "    \n",
    "    if x1 <= (point_précédent[0] + tangente_normalisée[0]) <= x2 and  y1 <= point_précédent[1] + tangente_normalisée[1] <= y2:  #on vérifie que le point choisi en second partira bien vers la droite (x>=0)\n",
    "        deuxième_point = (point_précédent[0] + tangente_normalisée[0],\n",
    "                          point_précédent[1] + tangente_normalisée[1]\n",
    "                         )\n",
    "    else : \n",
    "        deuxième_point = (point_précédent[0] - tangente_normalisée[0],\n",
    "                          point_précédent[1] - tangente_normalisée[1]\n",
    "                         )\n",
    "         \n",
    "    nouveau_point = np.array(deuxième_point)\n",
    "    def F(x, y): #on définit le système à 2 équations\n",
    "        return np.array([f(x,y) - c,(x - point_précédent[0])**2 + (y - point_précédent[1])**2 - delta**2])\n",
    "        \n",
    "    def Jacob(F, x, y):  #on définit la jacobienne.\n",
    "        j = autograd.jacobian\n",
    "        return np.c_[j(F,0)(x, y),j(F,1)(x, y)]\n",
    "    \n",
    "    A = F( nouveau_point[0],  nouveau_point[1])   #matrice associéé au système 2x2\n",
    "    \n",
    "    while distanceeucl(A,[0,0]) >= 2**(-10) :\n",
    "        nouveau_point =  nouveau_point - np.linalg.inv(Jacob(F,  nouveau_point[0], nouveau_point[1])).dot(np.array(A))\n",
    "        A = F( nouveau_point[0],  nouveau_point[1])\n",
    "    X += [ nouveau_point[0]]\n",
    "    Y += [ nouveau_point[1]]\n",
    "    \n",
    "    \n",
    "    while X[-1] <= x2 and Y[-1] <= y2  and X[-1] >= x1 and Y[-1] >= y1 :\n",
    "        distance = []\n",
    "        point_précédent = [X[-1], \n",
    "                           Y[-1]\n",
    "                          ]\n",
    "    \n",
    "        gradient = grad(f, point_précédent[0], point_précédent[1])\n",
    "        tangente=[-gradient[1],gradient[0]]\n",
    "        tangente_normalisée = normalisation(tangente,delta)\n",
    "        point1 = [point_précédent[0] + tangente_normalisée[0],\n",
    "                  point_précédent[1] + tangente_normalisée[1]\n",
    "                 ]\n",
    "        \n",
    "        point2 = [point_précédent[0] - tangente_normalisée[0],\n",
    "                  point_précédent[1] - tangente_normalisée[1]]\n",
    "        liste_point = [point1, point2]\n",
    "        \n",
    "        for i in liste_point:            \n",
    "            distance += [distanceeucl((X[-2], Y[-2]), i)]\n",
    "            \n",
    "        e = distance.index(max(distance))       \n",
    "        nouveau_point = np.array(liste_point[e])\n",
    "        \n",
    "        def F(x, y): #on définit le système à 2 équations\n",
    "            return np.array([f(x,y) - c,(x - point_précédent[0])**2 + (y - point_précédent[1])**2 - delta**2])\n",
    "        \n",
    "        def Jacob(F, x, y):  #on définit la jacobienne.\n",
    "            j = autograd.jacobian\n",
    "            return np.c_[j(F,0)(x, y),j(F,1)(x, y)]\n",
    "        \n",
    "        A = F(nouveau_point[0], nouveau_point[1])   \n",
    "        \n",
    "        while distanceeucl(A,[0,0]) >= 2**(-10):            \n",
    "            A = F(nouveau_point[0],nouveau_point[1])\n",
    "            nouveau_point = nouveau_point - np.linalg.inv(Jacob(F, nouveau_point[0], nouveau_point[1])).dot(np.array(A))\n",
    "        X += [nouveau_point[0]]\n",
    "        Y += [nouveau_point[1]]\n",
    "    return [X, Y]"
   ]
  },
  {
   "cell_type": "markdown",
   "metadata": {},
   "source": [
    "Puis on définit la fonction contour finale qui fera appel à la nouvelle fonction simple_contourmodif précédemment définie."
   ]
  },
  {
   "cell_type": "code",
   "execution_count": 12,
   "metadata": {},
   "outputs": [],
   "source": [
    "def contour(f,c, xc = [0.0,1.0], yc = [0.0,1.0], delta = 0.01): #la fonction prend en argument le quadrillage défini par les listes xc et yc.\n",
    "    X_tot = []\n",
    "    Y_tot = []\n",
    "    for i in range(len(yc) - 1):\n",
    "        for j in range(len(xc)-1): #dans chaque petit rectangle, on applique simple_contourmodif.\n",
    "            xg = xc[j]\n",
    "            xd = xc[j+1]\n",
    "            yg = yc[i]\n",
    "            yd = yc[i+1]\n",
    "            R = simple_contourmodif(f, c, delta , xg, xd, yg, yd)\n",
    "            X_tot.append(R[0])\n",
    "            Y_tot.append(R[1])\n",
    "    return [X_tot, Y_tot]"
   ]
  },
  {
   "cell_type": "code",
   "execution_count": 13,
   "metadata": {},
   "outputs": [
    {
     "data": {
      "image/png": "[encoded data removed]",
      "text/plain": [
       "<Figure size 432x288 with 1 Axes>"
      ]
     },
     "metadata": {
      "needs_background": "light"
     },
     "output_type": "display_data"
    }
   ],
   "source": [
    "\n",
    "xc = np.linspace(-2,3,10) #on définit le quadrillage relatif à la fonction exemple f\n",
    "yc = np.linspace(-1,2,5)\n",
    "valeur = np.arange(-1.5, 2, 0.5) #on définit les différentes valeur de c.\n",
    "v = [\"b\",\"c\",\"g\",\"r\",\"m\",\"b\",\"y\"]\n",
    "for i in range(len(valeur)):\n",
    "    data = contour(f,float(valeur[i]), xc, yc)\n",
    "    for x,y in zip(data[0],data[1]):\n",
    "        plt.plot(x, y, color = v[i])\n",
    "plt.grid()\n",
    "plt.title(f\"Courbe de niveau pour c dans {valeur}\")\n",
    "plt.xlabel(\"x\")\n",
    "plt.ylabel(\"y\")\n",
    "plt.show()"
   ]
  },
  {
   "cell_type": "code",
   "execution_count": null,
   "metadata": {},
   "outputs": [],
   "source": []
  }
 ],
 "metadata": {
  "kernelspec": {
   "display_name": "Python 3",
   "language": "python",
   "name": "python3"
  },
  "language_info": {
   "codemirror_mode": {
    "name": "ipython",
    "version": 3
   },
   "file_extension": ".py",
   "mimetype": "text/x-python",
   "name": "python",
   "nbconvert_exporter": "python",
   "pygments_lexer": "ipython3",
   "version": "3.7.3"
  }
 },
 "nbformat": 4,
 "nbformat_minor": 2
}
