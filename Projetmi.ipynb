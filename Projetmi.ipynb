{
 "cells": [
  {
   "cell_type": "markdown",
   "metadata": {},
   "source": [
    "#   **Projet Maths Info Horsin/Cattan**\n",
    "\n",
    "\n",
    "\n"
   ]
  },
  {
   "cell_type": "markdown",
   "metadata": {},
   "source": [
    "Soit $f :  \\mathbb{R^2} \\to \\mathbb{R}$ et $c \\in \\mathbb{R}$.\n",
    "\n",
    "Le but du projet est de trouver l'ensemble $\\{ \\:(x,y) \\:/ \\:f(x,y)=c \\: \\}$.\n",
    "\n",
    "# 1ère Partie: **Contour Simple**\n",
    "\n",
    "## L'amorce\n",
    "\n",
    "Nous avons choisi d'utiliser un algorithme dichotomique dans un premier temps, qui est plus robuste qu'un algorithme de Newton. En effet, n'ayant aucune information sur la valeur initiale (indispensable pour garantir la convergence), il semble plus cohérent d'utiliser une dichotomie.\n",
    " "
   ]
  },
  {
   "cell_type": "code",
   "execution_count": 34,
   "metadata": {},
   "outputs": [],
   "source": [
    "def find_seed(f, c=0.0, x=0.0, eps = 2**(-26)):\n",
    "    if not f(x,1.0)<= c <= f(x,0.0) and not f(x,0 )<= c <= f(x,1.0):\n",
    "            return None  \n",
    "    a = 0\n",
    "    b = 1\n",
    "    t = 0.5\n",
    "    while abs(f(x,t)-c) > eps :  \n",
    "        if (f(x,a)-c)*(f(x,t)-c) >= 0:\n",
    "            a = t\n",
    "        else :\n",
    "            b = t\n",
    "        t = (a+b)/2\n",
    "    return t "
   ]
  },
  {
   "cell_type": "markdown",
   "metadata": {},
   "source": [
    "### Le contour simple\n",
    "\n",
    "Pour la suite, nous allons définir quelques fonctions dont nous aurons besoin pour la fonction simple_contour.\n",
    "Commençons par importer les bibliothèques utiles."
   ]
  },
  {
   "cell_type": "code",
   "execution_count": 35,
   "metadata": {},
   "outputs": [],
   "source": [
    "import matplotlib.pyplot as plt  \n",
    "import autograd\n",
    "from autograd import numpy as np"
   ]
  },
  {
   "cell_type": "markdown",
   "metadata": {},
   "source": [
    "Définissons maintenant une fonction permettant de calculer une distance euclidienne dans $\\mathbb{R^2}$"
   ]
  },
  {
   "cell_type": "code",
   "execution_count": 36,
   "metadata": {},
   "outputs": [],
   "source": [
    "def distanceeucl(x, y):\n",
    "    return np.sqrt(((x[0]-y[0])**2)+((x[1]-y[1])**2))"
   ]
  },
  {
   "cell_type": "markdown",
   "metadata": {},
   "source": [
    "Définissons ensuite une fonction permettant de donner à un vecteur une norme souhaitée."
   ]
  },
  {
   "cell_type": "code",
   "execution_count": 37,
   "metadata": {},
   "outputs": [],
   "source": [
    "def normalisation(vecteur,normev):\n",
    "    norme = distanceeucl(vecteur,(0,0))\n",
    "    x = vecteur[0]\n",
    "    y = vecteur[1]\n",
    "    return (x*normev/norme, y*normev/norme)"
   ]
  },
  {
   "cell_type": "markdown",
   "metadata": {},
   "source": [
    "Définissons enfin la fonction gradient qui calcule le gradient à l'aide de la bibliothèque autograd. "
   ]
  },
  {
   "cell_type": "code",
   "execution_count": 38,
   "metadata": {},
   "outputs": [],
   "source": [
    "def grad(f, x, y):\n",
    "    g = autograd.grad\n",
    "    return np.r_[g(f, 0)(x, y), g(f, 1)(x, y)]"
   ]
  },
  {
   "cell_type": "markdown",
   "metadata": {},
   "source": [
    "On définit le système à deux équations, et la matrice jacobienne associée."
   ]
  },
  {
   "cell_type": "code",
   "execution_count": 39,
   "metadata": {},
   "outputs": [],
   "source": [
    "def F(x, y): #on définit le système à 2 équations\n",
    "        return np.array([f(x,y) - c,(x - point_précédent[0])**2 + (y - point_précédent[1])**2 - delta**2])\n",
    "        \n",
    "def Jacob(F, x, y):  #on définit la jacobienne.\n",
    "    j = autograd.jacobian\n",
    "    return np.c_[j(F,0)(x, y),j(F,1)(x, y)]"
   ]
  },
  {
   "cell_type": "markdown",
   "metadata": {},
   "source": [
    "Nous pouvons maintenant définir la fonction simple_contour qui blablabla faut expliquer et commenter le programme"
   ]
  },
  {
   "cell_type": "code",
   "execution_count": 40,
   "metadata": {},
   "outputs": [],
   "source": [
    "def simple_contour(f,c=0.0,delta=0.01):\n",
    "    #on commence par initialiser le programme en calculant le deuxième point\n",
    "    \n",
    "    X = [0.0]  #on définit un premier point sur l'arête gauche à l'aide de find_seed\n",
    "    if find_seed(f,c,0.0) != None:\n",
    "        Y = [find_seed(f,c,0.0)]\n",
    "    else:\n",
    "        return \"première valeur pas entre f(a) et f(b)\"\n",
    "    \n",
    "    point_précédent = [X[-1],Y[-1]]\n",
    "    gradient = grad(f, point_précédent[0], point_précédent[1]) #on calcule le gradient au premier point trouvé\n",
    "    tangente = [-gradient[1], gradient[0]] #le gradient dirige la normale à la tangente.\n",
    "    tangente_normalisée = normalisation(tangente, delta) #la norme du vecteur tangent est delta\n",
    "    \n",
    "    if tangente_normalisée[0] >= 0 :  #on vérifie que le point choisi en second partira bien vers la droite (x>=0)\n",
    "        deuxième_point = (point_précédent[0] + tangente_normalisée[0],\n",
    "                          point_précédent[1] + tangente_normalisée[1]\n",
    "                         )\n",
    "    else : \n",
    "        deuxième_point = (point_précédent[0] - tangente_normalisée[0],\n",
    "                          point_précédent[1] - tangente_normalisée[1]\n",
    "                         )\n",
    "         \n",
    "    nouveau_point = np.array(deuxième_point)\n",
    "    def F(x, y): #on définit le système à 2 équations\n",
    "        return np.array([f(x,y) - c,(x - point_précédent[0])**2 + (y - point_précédent[1])**2 - delta**2])\n",
    "        \n",
    "    def Jacob(F, x, y):  #on définit la jacobienne.\n",
    "        j = autograd.jacobian\n",
    "        return np.c_[j(F,0)(x, y),j(F,1)(x, y)]\n",
    "    \n",
    "    A = F( nouveau_point[0],  nouveau_point[1])   #matrice associéé au système 2x2\n",
    "    \n",
    "    while distanceeucl(A,[0,0]) >= 2**(-10) :\n",
    "        nouveau_point =  nouveau_point - np.linalg.inv(Jacob(F,  nouveau_point[0], nouveau_point[1])).dot(np.array(A))\n",
    "        A = F( nouveau_point[0],  nouveau_point[1])\n",
    "    X += [ nouveau_point[0]]\n",
    "    Y += [ nouveau_point[1]]\n",
    "    \n",
    "    \n",
    "    while X[-1] < 1 and Y[-1] < 1 and X[-1] > 0 and Y[-1] > 0:\n",
    "        distance = []\n",
    "        point_précédent = [X[-1], \n",
    "                           Y[-1]\n",
    "                          ]\n",
    "    \n",
    "        gradient = grad(f, point_précédent[0], point_précédent[1])\n",
    "        tangente=[-gradient[1],gradient[0]]\n",
    "        tangente_normalisée = normalisation(tangente,delta)\n",
    "        point1 = [point_précédent[0] + tangente_normalisée[0],\n",
    "                  point_précédent[1] + tangente_normalisée[1]\n",
    "                 ]\n",
    "        \n",
    "        point2 = [point_précédent[0] - tangente_normalisée[0],\n",
    "                  point_précédent[1] - tangente_normalisée[1]]\n",
    "        liste_point = [point1, point2]\n",
    "        \n",
    "        for i in liste_point:            \n",
    "            distance += [distanceeucl((X[-2], Y[-2]), i)]\n",
    "            \n",
    "        e = distance.index(max(distance))       \n",
    "        nouveau_point = np.array(liste_point[e])\n",
    "        def F(x, y): #on définit le système à 2 équations\n",
    "            return np.array([f(x,y) - c,(x - point_précédent[0])**2 + (y - point_précédent[1])**2 - delta**2])\n",
    "        \n",
    "        def Jacob(F, x, y):  #on définit la jacobienne.\n",
    "            j = autograd.jacobian\n",
    "            return np.c_[j(F,0)(x, y),j(F,1)(x, y)]\n",
    "        \n",
    "        A = F(nouveau_point[0], nouveau_point[1])   # Il s'agit du point intermédiaire permettant d'initialiser Newton.\n",
    "        \n",
    "        while distanceeucl(A,[0,0]) >= 2**(-10):            \n",
    "            A = F(nouveau_point[0],nouveau_point[1])\n",
    "            nouveau_point = nouveau_point - np.linalg.inv(Jacob(F, nouveau_point[0], nouveau_point[1])).dot(np.array(A))\n",
    "        X += [nouveau_point[0]]\n",
    "        Y += [nouveau_point[1]]\n",
    "    X.pop()\n",
    "    Y.pop()\n",
    "    return [X, Y]"
   ]
  },
  {
   "cell_type": "markdown",
   "metadata": {},
   "source": [
    "On peut maintenant définir des fonctions tests, et tester ce premier programme sur ces fonctions tests. "
   ]
  },
  {
   "cell_type": "code",
   "execution_count": 41,
   "metadata": {},
   "outputs": [],
   "source": [
    "def f(x,y):\n",
    "    return 2*(np.exp(-x**2-y**2)-np.exp(-(x-1)**2-(y-1)**2))\n",
    "\n",
    "def h(x,y):\n",
    "    return x**2 + (y-0.4)**2"
   ]
  },
  {
   "cell_type": "code",
   "execution_count": 60,
   "metadata": {},
   "outputs": [
    {
     "name": "stdout",
     "output_type": "stream",
     "text": [
      "[[0.0, 0.008778171472053405, 0.017460485776380222, 0.026045405469594454, 0.03453147573404359, 0.04291730405754595, 0.05120154134393058, 0.05899461139321947, 0.06707325890483591, 0.07504610710614934, 0.08291180707258353, 0.09066897650478695, 0.09831618700653577, 0.10585195205372983, 0.11285813949903298, 0.12016671204715104, 0.127358628111912, 0.13443204962836414, 0.14138502727636482, 0.1482154908932751, 0.15492124010681055, 0.16103991594295666, 0.16748819887966893, 0.17380394727631068, 0.1799843368614076, 0.1860263678814681, 0.19192685659098493, 0.1976824269331769, 0.20275958018271606, 0.208211862598596, 0.21350742802682646, 0.21864203557476877, 0.22361121456215452], [0.22346407175064087, 0.2186741129191656, 0.21371251858660656, 0.20858424852146154, 0.20329401114806966, 0.19784627002639862, 0.19224525113847524, 0.18597879333362102, 0.1800851141446039, 0.17404908137805822, 0.1678740701199278, 0.16156326015605715, 0.1551196453676063, 0.14854604322315854, 0.1414106620100119, 0.13458535855090512, 0.1276372405814523, 0.12056852725789811, 0.1133813093102912, 0.10607755912438908, 0.09865914099886067, 0.09074951900447134, 0.08310624436802751, 0.07535309518912497, 0.06749162048164002, 0.059523316951237394, 0.05144964164262705, 0.043272025239537444, 0.03465675388270077, 0.026273877499412852, 0.01779113108122195, 0.00921000030907929, 0.0005320247276822156]]\n"
     ]
    },
    {
     "data": {
      "image/png": "[encoded data removed]",
      "text/plain": [
       "<Figure size 432x288 with 1 Axes>"
      ]
     },
     "metadata": {
      "needs_background": "light"
     },
     "output_type": "display_data"
    }
   ],
   "source": [
    "c=1.5\n",
    "data=simple_contour(f,float(c))\n",
    "print(data)\n",
    "plt.plot(data[0],data[1])\n",
    "plt.grid()\n",
    "plt.title(f\"Courbe de niveau pour c={float(c)}\")\n",
    "plt.xlabel(\"x\")\n",
    "plt.ylabel(\"y\")\n",
    "plt.show()"
   ]
  },
  {
   "cell_type": "markdown",
   "metadata": {},
   "source": [
    "# 2ème partie : Contour complexe"
   ]
  },
  {
   "cell_type": "code",
   "execution_count": 43,
   "metadata": {},
   "outputs": [],
   "source": [
    "def find_seedx(f, c=0.0, x=0.0, y1 = 0.0, y2 = 1.0, eps = 2**(-26)):\n",
    "    if not f(x,y1)<= c <= f(x,y2) and not f(x,y2)<= c <= f(x, y1):\n",
    "            return None  \n",
    "    a = y1\n",
    "    b = y2\n",
    "    t = (a+b)/2 \n",
    "    while abs(f(x,t)- c) > eps :  \n",
    "        if (f(x, a) - c)*(f(x,t) - c) >= 0:\n",
    "            a = t\n",
    "        else :\n",
    "            b = t\n",
    "        t = (a+b)/2\n",
    "    return t "
   ]
  },
  {
   "cell_type": "code",
   "execution_count": 44,
   "metadata": {},
   "outputs": [],
   "source": [
    "def find_seedy(f, c=0.0, y=0.0, x1 = 0.0, x2 = 1.0, eps = 2**(-26)):\n",
    "    if not f(x1, y)<= c <= f(x2, y) and not f(x2, y)<= c <= f(x1, y):\n",
    "            return None  \n",
    "    a = x1\n",
    "    b = x2\n",
    "    t = (a+b)/2\n",
    "    while abs(f(t, y)-c) > eps :  \n",
    "        if (f(a, y)-c)*(f(t, y)-c) >= 0:\n",
    "            a = t\n",
    "        else :\n",
    "            b = t\n",
    "        t = (a+b)/2\n",
    "    return t "
   ]
  },
  {
   "cell_type": "markdown",
   "metadata": {},
   "source": [
    "On modifie légérement le début de la fonction contour_simple afin de chercher des valeurs sur les 4 bords"
   ]
  },
  {
   "cell_type": "code",
   "execution_count": 51,
   "metadata": {},
   "outputs": [],
   "source": [
    "def simple_contourmodif(f,c=0.0,delta=0.01, x1 = 0.0, x2 = 1.0, y1 = 0.0, y2 = 1.0):\n",
    "    coté_X = [x1, x2]\n",
    "    coté_Y = [y1, y2]\n",
    "    test_coté = False\n",
    "    for i in coté_X:\n",
    "        a = find_seedx(f, c, i, y1, y2)\n",
    "        if a != None:\n",
    "            X = [i]\n",
    "            Y = [a]\n",
    "            test_coté = True\n",
    "            \n",
    "    for i in coté_Y:\n",
    "        a = find_seedy(f, c, i, x1, x2)\n",
    "        if a != None:\n",
    "            Y = [i]\n",
    "            X = [a]\n",
    "            test_coté = True\n",
    "            \n",
    "    if test_coté == False:\n",
    "        return [],[]\n",
    "    \n",
    "    \n",
    "    point_précédent = [X[-1],Y[-1]]\n",
    "    gradient = grad(f, point_précédent[0], point_précédent[1]) #on calcule le gradient au premier point trouvé\n",
    "    tangente = [-gradient[1], gradient[0]] #le gradient dirige la normale à la tangente.\n",
    "    tangente_normalisée = normalisation(tangente, delta) #la norme du vecteur tangent est delta\n",
    "    \n",
    "    if tangente_normalisée[0] >= 0 :  #on vérifie que le point choisi en second partira bien vers la droite (x>=0)\n",
    "        deuxième_point = (point_précédent[0] + tangente_normalisée[0],\n",
    "                          point_précédent[1] + tangente_normalisée[1]\n",
    "                         )\n",
    "    else : \n",
    "        deuxième_point = (point_précédent[0] - tangente_normalisée[0],\n",
    "                          point_précédent[1] - tangente_normalisée[1]\n",
    "                         )\n",
    "         \n",
    "    nouveau_point = np.array(deuxième_point)\n",
    "    def F(x, y): #on définit le système à 2 équations\n",
    "        return np.array([f(x,y) - c,(x - point_précédent[0])**2 + (y - point_précédent[1])**2 - delta**2])\n",
    "        \n",
    "    def Jacob(F, x, y):  #on définit la jacobienne.\n",
    "        j = autograd.jacobian\n",
    "        return np.c_[j(F,0)(x, y),j(F,1)(x, y)]\n",
    "    \n",
    "    A = F( nouveau_point[0],  nouveau_point[1])   #matrice associéé au système 2x2\n",
    "    \n",
    "    while distanceeucl(A,[0,0]) >= 2**(-10) :\n",
    "        nouveau_point =  nouveau_point - np.linalg.inv(Jacob(F,  nouveau_point[0], nouveau_point[1])).dot(np.array(A))\n",
    "        A = F( nouveau_point[0],  nouveau_point[1])\n",
    "    X += [ nouveau_point[0]]\n",
    "    Y += [ nouveau_point[1]]\n",
    "    \n",
    "    \n",
    "    while X[-1] < x2 and Y[-1] < y2 and X[-1] > x1 and Y[-1] > y1:\n",
    "        distance = []\n",
    "        point_précédent = [X[-1], \n",
    "                           Y[-1]\n",
    "                          ]\n",
    "    \n",
    "        gradient = grad(f, point_précédent[0], point_précédent[1])\n",
    "        tangente=[-gradient[1],gradient[0]]\n",
    "        tangente_normalisée = normalisation(tangente,delta)\n",
    "        point1 = [point_précédent[0] + tangente_normalisée[0],\n",
    "                  point_précédent[1] + tangente_normalisée[1]\n",
    "                 ]\n",
    "        \n",
    "        point2 = [point_précédent[0] - tangente_normalisée[0],\n",
    "                  point_précédent[1] - tangente_normalisée[1]]\n",
    "        liste_point = [point1, point2]\n",
    "        \n",
    "        for i in liste_point:            \n",
    "            distance += [distanceeucl((X[-2], Y[-2]), i)]\n",
    "            \n",
    "        e = distance.index(max(distance))       \n",
    "        nouveau_point = np.array(liste_point[e])\n",
    "        def F(x, y): #on définit le système à 2 équations\n",
    "            return np.array([f(x,y) - c,(x - point_précédent[0])**2 + (y - point_précédent[1])**2 - delta**2])\n",
    "        \n",
    "        def Jacob(F, x, y):  #on définit la jacobienne.\n",
    "            j = autograd.jacobian\n",
    "            return np.c_[j(F,0)(x, y),j(F,1)(x, y)]\n",
    "        \n",
    "        A = F(nouveau_point[0], nouveau_point[1])   # Il s'agit du point intermédiaire permettant d'initialiser Newton.\n",
    "        \n",
    "        while distanceeucl(A,[0,0]) >= 2**(-10):            \n",
    "            A = F(nouveau_point[0],nouveau_point[1])\n",
    "            nouveau_point = nouveau_point - np.linalg.inv(Jacob(F, nouveau_point[0], nouveau_point[1])).dot(np.array(A))\n",
    "        X += [nouveau_point[0]]\n",
    "        Y += [nouveau_point[1]]\n",
    "    X.pop()\n",
    "    Y.pop()\n",
    "    return [X, Y]"
   ]
  },
  {
   "cell_type": "markdown",
   "metadata": {},
   "source": [
    "Puis on définit contour"
   ]
  },
  {
   "cell_type": "code",
   "execution_count": null,
   "metadata": {},
   "outputs": [],
   "source": [
    "def contour(f,c, xc = [0.0,1.0], yc = [0.0,1.0], delta = 0.01):\n",
    "    X_tot = []\n",
    "    Y_tot = []\n",
    "    for i in range(len(yc) - 1):\n",
    "        for j in range(len(xc)-1):\n",
    "            xg = xc[j]\n",
    "            xd = xc[j+1]\n",
    "            yg = yc[i]\n",
    "            yd = yc[i+1]\n",
    "            R = simple_contourmodif(f, c, 0.01, xg, xd, yg, yd)\n",
    "            X_tot += R[0]\n",
    "            Y_tot += R[1]\n",
    "    return [X_tot, Y_tot]\n",
    "  \n",
    "\n",
    "            \n",
    "            \n",
    "            \n",
    "    "
   ]
  },
  {
   "cell_type": "code",
   "execution_count": 78,
   "metadata": {},
   "outputs": [
    {
     "ename": "TypeError",
     "evalue": "'NoneType' object is not subscriptable",
     "output_type": "error",
     "traceback": [
      "\u001b[1;31m---------------------------------------------------------------------------\u001b[0m",
      "\u001b[1;31mTypeError\u001b[0m                                 Traceback (most recent call last)",
      "\u001b[1;32m<ipython-input-78-dfe4c015abf7>\u001b[0m in \u001b[0;36m<module>\u001b[1;34m\u001b[0m\n\u001b[0;32m      3\u001b[0m \u001b[0myc\u001b[0m \u001b[1;33m=\u001b[0m \u001b[0mnp\u001b[0m\u001b[1;33m.\u001b[0m\u001b[0mlinspace\u001b[0m\u001b[1;33m(\u001b[0m\u001b[1;33m-\u001b[0m\u001b[1;36m1\u001b[0m\u001b[1;33m,\u001b[0m\u001b[1;36m1\u001b[0m\u001b[1;33m,\u001b[0m\u001b[1;36m100\u001b[0m\u001b[1;33m)\u001b[0m\u001b[1;33m\u001b[0m\u001b[1;33m\u001b[0m\u001b[0m\n\u001b[0;32m      4\u001b[0m \u001b[0mdata\u001b[0m \u001b[1;33m=\u001b[0m \u001b[0mcontour\u001b[0m\u001b[1;33m(\u001b[0m\u001b[0mf\u001b[0m\u001b[1;33m,\u001b[0m\u001b[0mfloat\u001b[0m\u001b[1;33m(\u001b[0m\u001b[0mc\u001b[0m\u001b[1;33m)\u001b[0m\u001b[1;33m,\u001b[0m \u001b[0mxc\u001b[0m\u001b[1;33m,\u001b[0m \u001b[0myc\u001b[0m\u001b[1;33m)\u001b[0m\u001b[1;33m\u001b[0m\u001b[1;33m\u001b[0m\u001b[0m\n\u001b[1;32m----> 5\u001b[1;33m \u001b[0mplt\u001b[0m\u001b[1;33m.\u001b[0m\u001b[0mscatter\u001b[0m\u001b[1;33m(\u001b[0m\u001b[0mdata\u001b[0m\u001b[1;33m[\u001b[0m\u001b[1;36m0\u001b[0m\u001b[1;33m]\u001b[0m\u001b[1;33m,\u001b[0m\u001b[0mdata\u001b[0m\u001b[1;33m[\u001b[0m\u001b[1;36m1\u001b[0m\u001b[1;33m]\u001b[0m\u001b[1;33m)\u001b[0m\u001b[1;33m\u001b[0m\u001b[1;33m\u001b[0m\u001b[0m\n\u001b[0m\u001b[0;32m      6\u001b[0m \u001b[0mplt\u001b[0m\u001b[1;33m.\u001b[0m\u001b[0mgrid\u001b[0m\u001b[1;33m(\u001b[0m\u001b[1;33m)\u001b[0m\u001b[1;33m\u001b[0m\u001b[1;33m\u001b[0m\u001b[0m\n\u001b[0;32m      7\u001b[0m \u001b[0mplt\u001b[0m\u001b[1;33m.\u001b[0m\u001b[0mtitle\u001b[0m\u001b[1;33m(\u001b[0m\u001b[1;34mf\"Courbe de niveau pour c={float(c)}\"\u001b[0m\u001b[1;33m)\u001b[0m\u001b[1;33m\u001b[0m\u001b[1;33m\u001b[0m\u001b[0m\n",
      "\u001b[1;31mTypeError\u001b[0m: 'NoneType' object is not subscriptable"
     ]
    },
    {
     "data": {
      "image/png": "[encoded data removed]",
      "text/plain": [
       "<Figure size 432x288 with 1 Axes>"
      ]
     },
     "metadata": {
      "needs_background": "light"
     },
     "output_type": "display_data"
    }
   ],
   "source": [
    "c = 1.5\n",
    "xc = np.linspace(-1,1,100)\n",
    "yc = np.linspace(-1,1,100)\n",
    "data = contour(f,float(c), xc, yc)\n",
    "plt.scatter(data[0],data[1])\n",
    "plt.grid()\n",
    "plt.title(f\"Courbe de niveau pour c={float(c)}\")\n",
    "plt.xlabel(\"x\")\n",
    "plt.ylabel(\"y\")\n",
    "plt.show()\n"
   ]
  }
 ],
 "metadata": {
  "kernelspec": {
   "display_name": "Python 3",
   "language": "python",
   "name": "python3"
  },
  "language_info": {
   "codemirror_mode": {
    "name": "ipython",
    "version": 3
   },
   "file_extension": ".py",
   "mimetype": "text/x-python",
   "name": "python",
   "nbconvert_exporter": "python",
   "pygments_lexer": "ipython3",
   "version": "3.7.3"
  }
 },
 "nbformat": 4,
 "nbformat_minor": 2
}
