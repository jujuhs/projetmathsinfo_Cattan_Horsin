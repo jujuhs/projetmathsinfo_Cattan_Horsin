{
 "cells": [
  {
   "cell_type": "markdown",
   "metadata": {},
   "source": [
    "#   **Projet Maths Info Horsin/Cattan**\n",
    "\n",
    "\n",
    "\n"
   ]
  },
  {
   "cell_type": "markdown",
   "metadata": {},
   "source": [
    "Soit $f :  \\mathbb{R^2} \\to \\mathbb{R}$ et $c \\in \\mathbb{R}$.\n",
    "\n",
    "Le but du projet est de trouver l'ensemble $\\{ \\:(x,y) \\:/ \\:f(x,y)=c \\: \\}$.\n",
    "\n",
    "# 1ère Partie: **Contour Simple**\n",
    "\n",
    "## L'amorce\n",
    "\n",
    "Nous avons choisi d'utiliser un algorithme dichotomique dans un premier temps, qui est plus robuste qu'un algorithme de Newton. En effet, n'ayant aucune information sur la valeur initiale (indispensable pour garantir la convergence), il semble plus cohérent d'utiliser une dichotomie.\n",
    " "
   ]
  },
  {
   "cell_type": "code",
   "execution_count": 9,
   "metadata": {},
   "outputs": [],
   "source": [
    "def find_seed(f,c=0.0,x=0.0,eps=2**(-26)):\n",
    "    if not f(x,1.0)<= c <= f(x,0.0) and not f(x,0)<=c<=f(x,1.0):\n",
    "            return None  \n",
    "    a=0\n",
    "    b=1\n",
    "    t=0.5\n",
    "    while abs(f(x,t)-c)>eps:  \n",
    "        if (f(x,a)-c)*(f(x,t)-c)>=0:\n",
    "            a=t\n",
    "        else :\n",
    "            b=t\n",
    "        t=(a+b)/2\n",
    "    return t "
   ]
  },
  {
   "cell_type": "code",
   "execution_count": null,
   "metadata": {},
   "outputs": [],
   "source": []
  },
  {
   "cell_type": "markdown",
   "metadata": {},
   "source": [
    "### Le contour simple\n",
    "\n",
    "Pour la suite, nous allons définir quelques fonctions dont nous aurons besoin pour la fonction simple_contour.\n",
    "Commençons par importer les bibliothèques utiles."
   ]
  },
  {
   "cell_type": "code",
   "execution_count": 10,
   "metadata": {},
   "outputs": [],
   "source": [
    "import matplotlib.pyplot as plt  \n",
    "import autograd\n",
    "from autograd import numpy as np"
   ]
  },
  {
   "cell_type": "markdown",
   "metadata": {},
   "source": [
    "Définissons maintenant une fonction permettant de calculer une distance euclidienne dans $\\mathbb{R^2}$"
   ]
  },
  {
   "cell_type": "code",
   "execution_count": 11,
   "metadata": {},
   "outputs": [],
   "source": [
    "def distanceeucl(x,y):\n",
    "    return np.sqrt(((x[0]-y[0])**2)+((x[1]-y[1])**2))"
   ]
  },
  {
   "cell_type": "markdown",
   "metadata": {},
   "source": [
    "Définissons ensuite une fonction permettant de donner à un vecteur une norme souhaitée."
   ]
  },
  {
   "cell_type": "code",
   "execution_count": 12,
   "metadata": {},
   "outputs": [],
   "source": [
    "def normalisation(vecteur,normev):\n",
    "    norme=distanceeucl(vecteur,(0,0))\n",
    "    x=vecteur[0]\n",
    "    y=vecteur[1]\n",
    "    return (x*normev/norme,y*normev/norme)"
   ]
  },
  {
   "cell_type": "markdown",
   "metadata": {},
   "source": [
    "Définissons enfin la fonction gradient qui calcule le gradient à l'aide de la bibliothèque autograd. "
   ]
  },
  {
   "cell_type": "code",
   "execution_count": 13,
   "metadata": {},
   "outputs": [],
   "source": [
    "def grad(f,x,y):\n",
    "    g=autograd.grad\n",
    "    return np.r_[g(f,0)(x,y),g(f,1)(x,y)]"
   ]
  },
  {
   "cell_type": "markdown",
   "metadata": {},
   "source": [
    "Nous pouvons maintenant définir la fonction simple_contour qui blablabla faut expliquer et commenter le programme"
   ]
  },
  {
   "cell_type": "code",
   "execution_count": 20,
   "metadata": {},
   "outputs": [],
   "source": [
    "def simple_contour(f,c=0.0,delta=0.01):\n",
    "    x=[0.0]  #on définit un premier point sur l'arête gauche à l'aide de find_seed\n",
    "    y=[find_seed(f,c,0.0)] \n",
    "    avant=[x[-1],y[-1]]\n",
    "    gradient=grad(f,avant[0],avant[1]) #on calcule le gradient au point précédemment trouvé\n",
    "    tang=[-gradient[1],gradient[0]]\n",
    "    v=normalisation(tang,delta)  #on obtient la tangente à la courbe de niveau \n",
    "    if v[0] >= 0 :  #on vérifie que le point choisi en second partira bien vers la droite (x>=0)\n",
    "        p1=(avant[0]+v[0],avant[1]+v[1])\n",
    "    else : \n",
    "        p1=(avant[0]-v[0],avant[1]-v[1])\n",
    "    \n",
    "    def F(x,y):\n",
    "        return np.array([f(x,y)-c,(x-avant[0])**2+(y-avant[1])**2-delta**2])\n",
    "        \n",
    "    def Jacob(F,x,y):                #on définit la jacobienne.\n",
    "        j = autograd.jacobian\n",
    "        return np.c_[j(F,0)(x,y),j(F,1)(x,y)]\n",
    "    \n",
    "    X=np.array(p1)\n",
    "    A=F(p1[0],p1[1])   \n",
    "    while distanceeucl(A,[0,0]) >= 2**(-10) :\n",
    "        A=F(X[0],X[1])\n",
    "        X=X-np.linalg.inv(Jacob(F,X[0],X[1])).dot(np.array(A))\n",
    "    \n",
    "    x+=[X[0]]\n",
    "    y+=[X[1]]\n",
    "    while x[-1]<1-delta and y[-1]>0+delta and y[-1]<1-delta:\n",
    "        distance=[]\n",
    "        avant=[x[-1],y[-1]]\n",
    "        gradient=grad(f,avant[0],avant[1])\n",
    "        tang=[-gradient[1],gradient[0]]\n",
    "        v=normalisation(tang,delta)\n",
    "        p1=[avant[0]+v[0],avant[1]+v[1]]\n",
    "        p2=[avant[0]-v[0],avant[1]-v[1]]\n",
    "        p=[p1,p2]\n",
    "        for i in p:\n",
    "            distance+=[distanceeucl((x[-2],y[-2]),i)]\n",
    "        e=distance.index(max(distance))\n",
    "        \n",
    "        def F(x,y):\n",
    "            return np.array([f(x,y)-c,(x-avant[0])**2+(y-avant[1])**2-delta**2])\n",
    "        \n",
    "        def Jacob(F,x,y):                #on définit la jacobienne.\n",
    "            j = autograd.jacobian\n",
    "            return np.c_[j(F,0)(x,y),j(F,1)(x,y)]\n",
    "       \n",
    "        X=np.array(p[e])\n",
    "        A=F(X[0],X[1])   # Il s'agit du point intermédiaire permettant d'initialiser Newton.\n",
    "        while distanceeucl(A,[0,0]) >= 2**(-10) :\n",
    "            A=F(X[0],X[1])\n",
    "            X=X-np.linalg.inv(Jacob(F,X[0],X[1])).dot(np.array(A))\n",
    "        x+=[X[0]]\n",
    "        y+=[X[1]]\n",
    "    return [x,y]"
   ]
  },
  {
   "cell_type": "markdown",
   "metadata": {},
   "source": [
    "On peut maintenant définir des fonctions tests, et tester ce premier programme sur ces fonctions tests. "
   ]
  },
  {
   "cell_type": "code",
   "execution_count": null,
   "metadata": {},
   "outputs": [],
   "source": [
    "def f(x,y):\n",
    "    return 2*(np.exp(-x**2-y**2)-np.exp(-(x-1)**2-(y-1)**2))\n",
    "\n",
    "def h(x,y):\n",
    "    return x**2+(y-0.4)**2"
   ]
  },
  {
   "cell_type": "code",
   "execution_count": null,
   "metadata": {},
   "outputs": [],
   "source": [
    "c=input(\"Donnez la valeur du réel c >> \")    \n",
    "data=simple_contour(h,float(c))\n",
    "print(data)\n",
    "plt.plot(data[0],data[1])\n",
    "plt.grid()\n",
    "plt.title(f\"Courbe de niveau pour c={float(c)}\")\n",
    "plt.xlabel(\"x\")\n",
    "plt.ylabel(\"y\")\n",
    "plt.show()"
   ]
  },
  {
   "cell_type": "code",
   "execution_count": null,
   "metadata": {},
   "outputs": [],
   "source": []
  },
  {
   "cell_type": "markdown",
   "metadata": {},
   "source": [
    "# 2ème partie : Contour complexe"
   ]
  },
  {
   "cell_type": "code",
   "execution_count": null,
   "metadata": {},
   "outputs": [],
   "source": []
  }
 ],
 "metadata": {
  "kernelspec": {
   "display_name": "Python 3",
   "language": "python",
   "name": "python3"
  },
  "language_info": {
   "codemirror_mode": {
    "name": "ipython",
    "version": 3
   },
   "file_extension": ".py",
   "mimetype": "text/x-python",
   "name": "python",
   "nbconvert_exporter": "python",
   "pygments_lexer": "ipython3",
   "version": "3.7.3"
  }
 },
 "nbformat": 4,
 "nbformat_minor": 2
}
