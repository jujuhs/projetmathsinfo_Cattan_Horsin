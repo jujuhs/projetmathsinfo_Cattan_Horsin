{
 "cells": [
  {
   "cell_type": "markdown",
   "metadata": {},
   "source": [
    "#   **Projet Maths Info Horsin/Cattan**\n",
    "\n",
    "\n",
    "\n"
   ]
  },
  {
   "cell_type": "markdown",
   "metadata": {},
   "source": [
    "Soit $f :  \\mathbb{R^2} \\to \\mathbb{R}$   continûment différentiable  et $c \\in \\mathbb{R}$.\n",
    "\n",
    "Le but du projet est de trouver l'ensemble $ \\{ \\:(x,y) \\:/ \\:f(x,y)=c \\: \\} $.\n",
    "\n",
    "# 1ère Partie: **Contour Simple**\n",
    "\n",
    "## L'amorce\n",
    "\n",
    "Nous avons choisi d'utiliser un algorithme dichotomique dans un premier temps, qui est plus robuste qu'un algorithme de Newton. En effet, n'ayant aucune information sur la valeur initiale (indispensable pour garantir la convergence), il semble plus cohérent d'utiliser une dichotomie.\n",
    " "
   ]
  },
  {
   "cell_type": "code",
   "execution_count": 1,
   "metadata": {},
   "outputs": [],
   "source": [
    "def find_seed(f, c=0.0, x=0.0, eps = 2**(-26)):\n",
    "    if not f(x,1.0)<= c <= f(x,0.0) and not f(x,0 )<= c <= f(x,1.0): \n",
    "            return None  #le TVI assure qu'il existe une valeur si cette condition est respectée\n",
    "    a = 0\n",
    "    b = 1\n",
    "    t = 0.5\n",
    "    while abs(f(x,t)-c) > eps :  \n",
    "        if (f(x,a)-c)*(f(x,t)-c) >= 0:\n",
    "            a = t\n",
    "        else :\n",
    "            b = t\n",
    "        t = (a+b)/2\n",
    "    return t "
   ]
  },
  {
   "cell_type": "markdown",
   "metadata": {},
   "source": [
    "### Le contour simple\n",
    "\n",
    "Pour la suite, nous allons définir quelques fonctions dont nous aurons besoin pour la fonction simple_contour.\n",
    "Commençons par importer les bibliothèques utiles. Rappelons que dans cette section, nous supposons l'existence d'un premier point situé sur l'arête gauche du carré [0,1]x[0,1]."
   ]
  },
  {
   "cell_type": "code",
   "execution_count": 2,
   "metadata": {},
   "outputs": [],
   "source": [
    "import matplotlib.pyplot as plt  \n",
    "import autograd\n",
    "from autograd import numpy as np"
   ]
  },
  {
   "cell_type": "markdown",
   "metadata": {},
   "source": [
    "Définissons maintenant une fonction permettant de calculer une distance euclidienne dans $\\mathbb{R^2}$"
   ]
  },
  {
   "cell_type": "code",
   "execution_count": 3,
   "metadata": {},
   "outputs": [],
   "source": [
    "def distanceeucl(x, y):\n",
    "    return np.sqrt(((x[0]-y[0])**2)+((x[1]-y[1])**2))"
   ]
  },
  {
   "cell_type": "markdown",
   "metadata": {},
   "source": [
    "Définissons ensuite une fonction permettant de donner à un vecteur une norme souhaitée."
   ]
  },
  {
   "cell_type": "code",
   "execution_count": 4,
   "metadata": {},
   "outputs": [],
   "source": [
    "def normalisation(vecteur,normev): # l'idée est de rendre le vecteur unitaire puis de le multiplier par la norme souhaitée\n",
    "    norme = distanceeucl(vecteur,(0,0))\n",
    "    x = vecteur[0]\n",
    "    y = vecteur[1]\n",
    "    return (x*normev/norme, y*normev/norme)"
   ]
  },
  {
   "cell_type": "markdown",
   "metadata": {},
   "source": [
    "Définissons enfin la fonction gradient qui calcule le gradient à l'aide de la bibliothèque autograd. "
   ]
  },
  {
   "cell_type": "code",
   "execution_count": 5,
   "metadata": {},
   "outputs": [],
   "source": [
    "def grad(f, x, y):\n",
    "    g = autograd.grad\n",
    "    return np.r_[g(f, 0)(x, y), g(f, 1)(x, y)]"
   ]
  },
  {
   "cell_type": "markdown",
   "metadata": {},
   "source": [
    "## Comment obtenir les points le plus précisément possible ?\n",
    "\n",
    "Rappelons que nous voulons trouver un fragment de ligne de niveau de valeur $c$ composés de points consécutivement espacés de $\\delta$.\n",
    "\n",
    "L'idée principale va être de réaliser un algorithme de Newton à une fonction $ F_{dernier\\: point} : \\mathbb{R^2} \\to \\mathbb{R^2} $ qui dépendra du dernier point trouvé (ie appartenant à la ligne de niveau) via l'indice $dernier \\:point$ et qui prendra en argument des couples (x,y) du plan.\n",
    "\n",
    "Définissons cette fonction : \n",
    "$F_{dernier\\:point}(x,y) = \\begin{pmatrix} f (x,y) - c = g\\:(x,y)\\\\ (x-x_{dernier\\:point})^2 + (y-y_{dernier\\:point})^2 - \\delta^2 = h (x,y)\\end{pmatrix} $ \n",
    "\n",
    "Trouver un couple (x,y) annulant la fonction $F_{dernier\\:point}$ revient à trouver un point situé sur la ligne de niveau (condition n°1) ET distancé de $\\delta$ du dernier point trouvé (condition n°2).\n",
    "\n",
    "$f$ étant continûment différentiable, les fonctions $g$ et $h$ sont différentiables. En notant $ ( x_{n} , y_{n} ) $ le point trouvé après la n-ième itération de l'algorithme de Newton on a, en considérant les développements limités à l'odre 1 des fonctions $g$ et $h$ au point  $ ( x_{n} , y_{n} ) $ : \n",
    "\n",
    "$g(x,y) = g( x_{n} , y_{n} ) \\: \\: + \\:\\:\\frac{\\partial g}{\\partial x}( x_{n} , y_{n} ) \\:(x-x_{n}) \\: + \\: \\frac{\\partial g}{\\partial y}( x_{n} , y_{n} ) \\:(y-y_{n}) + o\\:(x,y)$ \n",
    "\n",
    "$h(x,y) = h( x_{n} , y_{n} ) \\: \\: + \\:\\frac{\\partial h}{\\partial x}( x_{n} , y_{n} ) \\: (x-x_{n}) \\: + \\: \\frac{\\partial h}{\\partial y}( x_{n} , y_{n} ) \\: (y-y_{n}) + o\\:(x,y)$\n",
    "\n",
    "En notant $J_{F_{dernier\\:point}}$ la jacobienne de la fonction $F_{dernier\\:point}$ définie par : \n",
    "\n",
    "$J_{F_{dernier\\:point}} = \\begin{pmatrix} \\frac{\\partial g}{\\partial x} & \\frac{\\partial g}{\\partial y} \\\\ \\frac{\\partial h}{\\partial x} & \\frac{\\partial h}{\\partial y} \\end{pmatrix}$\n",
    "\n",
    "on obtient par approximation, dans le cadre de l'algorithme de Newton : \n",
    "\n",
    "$ \\begin{pmatrix} 0 \\\\ 0 \\end{pmatrix} = \\begin{pmatrix} g( x_{n} , y_{n} ) \\\\ h( x_{n} , y_{n} ) \\end{pmatrix} \\: + J_{F_{dernier\\:point}} ( x_{n} , y_{n} ). \\begin{pmatrix} (\\:x-x_{n}\\:) \\\\ (\\: y-y_{n} \\:) \\end{pmatrix}$\n",
    "\n",
    "Sous réserve d'inversion de $J_{F_{dernier\\:point}} ( x_{n} , y_{n} )$, il vient : \n",
    "\n",
    "$ \\begin{pmatrix} x_{n+1} \\\\ y_{n+1} \\end{pmatrix} = \\begin{pmatrix} x_{n} \\\\ y_{n} \\end{pmatrix} - J_{F_{dernier\\:point}} ( x_{n} , y_{n} )^-1 . \\begin{pmatrix}  g( x_{n} , y_{n} )\\\\ h( x_{n} , y_{n} ) \\end{pmatrix} $\n",
    "\n",
    "\n",
    "C'est donc cette dernière égalité que nous implémenterons dans la fonction simple_contour. \n",
    "\n",
    "### Comment choisir le point d'initialisation pour l'algorithme de Newton ?\n",
    "\n",
    "Pour faire cela, nous allons utiliser le résultat mathématique suivant : en un point où le gradient n'est pas nul, celui-ci oriente la normale à la surface définie par $\\{ \\:(x,y,z) \\in \\mathbb{R^3} \\:/ \\:f(x,y)=z \\: \\}$. Dans le cadre de notre problème, on se fixe à \"l'altitude\" $ z=c$, ce qui revient à considérer le problème plan. \n",
    "\n",
    "Il suffit alors de calculer le gradient au dernier point trouvé et d'en déterminer un vecteur orthogonal. Nous obtenons ainsi la direction de la tangente de la ligne de niveau au dernier point trouvé. En donnant au vecteur tangent une norme $\\delta$ assez petite, on peut connaître les coordoonées des deux points situés approximativement sur la ligne de niveau et distancé de $\\delta$ du point précédent. \n",
    "\n",
    "Pour choisir entre ces deux points, on décide de prendre celui qui est le plus éloigné de l'avant-dernier point trouvé, afin d'éviter un \"rebroussement\" de la ligne de niveau. \n",
    "On choisit alors ce point pour implémenter l'algorithme de Newton, permettant de rendre sa convergence plus sûre. \n",
    "\n"
   ]
  },
  {
   "cell_type": "markdown",
   "metadata": {},
   "source": [
    "Voici un schéma permettant de visualiser ce qui a été décrit ci-dessus : ![schema_pmi.png](attachment:schema_pmi.png)"
   ]
  },
  {
   "cell_type": "markdown",
   "metadata": {},
   "source": [
    "Cependant, cela nécessite d'avoir deux points initiaux avant de pouvoir lancer l'algorithme au complet. Pour faire cela, nous trouverons un premier point grâce à la fonction find_seed, puis nous déterminerons un second point en utilisant la méthode de la tangente et en choisissant le point s'éloignant le plus de la droite d'équation x=0."
   ]
  },
  {
   "cell_type": "markdown",
   "metadata": {},
   "source": [
    "Nous définissons ainsi la fonction simple_contour : "
   ]
  },
  {
   "cell_type": "code",
   "execution_count": 6,
   "metadata": {},
   "outputs": [],
   "source": [
    "def simple_contour(f,c=0.0,delta=0.01):\n",
    "    #on commence par initialiser le programme en calculant les deux premiers points. \n",
    "    \n",
    "    X = [0.0]  #on définit un premier point sur l'arête gauche à l'aide de find_seed\n",
    "    if find_seed(f,c,0.0) != None:\n",
    "        Y = [find_seed(f,c,0.0)]\n",
    "    else:\n",
    "        return \"première valeur pas entre f(a) et f(b)\"\n",
    "    \n",
    "    point_précédent = [X[-1],Y[-1]]\n",
    "    gradient = grad(f, point_précédent[0], point_précédent[1]) #on calcule le gradient au premier point trouvé\n",
    "    tangente = [-gradient[1], gradient[0]] #le gradient dirige la normale à la tangente.\n",
    "    tangente_normalisée = normalisation(tangente, delta) #la norme du vecteur tangent est delta\n",
    "    \n",
    "    if tangente_normalisée[0] >= 0 :  #on vérifie que le point choisi en second partira bien vers la droite (x>=0)\n",
    "        deuxième_point = (point_précédent[0] + tangente_normalisée[0],\n",
    "                          point_précédent[1] + tangente_normalisée[1]\n",
    "                         )\n",
    "    else : \n",
    "        deuxième_point = (point_précédent[0] - tangente_normalisée[0],\n",
    "                          point_précédent[1] - tangente_normalisée[1]\n",
    "                         )\n",
    "         \n",
    "    nouveau_point = np.array(deuxième_point)\n",
    "    def F(x, y): #on définit le système à 2 équations\n",
    "        return np.array([f(x,y) - c,(x - point_précédent[0])**2 + (y - point_précédent[1])**2 - delta**2])\n",
    "        \n",
    "    def Jacob(F, x, y):  #on définit la jacobienne.\n",
    "        j = autograd.jacobian\n",
    "        return np.c_[j(F,0)(x, y),j(F,1)(x, y)]\n",
    "    \n",
    "    A = F( nouveau_point[0],  nouveau_point[1])   #matrice associéé au système 2x2\n",
    "    \n",
    "    while distanceeucl(A,[0,0]) >= 2**(-10) :\n",
    "        nouveau_point =  nouveau_point - np.linalg.inv(Jacob(F,  nouveau_point[0], nouveau_point[1])).dot(np.array(A))\n",
    "        A = F( nouveau_point[0],  nouveau_point[1])\n",
    "    X += [ nouveau_point[0]]\n",
    "    Y += [ nouveau_point[1]]\n",
    "    \n",
    "    \n",
    "    while X[-1] <= 1 and Y[-1] <= 1 and X[-1] >= 0 and Y[-1] >= 0: #la condition d'arrêt est la sortie du carré [0,1]x[0,1]\n",
    "        distance = []\n",
    "        point_précédent = [X[-1], \n",
    "                           Y[-1]\n",
    "                          ]\n",
    "    \n",
    "        gradient = grad(f, point_précédent[0], point_précédent[1])\n",
    "        tangente=[-gradient[1],gradient[0]]\n",
    "        tangente_normalisée = normalisation(tangente,delta)\n",
    "        point1 = [point_précédent[0] + tangente_normalisée[0], #on détermine le premier point candidat.\n",
    "                  point_précédent[1] + tangente_normalisée[1]\n",
    "                 ]\n",
    "        \n",
    "        point2 = [point_précédent[0] - tangente_normalisée[0], #on détermine le second point candidat.\n",
    "                  point_précédent[1] - tangente_normalisée[1]]\n",
    "        liste_point = [point1, point2]\n",
    "        \n",
    "        for i in liste_point:            \n",
    "            distance += [distanceeucl((X[-2], Y[-2]), i)]\n",
    "            \n",
    "        e = distance.index(max(distance)) #on choisit le point le plus éloigné de l'avant-dernier point \n",
    "        nouveau_point = np.array(liste_point[e]) # il permet d'initialiser Newton. \n",
    "        def F(x, y): #on définit le système à 2 équations\n",
    "            return np.array([f(x,y) - c,(x - point_précédent[0])**2 + (y - point_précédent[1])**2 - delta**2])\n",
    "        \n",
    "        def Jacob(F, x, y):  #on définit la jacobienne.\n",
    "            j = autograd.jacobian\n",
    "            return np.c_[j(F,0)(x, y),j(F,1)(x, y)]\n",
    "        \n",
    "        A = F(nouveau_point[0], nouveau_point[1])   # on évalue F au point intermédiaire.\n",
    "        \n",
    "        while distanceeucl(A,[0,0]) >= 2**(-10): # on cherche un zéro de F.\n",
    "            A = F(nouveau_point[0],nouveau_point[1])\n",
    "            nouveau_point = nouveau_point - np.linalg.inv(Jacob(F, nouveau_point[0], nouveau_point[1])).dot(np.array(A))\n",
    "        X += [nouveau_point[0]]\n",
    "        Y += [nouveau_point[1]]\n",
    "    X.pop() #on enlève le dernier point qui était situé hors du carré [0,1]x[0,1]\n",
    "    Y.pop()\n",
    "    return [X, Y] #on renvoit une liste contenant la liste des abscisses et des ordonées des points."
   ]
  },
  {
   "cell_type": "markdown",
   "metadata": {},
   "source": [
    "On peut maintenant définir des fonctions tests, et tester ce premier programme sur ces fonctions tests. "
   ]
  },
  {
   "cell_type": "code",
   "execution_count": 7,
   "metadata": {},
   "outputs": [],
   "source": [
    "def f(x, y):\n",
    "    return 2*(np.exp(-x**2 - y**2)-np.exp(- (x - 1)**2 - (y - 1)**2))\n",
    "\n",
    "def h(x,y):\n",
    "    return x**2 + (y - 0.4)**2"
   ]
  },
  {
   "cell_type": "code",
   "execution_count": 8,
   "metadata": {},
   "outputs": [
    {
     "data": {
      "image/png": "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\n",
      "text/plain": [
       "<Figure size 432x288 with 1 Axes>"
      ]
     },
     "metadata": {
      "needs_background": "light"
     },
     "output_type": "display_data"
    }
   ],
   "source": [
    "c = 0.2 #on choisit la valeur de c\n",
    "data = simple_contour(h,float(c))\n",
    "#print(data) #pour print les valeurs des points à tracer.\n",
    "plt.plot(data[0], data[1])\n",
    "plt.grid()\n",
    "plt.title(f\"Courbe de niveau pour c=  {float(c)}\")\n",
    "plt.xlabel(\"x\")\n",
    "plt.ylabel(\"y\")\n",
    "plt.show()"
   ]
  },
  {
   "cell_type": "markdown",
   "metadata": {},
   "source": [
    "# 2ème partie : Contour complexe"
   ]
  },
  {
   "cell_type": "markdown",
   "metadata": {},
   "source": [
    "On définit des fonctions find_seedx et find_seedy, intermédiaires, afin de faire des recherches de premiers points sur les 4 bords des petits carrés qui constitueront le quadrillage final. "
   ]
  },
  {
   "cell_type": "code",
   "execution_count": 9,
   "metadata": {},
   "outputs": [],
   "source": [
    "def find_seedx(f, c=0.0, x=0.0, y1 = 0.0, y2 = 1.0, eps = 2**(-26)): # cette fonction permet à x fixé, de chercher un y\n",
    "    if not f(x,y1)<= c <= f(x,y2) and not f(x,y2)<= c <= f(x, y1):  # compris entre y1 et y2 tel que f(x,y)=c\n",
    "            return None  \n",
    "    a = y1\n",
    "    b = y2\n",
    "    t = (a+b)/2 \n",
    "    while abs(f(x,t)- c) > eps :  \n",
    "        if (f(x, a) - c)*(f(x,t) - c) >= 0:\n",
    "            a = t\n",
    "        else :\n",
    "            b = t\n",
    "        t = (a+b)/2\n",
    "    return t "
   ]
  },
  {
   "cell_type": "code",
   "execution_count": 10,
   "metadata": {},
   "outputs": [],
   "source": [
    "def find_seedy(f, c=0.0, y=0.0, x1 = 0.0, x2 = 1.0, eps = 2**(-26)): # cette fonction permet à y fixé, de chercher un x\n",
    "    if not f(x1, y)<= c <= f(x2, y) and not f(x2, y)<= c <= f(x1, y): # compris entre x1 et x2 \n",
    "            return None  \n",
    "    a = x1\n",
    "    b = x2\n",
    "    t = (a+b)/2\n",
    "    while abs(f(t, y)-c) > eps :  \n",
    "        if (f(a, y)-c)*(f(t, y)-c) >= 0:\n",
    "            a = t\n",
    "        else :\n",
    "            b = t\n",
    "        t = (a+b)/2\n",
    "    return t "
   ]
  },
  {
   "cell_type": "markdown",
   "metadata": {},
   "source": [
    "On modifie légèrement le début de la fonction contour_simple afin de chercher des valeurs sur les 4 bords, en faisant appel aux fonctions find_seedx et find_seedy précédemment définies."
   ]
  },
  {
   "cell_type": "code",
   "execution_count": 11,
   "metadata": {},
   "outputs": [],
   "source": [
    "def simple_contourmodif(f,c=0.0,delta=0.01, x1 = 0.0, x2 = 1.0, y1 = 0.0, y2 = 1.0):\n",
    "    coté_X = [x1, x2]\n",
    "    coté_Y = [y1, y2]\n",
    "    test_coté = False\n",
    "    for i in coté_X: #on réalise une recherche de premier point sur les droite d'équation x=x1 et x=x2 \n",
    "        a = find_seedx(f, c, i, y1, y2)\n",
    "        if a != None:\n",
    "            X = [i]\n",
    "            Y = [a]\n",
    "            test_coté = True\n",
    "            \n",
    "    for i in coté_Y: #on réalise une recherche de premier point sur les droites d'équation y=y1 et y=y2\n",
    "        a = find_seedy(f, c, i, x1, x2)\n",
    "        if a != None:\n",
    "            Y = [i]\n",
    "            X = [a]\n",
    "            test_coté = True\n",
    "            \n",
    "    if test_coté == False: #si aucun point n'a été trouvé sur les bords, on retourne des listes vides. \n",
    "        return [[],[]]\n",
    "    \n",
    "    \n",
    "    point_précédent = [X[-1],Y[-1]]\n",
    "    gradient = grad(f, point_précédent[0], point_précédent[1]) #on calcule le gradient au premier point trouvé\n",
    "    tangente = [-gradient[1], gradient[0]] #le gradient dirige la normale à la tangente.\n",
    "    tangente_normalisée = normalisation(tangente, delta) #la norme du vecteur tangent est delta\n",
    "    \n",
    "    if x1 <= (point_précédent[0] + tangente_normalisée[0]) <= x2 and  y1 <= point_précédent[1] + tangente_normalisée[1] <= y2:  #on vérifie que le point choisi en second reste dans le carré délimité par x1, x2, y1 et y2.\n",
    "        deuxième_point = (point_précédent[0] + tangente_normalisée[0],\n",
    "                          point_précédent[1] + tangente_normalisée[1]\n",
    "                         )\n",
    "    else : \n",
    "        deuxième_point = (point_précédent[0] - tangente_normalisée[0],\n",
    "                          point_précédent[1] - tangente_normalisée[1]\n",
    "                         )\n",
    "         \n",
    "    nouveau_point = np.array(deuxième_point)\n",
    "    def F(x, y): #on définit le système à 2 équations\n",
    "        return np.array([f(x,y) - c,(x - point_précédent[0])**2 + (y - point_précédent[1])**2 - delta**2])\n",
    "        \n",
    "    def Jacob(F, x, y):  #on définit la jacobienne.\n",
    "        j = autograd.jacobian\n",
    "        return np.c_[j(F,0)(x, y),j(F,1)(x, y)]\n",
    "    \n",
    "    A = F( nouveau_point[0],  nouveau_point[1])   #matrice associéé au système 2x2\n",
    "    \n",
    "    while distanceeucl(A,[0,0]) >= 2**(-10) :\n",
    "        nouveau_point =  nouveau_point - np.linalg.inv(Jacob(F,  nouveau_point[0], nouveau_point[1])).dot(np.array(A))\n",
    "        A = F( nouveau_point[0],  nouveau_point[1])\n",
    "    X += [ nouveau_point[0]]\n",
    "    Y += [ nouveau_point[1]]\n",
    "    \n",
    "    \n",
    "    while X[-1] <= x2 and Y[-1] <= y2  and X[-1] >= x1 and Y[-1] >= y1 :\n",
    "        distance = []\n",
    "        point_précédent = [X[-1], \n",
    "                           Y[-1]\n",
    "                          ]\n",
    "    \n",
    "        gradient = grad(f, point_précédent[0], point_précédent[1])\n",
    "        tangente=[-gradient[1],gradient[0]]\n",
    "        tangente_normalisée = normalisation(tangente,delta)\n",
    "        point1 = [point_précédent[0] + tangente_normalisée[0],\n",
    "                  point_précédent[1] + tangente_normalisée[1]\n",
    "                 ]\n",
    "        \n",
    "        point2 = [point_précédent[0] - tangente_normalisée[0],\n",
    "                  point_précédent[1] - tangente_normalisée[1]]\n",
    "        liste_point = [point1, point2]\n",
    "        \n",
    "        for i in liste_point:            \n",
    "            distance += [distanceeucl((X[-2], Y[-2]), i)]\n",
    "            \n",
    "        e = distance.index(max(distance))       \n",
    "        nouveau_point = np.array(liste_point[e])\n",
    "        \n",
    "        def F(x, y): #on définit le système à 2 équations\n",
    "            return np.array([f(x,y) - c,(x - point_précédent[0])**2 + (y - point_précédent[1])**2 - delta**2])\n",
    "        \n",
    "        def Jacob(F, x, y):  #on définit la jacobienne.\n",
    "            j = autograd.jacobian\n",
    "            return np.c_[j(F,0)(x, y),j(F,1)(x, y)]\n",
    "        \n",
    "        A = F(nouveau_point[0], nouveau_point[1])   \n",
    "        \n",
    "        while distanceeucl(A,[0,0]) >= 2**(-10):            \n",
    "            A = F(nouveau_point[0],nouveau_point[1])\n",
    "            nouveau_point = nouveau_point - np.linalg.inv(Jacob(F, nouveau_point[0], nouveau_point[1])).dot(np.array(A))\n",
    "        X += [nouveau_point[0]]\n",
    "        Y += [nouveau_point[1]]\n",
    "    return [X, Y]"
   ]
  },
  {
   "cell_type": "markdown",
   "metadata": {},
   "source": [
    "Puis on définit la fonction contour finale qui fera appel à la nouvelle fonction simple_contourmodif précédemment définie, sur chaque carré du quadrillage."
   ]
  },
  {
   "cell_type": "code",
   "execution_count": 12,
   "metadata": {},
   "outputs": [],
   "source": [
    "def contour(f,c, xc = [0.0,1.0], yc = [0.0,1.0], delta = 0.01): #la fonction prend en argument le quadrillage défini par les listes xc et yc.\n",
    "    X_tot = []\n",
    "    Y_tot = []\n",
    "    for i in range(len(yc) - 1):\n",
    "        for j in range(len(xc)-1): #dans chaque petit rectangle, on applique simple_contourmodif.\n",
    "            xg = xc[j]\n",
    "            xd = xc[j+1]\n",
    "            yg = yc[i]\n",
    "            yd = yc[i+1]\n",
    "            R = simple_contourmodif(f, c, delta , xg, xd, yg, yd)\n",
    "            X_tot.append(R[0])\n",
    "            Y_tot.append(R[1])\n",
    "    return [X_tot, Y_tot] #liste des listes de points pour chaque carré xc,yc"
   ]
  },
  {
   "cell_type": "markdown",
   "metadata": {},
   "source": [
<<<<<<< HEAD
    "On peut tester la fonction courtour sur la fonction f défini au début de l'énoncé de ce projet:"
=======
    "On peut tester la fonction contour sur la fonction f définie au début de l'énoncé de ce projet :"
>>>>>>> 8e0d231b04bb158c7f780cdd0d7f381d59cfc2bd
   ]
  },
  {
   "cell_type": "code",
   "execution_count": 14,
   "metadata": {},
   "outputs": [
    {
     "data": {
      "image/png": "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\n",
      "text/plain": [
       "<Figure size 432x288 with 1 Axes>"
      ]
     },
     "metadata": {
      "needs_background": "light"
     },
     "output_type": "display_data"
    }
   ],
   "source": [
    "xc = np.linspace(-2,3,10) #on définit le quadrillage relatif à la fonction exemple f\n",
    "yc = np.linspace(-1,2,5)\n",
    "valeur = np.arange(-1.5, 2, 0.5) #on définit les différentes valeur de c.\n",
    "v = [\"b\",\"c\",\"g\",\"r\",\"m\",\"b\",\"y\"]*len(valeur)#pour être sûr d'avoir assez de couleur\n",
    "for i in range(len(valeur)):\n",
    "    data = contour(f,float(valeur[i]), xc, yc)\n",
    "    for x,y in zip(data[0],data[1]):\n",
    "        plt.plot(x, y, color = v[i]) #on plot la courbe de niveau dans chaque carré avec une couleur par ligne\n",
    "    \n",
    "plt.grid()\n",
    "plt.title(f\"Courbe de niveau pour c dans {valeur}\")\n",
    "plt.xlabel(\"x\")\n",
    "plt.ylabel(\"y\")\n",
    "plt.show()"
   ]
  },
  {
   "cell_type": "code",
   "execution_count": null,
   "metadata": {},
   "outputs": [],
   "source": []
  }
 ],
 "metadata": {
  "kernelspec": {
   "display_name": "Python 3",
   "language": "python",
   "name": "python3"
  },
  "language_info": {
   "codemirror_mode": {
    "name": "ipython",
    "version": 3
   },
   "file_extension": ".py",
   "mimetype": "text/x-python",
   "name": "python",
   "nbconvert_exporter": "python",
   "pygments_lexer": "ipython3",
   "version": "3.7.3"
  }
 },
 "nbformat": 4,
 "nbformat_minor": 2
}
