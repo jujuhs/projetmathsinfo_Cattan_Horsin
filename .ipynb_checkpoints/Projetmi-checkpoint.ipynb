{
 "cells": [
  {
   "cell_type": "markdown",
   "metadata": {},
   "source": [
    "#   **Projet Maths Info Horsin/Cattan**\n",
    "\n",
    "\n",
    "\n"
   ]
  },
  {
   "cell_type": "markdown",
   "metadata": {},
   "source": [
    "Soit $f :  \\mathbb{R^2} \\to \\mathbb{R}$ et $c \\in \\mathbb{R}$.\n",
    "\n",
    "Le but du projet est de trouver l'ensemble $\\{ \\:(x,y) \\:/ \\:f(x,y)=c \\: \\}$.\n",
    "\n",
    "# 1ère Partie: **Contour Simple**\n",
    "\n",
    "## L'amorce\n",
    "\n",
    "Nous avons choisi d'utiliser un algorithme dichotomique dans un premier temps, qui est plus robuste qu'un algorithme de Newton. En effet, n'ayant aucune information sur la valeur initiale (indispensable pour garantir la convergence), il semble plus cohérent d'utiliser une dichotomie.\n",
    " "
   ]
  },
  {
   "cell_type": "code",
   "execution_count": 87,
   "metadata": {},
   "outputs": [],
   "source": [
    "def find_seed(f, c=0.0, x=0.0, eps = 2**(-26)):\n",
    "    if not f(x,1.0)<= c <= f(x,0.0) and not f(x,0 )<= c <= f(x,1.0):\n",
    "            return None  \n",
    "    a = 0\n",
    "    b = 1\n",
    "    t = 0.5\n",
    "    while abs(f(x,t)-c) > eps :  \n",
    "        if (f(x,a)-c)*(f(x,t)-c) >= 0:\n",
    "            a = t\n",
    "        else :\n",
    "            b = t\n",
    "        t = (a+b)/2\n",
    "    return t "
   ]
  },
  {
   "cell_type": "markdown",
   "metadata": {},
   "source": [
    "### Le contour simple\n",
    "\n",
    "Pour la suite, nous allons définir quelques fonctions dont nous aurons besoin pour la fonction simple_contour.\n",
    "Commençons par importer les bibliothèques utiles."
   ]
  },
  {
   "cell_type": "code",
   "execution_count": 88,
   "metadata": {},
   "outputs": [],
   "source": [
    "import matplotlib.pyplot as plt  \n",
    "import autograd\n",
    "from autograd import numpy as np"
   ]
  },
  {
   "cell_type": "markdown",
   "metadata": {},
   "source": [
    "Définissons maintenant une fonction permettant de calculer une distance euclidienne dans $\\mathbb{R^2}$"
   ]
  },
  {
   "cell_type": "code",
   "execution_count": 89,
   "metadata": {},
   "outputs": [],
   "source": [
    "def distanceeucl(x, y):\n",
    "    return np.sqrt(((x[0]-y[0])**2)+((x[1]-y[1])**2))"
   ]
  },
  {
   "cell_type": "markdown",
   "metadata": {},
   "source": [
    "Définissons ensuite une fonction permettant de donner à un vecteur une norme souhaitée."
   ]
  },
  {
   "cell_type": "code",
   "execution_count": 90,
   "metadata": {},
   "outputs": [],
   "source": [
    "def normalisation(vecteur,normev):\n",
    "    norme = distanceeucl(vecteur,(0,0))\n",
    "    x = vecteur[0]\n",
    "    y = vecteur[1]\n",
    "    return (x*normev/norme, y*normev/norme)"
   ]
  },
  {
   "cell_type": "markdown",
   "metadata": {},
   "source": [
    "Définissons enfin la fonction gradient qui calcule le gradient à l'aide de la bibliothèque autograd. "
   ]
  },
  {
   "cell_type": "code",
   "execution_count": 91,
   "metadata": {},
   "outputs": [],
   "source": [
    "def grad(f, x, y):\n",
    "    g = autograd.grad\n",
    "    return np.r_[g(f, 0)(x, y), g(f, 1)(x, y)]"
   ]
  },
  {
   "cell_type": "markdown",
   "metadata": {},
   "source": [
    "On définit le système à deux équations, et la matrice jacobienne associée."
   ]
  },
  {
   "cell_type": "code",
   "execution_count": 92,
   "metadata": {},
   "outputs": [],
   "source": [
    "def F(x, y): #on définit le système à 2 équations\n",
    "        return np.array([f(x,y) - c,(x - point_précédent[0])**2 + (y - point_précédent[1])**2 - delta**2])\n",
    "        \n",
    "def Jacob(F, x, y):  #on définit la jacobienne.\n",
    "    j = autograd.jacobian\n",
    "    return np.c_[j(F,0)(x, y),j(F,1)(x, y)]"
   ]
  },
  {
   "cell_type": "markdown",
   "metadata": {},
   "source": [
    "Nous pouvons maintenant définir la fonction simple_contour qui blablabla faut expliquer et commenter le programme"
   ]
  },
  {
   "cell_type": "code",
   "execution_count": 98,
   "metadata": {},
   "outputs": [],
   "source": [
    "def simple_contour(f,c=0.0,delta=0.01):\n",
    "    #on commence par initialiser le programme en calculant le deuxième point\n",
    "    \n",
    "    X = [0.0]  #on définit un premier point sur l'arête gauche à l'aide de find_seed\n",
    "    if find_seed != None:\n",
    "        Y = [find_seed(f,c,0.0)]\n",
    "    else:\n",
    "        return \"première valeur pas entre f(a) et f(b)\"\n",
    "    \n",
    "    point_précédent = [X[-1],Y[-1]]\n",
    "    gradient = grad(f, point_précédent[0], point_précédent[1]) #on calcule le gradient au premier point trouvé\n",
    "    tangente = [-gradient[1], gradient[0]] #le gradient dirige la normale à la tangente.\n",
    "    tangente_normalisée = normalisation(tangente, delta) #la norme du vecteur tangent est delta\n",
    "    \n",
    "    if tangente_normalisée[0] >= 0 :  #on vérifie que le point choisi en second partira bien vers la droite (x>=0)\n",
    "        deuxième_point = (point_précédent[0] + tangente_normalisée[0],\n",
    "                          point_précédent[1] + tangente_normalisée[1]\n",
    "                         )\n",
    "    else : \n",
    "        deuxième_point = (point_précédent[0] - tangente_normalisée[0],\n",
    "                          point_précédent[1] - tangente_normalisée[1]\n",
    "                         )\n",
    "         \n",
    "    nouveau_point = np.array(deuxième_point)\n",
    "    def F(x, y): #on définit le système à 2 équations\n",
    "        return np.array([f(x,y) - c,(x - point_précédent[0])**2 + (y - point_précédent[1])**2 - delta**2])\n",
    "        \n",
    "    def Jacob(F, x, y):  #on définit la jacobienne.\n",
    "        j = autograd.jacobian\n",
    "        return np.c_[j(F,0)(x, y),j(F,1)(x, y)]\n",
    "    \n",
    "    A = F( nouveau_point[0],  nouveau_point[1])   #matrice associéé au système 2x2\n",
    "    \n",
    "    while distanceeucl(A,[0,0]) >= 2**(-10) :\n",
    "        nouveau_point =  nouveau_point - np.linalg.inv(Jacob(F,  nouveau_point[0], nouveau_point[1])).dot(np.array(A))\n",
    "        A = F( nouveau_point[0],  nouveau_point[1])\n",
    "    X += [ nouveau_point[0]]\n",
    "    Y += [ nouveau_point[1]]\n",
    "    \n",
    "    \n",
    "    while X[-1] < 1 and Y[-1] < 1 and X[-1] > 0:\n",
    "        distance = []\n",
    "        point_précédent = [X[-1], \n",
    "                           Y[-1]\n",
    "                          ]\n",
    "    \n",
    "        gradient = grad(f, point_précédent[0], point_précédent[1])\n",
    "        tangente=[-gradient[1],gradient[0]]\n",
    "        tangente_normalisée = normalisation(tangente,delta)\n",
    "        point1 = [point_précédent[0] + tangente_normalisée[0],\n",
    "                  point_précédent[1] + tangente_normalisée[1]\n",
    "                 ]\n",
    "        \n",
    "        point2 = [point_précédent[0] - tangente_normalisée[0],\n",
    "                  point_précédent[1] - tangente_normalisée[1]]\n",
    "        liste_point = [point1, point2]\n",
    "        \n",
    "        for i in liste_point:            \n",
    "            distance += [distanceeucl((X[-2], Y[-2]), i)]\n",
    "            \n",
    "        e = distance.index(max(distance))       \n",
    "        nouveau_point = np.array(liste_point[e])\n",
    "        def F(x, y): #on définit le système à 2 équations\n",
    "            return np.array([f(x,y) - c,(x - point_précédent[0])**2 + (y - point_précédent[1])**2 - delta**2])\n",
    "        \n",
    "        def Jacob(F, x, y):  #on définit la jacobienne.\n",
    "            j = autograd.jacobian\n",
    "            return np.c_[j(F,0)(x, y),j(F,1)(x, y)]\n",
    "        \n",
    "        A = F(nouveau_point[0], nouveau_point[1])   # Il s'agit du point intermédiaire permettant d'initialiser Newton.\n",
    "        \n",
    "        while distanceeucl(A,[0,0]) >= 2**(-10):            \n",
    "            A = F(nouveau_point[0],nouveau_point[1])\n",
    "            nouveau_point = nouveau_point - np.linalg.inv(Jacob(F, nouveau_point[0], nouveau_point[1])).dot(np.array(A))\n",
    "        print(nouveau_point)\n",
    "        X += [nouveau_point[0]]\n",
    "        Y += [nouveau_point[1]]\n",
    "    return [X, Y]"
   ]
  },
  {
   "cell_type": "markdown",
   "metadata": {},
   "source": [
    "On peut maintenant définir des fonctions tests, et tester ce premier programme sur ces fonctions tests. "
   ]
  },
  {
   "cell_type": "code",
   "execution_count": 99,
   "metadata": {},
   "outputs": [],
   "source": [
    "def f(x,y):\n",
    "    return 2*(np.exp(-x**2-y**2)-np.exp(-(x-1)**2-(y-1)**2))\n",
    "\n",
    "def h(x,y):\n",
    "    return x**2 + (y-0.4)**2"
   ]
  },
  {
   "cell_type": "code",
   "execution_count": 100,
   "metadata": {},
   "outputs": [
    {
     "name": "stdout",
     "output_type": "stream",
     "text": [
      "[0.0199975  0.84699005]\n",
      "[0.02998751 0.84654311]\n",
      "[0.03996504 0.84587307]\n",
      "[0.04992511 0.84498032]\n",
      "[0.05986275 0.84386535]\n",
      "[0.06977303 0.84252878]\n",
      "[0.079651   0.84097133]\n",
      "[0.08949176 0.83919384]\n",
      "[0.09900672 0.83611658]\n",
      "[0.10875858 0.83390273]\n",
      "[0.11845851 0.83147142]\n",
      "[0.12810169 0.82882393]\n",
      "[0.1376833  0.82596163]\n",
      "[0.14719858 0.82288602]\n",
      "[0.1566428  0.81959866]\n",
      "[0.16601127 0.81610126]\n",
      "[0.17529934 0.81239562]\n",
      "[0.1845024  0.80848362]\n",
      "[0.19309999 0.80337625]\n",
      "[0.20211976 0.7990584 ]\n",
      "[0.21104074 0.79454   ]\n",
      "[0.21985852 0.78982334]\n",
      "[0.2285687  0.78491084]\n",
      "[0.23716698 0.77980499]\n",
      "[0.24564908 0.77450839]\n",
      "[0.25401081 0.76902373]\n",
      "[0.26224803 0.76335379]\n",
      "[0.27035666 0.75750144]\n",
      "[0.27761022 0.75061741]\n",
      "[0.28545026 0.74440986]\n",
      "[0.29314958 0.73802859]\n",
      "[0.30070435 0.73147685]\n",
      "[0.30811084 0.72475793]\n",
      "[0.3153654  0.71787524]\n",
      "[0.32246444 0.71083225]\n",
      "[0.32940446 0.70363252]\n",
      "[0.33618203 0.69627967]\n",
      "[0.34279384 0.6887774 ]\n",
      "[0.34834338 0.68045836]\n",
      "[0.35461462 0.67266917]\n",
      "[0.36071017 0.66474172]\n",
      "[0.36662701 0.65668003]\n",
      "[0.37236225 0.64848814]\n",
      "[0.37791307 0.64017018]\n",
      "[0.38327674 0.63173033]\n",
      "[0.38845063 0.62317283]\n",
      "[0.39343222 0.61450197]\n",
      "[0.39821906 0.6057221 ]\n",
      "[0.40178918 0.5963809 ]\n",
      "[0.40618039 0.58739662]\n",
      "[0.41036966 0.57831642]\n",
      "[0.41435495 0.56914486]\n",
      "[0.41813431 0.55988654]\n",
      "[0.42170591 0.55054611]\n",
      "[0.42506802 0.54112824]\n",
      "[0.42821902 0.53163766]\n",
      "[0.43115739 0.5220791 ]\n",
      "[0.43388172 0.51245736]\n",
      "[0.43529524 0.50255757]\n",
      "[0.4375885  0.49282407]\n",
      "[0.43966359 0.48304174]\n",
      "[0.44151953 0.47321547]\n",
      "[0.44315545 0.46335019]\n",
      "[0.44457059 0.45345083]\n",
      "[0.4457643  0.44352233]\n",
      "[0.44673603 0.43356966]\n",
      "[0.44748536 0.42359777]\n",
      "[0.44801197 0.41361165]\n",
      "[0.44719875 0.40364457]\n",
      "[0.44728024 0.39364491]\n",
      "[0.44713818 0.38364592]\n",
      "[0.44677267 0.3736526 ]\n",
      "[0.44618397 0.36366994]\n",
      "[0.44537241 0.35370293]\n",
      "[0.44433847 0.34375652]\n",
      "[0.44308271 0.33383568]\n",
      "[0.44160581 0.32394535]\n",
      "[0.43990857 0.31409043]\n",
      "[0.43690896 0.30455071]\n",
      "[0.43477465 0.29478113]\n",
      "[0.43242247 0.2850617 ]\n",
      "[0.42985366 0.27539727]\n",
      "[0.42706954 0.26579266]\n",
      "[0.42407157 0.25625263]\n",
      "[0.42086129 0.24678193]\n",
      "[0.41744036 0.23738527]\n",
      "[0.41381053 0.22806731]\n",
      "[0.40997366 0.21883268]\n",
      "[0.40493653 0.21019375]\n",
      "[0.40069233 0.20113909]\n",
      "[0.39624678 0.19218158]\n",
      "[0.39160214 0.18332566]\n",
      "[0.38676078 0.17457573]\n",
      "[0.38172517 0.16593613]\n",
      "[0.37649788 0.15741114]\n",
      "[0.37108154 0.14900499]\n",
      "[0.36547892 0.14072184]\n",
      "[0.35969284 0.13256578]\n",
      "[0.35286816 0.12525637]\n",
      "[0.34672471 0.11736599]\n",
      "[0.3404064  0.10961493]\n",
      "[0.33391643 0.10200702]\n",
      "[0.3272581  0.09454601]\n",
      "[0.32043476 0.0872356 ]\n",
      "[0.31344986 0.0800794 ]\n",
      "[0.30630693 0.07308094]\n",
      "[0.29900955 0.06624367]\n",
      "[0.29156142 0.05957094]\n",
      "[0.28328788 0.05395379]\n",
      "[0.27555005 0.04761928]\n",
      "[0.26767255 0.04145933]\n",
      "[0.25965934 0.03547698]\n",
      "[0.25151446 0.02967517]\n",
      "[0.24324202 0.02405675]\n",
      "[0.23484616 0.01862448]\n",
      "[0.22633111 0.01338102]\n",
      "[0.21770113 0.00832894]\n",
      "[0.20896056 0.0034707 ]\n",
      "[ 1.99648765e-01 -1.75429876e-04]\n",
      "[ 0.19070057 -0.00463971]\n",
      "[ 0.18165481 -0.00890284]\n",
      "[ 0.17251604 -0.01296274]\n",
      "[ 0.16328883 -0.01681742]\n",
      "[ 0.15397781 -0.02046503]\n",
      "[ 0.14458766 -0.02390378]\n",
      "[ 0.13512307 -0.02713202]\n",
      "[ 0.12558878 -0.03014819]\n",
      "[ 0.11598955 -0.03295084]\n",
      "[ 0.10610161 -0.03444499]\n",
      "[ 0.09638712 -0.0368175 ]\n",
      "[ 0.08662203 -0.03897224]\n",
      "[ 0.07681121 -0.0409082 ]\n",
      "[ 0.06695959 -0.04262446]\n",
      "[ 0.05707209 -0.04412023]\n",
      "[ 0.04715365 -0.04539481]\n",
      "[ 0.03720923 -0.04644762]\n",
      "[ 0.02724378 -0.04727819]\n",
      "[ 0.01726228 -0.04788617]\n",
      "[ 0.00728891 -0.0471542 ]\n",
      "[-0.00270976 -0.04731718]\n",
      "[[0.0, 0.01, 0.019997500937116313, 0.0299875084310548, 0.0399650355845191, 0.049925105462966524, 0.059862753565063924, 0.06977303028263272, 0.07965100334888056, 0.08949176027372632, 0.09900671623738601, 0.10875857940115195, 0.1184585145270701, 0.1281016882527784, 0.1376832991815311, 0.1471985802388173, 0.15664280100774206, 0.1660112700420534, 0.17529933715571258, 0.18450239568791937, 0.1930999887619118, 0.2021197558060744, 0.2110407428897084, 0.21985851753534374, 0.22856870212737593, 0.23716697602859427, 0.2456490776645897, 0.25401080657507447, 0.26224802543116543, 0.2703566620177028, 0.2776102174505349, 0.28545026109387184, 0.2931495750432637, 0.30070434767831467, 0.30811084241409353, 0.31536539947253456, 0.32246443761242793, 0.3294044558172305, 0.33618203493994997, 0.34279383930437957, 0.348343382245101, 0.3546146217714975, 0.3607101659145747, 0.3666270130716919, 0.3723622531254595, 0.3779130687821026, 0.38327673686117936, 0.38845062953612086, 0.39343221552508517, 0.39821906123164286, 0.401789182481056, 0.40618039279064516, 0.4103696613266507, 0.41435494546581986, 0.41813430597976603, 0.4217059078738747, 0.42506802117274445, 0.428219021651892, 0.4311573915154765, 0.4338817200198266, 0.4352952438636716, 0.43758850075480465, 0.4396635913204179, 0.4415195332866586, 0.4431554545529402, 0.4445705934897579, 0.4457642991808736, 0.4467360316098726, 0.44748536179112475, 0.44801197184520986, 0.4471987488181992, 0.4472802439915824, 0.44713817530761646, 0.4467726695895129, 0.44618396514454, 0.44537241150596935, 0.44433846911998437, 0.4430827089778312, 0.4416058121935176, 0.4399085695273925, 0.43690895774640726, 0.4347746468112358, 0.43242246937228096, 0.42985365505591644, 0.4270695407507035, 0.42407156980627425, 0.4208612911805024, 0.4174403585355034, 0.4138105292830285, 0.4099736635798427, 0.4049365258768909, 0.40069232906331226, 0.39624677524025975, 0.39160213581415115, 0.3867607799085826, 0.3817251730599061, 0.37649787586698624, 0.37108154259591253, 0.36547891974046354, 0.3596928445391392, 0.3528681607910929, 0.34672470640816794, 0.3404063973281043, 0.33391643401344584, 0.32725810024945967, 0.3204347614011425, 0.3134498626325725, 0.3063069270895783, 0.29900955404671337, 0.29156141701953914, 0.2832878783052679, 0.2755500498127665, 0.26767254651353045, 0.25965933909570355, 0.25151446304061, 0.2432420165276906, 0.2348461583118181, 0.22633110557411235, 0.21770113174738592, 0.20896056431736, 0.1996487645715659, 0.19070057001689153, 0.18165481223865518, 0.1725160350958062, 0.16328882549541704, 0.15397781104952102, 0.14458765771573487, 0.1351230674228784, 0.12558877568280852, 0.11598954918968796, 0.1061016085073899, 0.09638712321762656, 0.08662202809328731, 0.07681121466437558, 0.06695959362759538, 0.057072092371376094, 0.04715365249689163, 0.037209227336318804, 0.027243779469578247, 0.017262278240798033, 0.007288909074195038, -0.002709762632725249], [0.8472135961055756, 0.8472135961055756, 0.8469900451888732, 0.8465431108860356, 0.845873072154407, 0.8449803190998368, 0.8438653526434445, 0.84252878413371, 0.8409713349042062, 0.8391938357773147, 0.8361165830500231, 0.8339027255940913, 0.8314714176018823, 0.8288239281314954, 0.8259616332462666, 0.8228860151944191, 0.8195986615371728, 0.816101264225864, 0.8123956186286485, 0.8084836225073856, 0.8033762489432651, 0.7990584019717945, 0.7945399963399774, 0.789823339653426, 0.7849108367910629, 0.7798049885834065, 0.7745083904452953, 0.7690237309638358, 0.7633537904423788, 0.757501439401347, 0.7506174140547731, 0.7444098609401738, 0.7380285942392202, 0.7314768455846482, 0.7247579293231607, 0.7178752407579397, 0.7108322543538396, 0.7036325219062406, 0.6962796706745565, 0.6887774014814051, 0.6804583603985321, 0.6726691656517972, 0.6647417233404463, 0.6566800287469186, 0.6484881412033997, 0.6401701819857811, 0.631730332180394, 0.6231728305246427, 0.614501971222673, 0.6057221017372187, 0.5963808970154535, 0.5873966178558905, 0.5783164180159511, 0.5691448581524335, 0.5598865411290419, 0.5505461096663096, 0.5411282439757423, 0.5316376593793957, 0.5220791039161063, 0.5124573559355996, 0.5025575669614688, 0.492824069500059, 0.48304173853323407, 0.47321547375876627, 0.4633501931438761, 0.45345083044774753, 0.443522332740491, 0.43356965791979923, 0.42359777222653816, 0.4136116477605135, 0.4036445749857326, 0.39364490706441063, 0.38364591629088574, 0.37365259824480945, 0.3636699419311588, 0.35370292729829494, 0.3437565227648737, 0.33383568275682096, 0.32394534525557844, 0.3140904293588148, 0.3045507123529066, 0.29478113115246574, 0.28506170414797255, 0.2753972748834976, 0.26579265581059786, 0.2562526259250913, 0.2467819284246475, 0.2373852683883165, 0.2280673104791028, 0.21883267667067724, 0.21019374646196848, 0.2011390905652704, 0.19218157689202697, 0.18332565657839286, 0.17457572669320998, 0.1659361281107779, 0.15741114341537274, 0.1490049948384881, 0.14072184222975267, 0.13256578106246, 0.12525636500311627, 0.11736599313324092, 0.10961493060164015, 0.10200701523838934, 0.09454601051467004, 0.08723560375710547, 0.08007940440320055, 0.07308094229866431, 0.0662436660373693, 0.059570941344679176, 0.053953786501442676, 0.04761927703182839, 0.04145933045977717, 0.03547698084788688, 0.029675171298516614, 0.024056752598304976, 0.018624481911109228, 0.013381021519908588, 0.008328937618188734, 0.0034706991512987347, -0.00017542987599434486, -0.0046397119248456405, -0.00890284061366992, -0.012962736219882157, -0.01681742206836395, -0.020465025389493505, -0.023903778123841344, -0.027132017673250144, -0.030148187598044662, -0.032950838260145165, -0.034444993691415446, -0.03681749775989917, -0.0389722407173319, -0.04090820039229555, -0.04262446463409218, -0.04412023163074045, -0.04539481017137124, -0.046447619853016556, -0.04727819123181316, -0.047886165918670356, -0.04715419675532239, -0.0473171817154621]]\n"
     ]
    },
    {
     "data": {
      "image/png": "[encoded data removed]",
      "text/plain": [
       "<Figure size 432x288 with 1 Axes>"
      ]
     },
     "metadata": {
      "needs_background": "light"
     },
     "output_type": "display_data"
    }
   ],
   "source": [
    "c=0.2\n",
    "data=simple_contour(h,float(c))\n",
    "print(data)\n",
    "plt.plot(data[0],data[1])\n",
    "plt.grid()\n",
    "plt.title(f\"Courbe de niveau pour c={float(c)}\")\n",
    "plt.xlabel(\"x\")\n",
    "plt.ylabel(\"y\")\n",
    "plt.show()"
   ]
  },
  {
   "cell_type": "markdown",
   "metadata": {},
   "source": [
    "# 2ème partie : Contour complexe"
   ]
  },
  {
   "cell_type": "code",
   "execution_count": null,
   "metadata": {},
   "outputs": [],
   "source": []
  }
 ],
 "metadata": {
  "kernelspec": {
   "display_name": "Python 3",
   "language": "python",
   "name": "python3"
  },
  "language_info": {
   "codemirror_mode": {
    "name": "ipython",
    "version": 3
   },
   "file_extension": ".py",
   "mimetype": "text/x-python",
   "name": "python",
   "nbconvert_exporter": "python",
   "pygments_lexer": "ipython3",
   "version": "3.7.3"
  }
 },
 "nbformat": 4,
 "nbformat_minor": 2
}
